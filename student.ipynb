{
  "cells": [
    {
      "cell_type": "markdown",
      "metadata": {
        "id": "aOnSaFdiYNZd"
      },
      "source": [
        "# BUILDING A COLLABORATIVE RECOMMENDATION SYSTEM FOR MOVIELENS"
      ]
    },
    {
      "cell_type": "markdown",
      "metadata": {
        "id": "WnLNO06wYNHX"
      },
      "source": [
        "# BUSINESS OVERVIEW:\n",
        "\n",
        "XMovies is a digital cinema company providing movies and tv shows on demand through their subscription platform. The company is seeking to develop a recommendation system based on user ratings that can enhance user satisfaction, engagement, and revenue generation for the platform. The system should leverage data science techniques to analyze user preferences and generate accurate and personalized recommendations, thereby increasing user retention, driving user interaction, and boosting overall platform usage.This will also grants a competitive advantage to other platforms offering the same services."
      ]
    },
    {
      "cell_type": "markdown",
      "metadata": {
        "id": "aeVeWWeBYM8v"
      },
      "source": [
        "# PROBLEM STATEMENT\n",
        "\n",
        "We are working for a leading video streaming platform that offers a vast collection of movies to its users. The company’s customers are struggling to discover new movies that align with their interests. This leads to decreased user satisfaction, lower engagement, and ultimately affects revenue generation for the platform. The current recommendation system fails to accurately analyze user preferences and provide personalized movie suggestions, resulting in an unsatisfactory user experience."
      ]
    },
    {
      "cell_type": "markdown",
      "metadata": {
        "id": "ViZYBfr9YM0h"
      },
      "source": [
        "# PROJECT OBJECTIVE\n",
        "\n",
        "* **Main Objective:**\n",
        "\n",
        "The primary goal of the project is to build a movie recommendation system that provides top 5 movie recommendations to a user based on their ratings of other movies.\n",
        "\n",
        "* **Specific Objectives**\n",
        "\n",
        "1. To enhance user satisfaction by providing accurate and personalized movie recommendations that align with each user's individual tastes and interests.\n",
        "2. Improve user retention by delivering a highly engaging and satisfying user experience through personalized recommendations."
      ]
    },
    {
      "cell_type": "markdown",
      "metadata": {
        "id": "Dyuo40-2YMon"
      },
      "source": [
        "# 1. DATA EXPLORATION\n",
        "\n",
        " **DATA UNDERSTANDING**\n",
        "\n",
        "For this project we will use the MovieLens dataset (ml-latest-small)as provided by the GroupLens research lab at the University of Minnesota. The dataset describes 5-star rating and free-text tagging activity from [MovieLens](http://movielens.org), a movie recommendation service. It contains 100836 ratings and 3683 tag applications across 9742 movies. These data were created by 610 users between March 29, 1996 and September 24, 2018. This dataset was generated on September 26, 2018.\n",
        "\n",
        "The dataset is divided into 4:\n",
        "\n",
        "1. Movie dataset\n",
        "2. Ratings dataset\n",
        "3. Tags dataset\n",
        "4. Links dataset"
      ]
    },
    {
      "cell_type": "markdown",
      "metadata": {
        "id": "fJiFTePSYMXd"
      },
      "source": [
        "* Importing Libraries"
      ]
    },
    {
      "cell_type": "code",
      "execution_count": 1,
      "metadata": {
        "id": "sGnIFWMGk9M8"
      },
      "outputs": [],
      "source": [
        "# Import standard packages\n",
        "import pandas as pd\n",
        "import numpy as np\n",
        "import matplotlib.pyplot as plt\n",
        "import seaborn as sns\n",
        "from scipy import stats\n",
        "%matplotlib inline\n",
        "import seaborn as sns\n",
        "\n",
        "import warnings\n",
        "warnings.simplefilter(action='ignore', category=FutureWarning) # setting ignore as a parameter and further adding category"
      ]
    },
    {
      "cell_type": "markdown",
      "metadata": {
        "id": "LtQGmhvdYqrB"
      },
      "source": [
        "# 1.2 LOAD AND EXPLORE DATA"
      ]
    },
    {
      "cell_type": "markdown",
      "metadata": {
        "id": "Ws0bEXkRYxQ_"
      },
      "source": [
        "Load and explore the movie dataset"
      ]
    },
    {
      "cell_type": "code",
      "execution_count": 2,
      "metadata": {
        "id": "1VZQIR-2k-TS"
      },
      "outputs": [],
      "source": [
        "import pandas as pd\n",
        "\n",
        "# Path to the dataset files\n",
        "ratings_file = '/ratings.csv'\n",
        "movies_file = '/movies.csv'\n",
        "users_file = '/users.csv'  # Optional\n",
        "\n",
        "# Load the data\n",
        "ratings_df = pd.read_csv(ratings_file)\n",
        "movies_df = pd.read_csv(movies_file)\n",
        "# Optionally, load the users file\n",
        "# users_df = pd.read_csv(users_file)\n"
      ]
    },
    {
      "cell_type": "code",
      "execution_count": 4,
      "metadata": {
        "colab": {
          "base_uri": "https://localhost:8080/",
          "height": 206
        },
        "id": "viVJjXnelzZF",
        "outputId": "7c76942c-ee4e-4ed4-ad06-5b18779085c7"
      },
      "outputs": [
        {
          "data": {
            "application/vnd.google.colaboratory.intrinsic+json": {
              "summary": "{\n  \"name\": \"df_movies\",\n  \"rows\": 9742,\n  \"fields\": [\n    {\n      \"column\": \"movieId\",\n      \"properties\": {\n        \"dtype\": \"number\",\n        \"std\": 52160,\n        \"min\": 1,\n        \"max\": 193609,\n        \"num_unique_values\": 9742,\n        \"samples\": [\n          45635,\n          1373,\n          7325\n        ],\n        \"semantic_type\": \"\",\n        \"description\": \"\"\n      }\n    },\n    {\n      \"column\": \"title\",\n      \"properties\": {\n        \"dtype\": \"string\",\n        \"num_unique_values\": 9737,\n        \"samples\": [\n          \"Teenage Mutant Ninja Turtles (2014)\",\n          \"America's Sweethearts (2001)\",\n          \"Cast Away (2000)\"\n        ],\n        \"semantic_type\": \"\",\n        \"description\": \"\"\n      }\n    },\n    {\n      \"column\": \"genres\",\n      \"properties\": {\n        \"dtype\": \"category\",\n        \"num_unique_values\": 951,\n        \"samples\": [\n          \"Crime|Mystery|Romance|Thriller\",\n          \"Action|Adventure|Comedy|Western\",\n          \"Crime|Drama|Musical\"\n        ],\n        \"semantic_type\": \"\",\n        \"description\": \"\"\n      }\n    }\n  ]\n}",
              "type": "dataframe",
              "variable_name": "df_movies"
            },
            "text/html": [
              "\n",
              "  <div id=\"df-b6d35538-1c2b-401b-b6ca-16085f67e9c1\" class=\"colab-df-container\">\n",
              "    <div>\n",
              "<style scoped>\n",
              "    .dataframe tbody tr th:only-of-type {\n",
              "        vertical-align: middle;\n",
              "    }\n",
              "\n",
              "    .dataframe tbody tr th {\n",
              "        vertical-align: top;\n",
              "    }\n",
              "\n",
              "    .dataframe thead th {\n",
              "        text-align: right;\n",
              "    }\n",
              "</style>\n",
              "<table border=\"1\" class=\"dataframe\">\n",
              "  <thead>\n",
              "    <tr style=\"text-align: right;\">\n",
              "      <th></th>\n",
              "      <th>movieId</th>\n",
              "      <th>title</th>\n",
              "      <th>genres</th>\n",
              "    </tr>\n",
              "  </thead>\n",
              "  <tbody>\n",
              "    <tr>\n",
              "      <th>0</th>\n",
              "      <td>1</td>\n",
              "      <td>Toy Story (1995)</td>\n",
              "      <td>Adventure|Animation|Children|Comedy|Fantasy</td>\n",
              "    </tr>\n",
              "    <tr>\n",
              "      <th>1</th>\n",
              "      <td>2</td>\n",
              "      <td>Jumanji (1995)</td>\n",
              "      <td>Adventure|Children|Fantasy</td>\n",
              "    </tr>\n",
              "    <tr>\n",
              "      <th>2</th>\n",
              "      <td>3</td>\n",
              "      <td>Grumpier Old Men (1995)</td>\n",
              "      <td>Comedy|Romance</td>\n",
              "    </tr>\n",
              "    <tr>\n",
              "      <th>3</th>\n",
              "      <td>4</td>\n",
              "      <td>Waiting to Exhale (1995)</td>\n",
              "      <td>Comedy|Drama|Romance</td>\n",
              "    </tr>\n",
              "    <tr>\n",
              "      <th>4</th>\n",
              "      <td>5</td>\n",
              "      <td>Father of the Bride Part II (1995)</td>\n",
              "      <td>Comedy</td>\n",
              "    </tr>\n",
              "  </tbody>\n",
              "</table>\n",
              "</div>\n",
              "    <div class=\"colab-df-buttons\">\n",
              "\n",
              "  <div class=\"colab-df-container\">\n",
              "    <button class=\"colab-df-convert\" onclick=\"convertToInteractive('df-b6d35538-1c2b-401b-b6ca-16085f67e9c1')\"\n",
              "            title=\"Convert this dataframe to an interactive table.\"\n",
              "            style=\"display:none;\">\n",
              "\n",
              "  <svg xmlns=\"http://www.w3.org/2000/svg\" height=\"24px\" viewBox=\"0 -960 960 960\">\n",
              "    <path d=\"M120-120v-720h720v720H120Zm60-500h600v-160H180v160Zm220 220h160v-160H400v160Zm0 220h160v-160H400v160ZM180-400h160v-160H180v160Zm440 0h160v-160H620v160ZM180-180h160v-160H180v160Zm440 0h160v-160H620v160Z\"/>\n",
              "  </svg>\n",
              "    </button>\n",
              "\n",
              "  <style>\n",
              "    .colab-df-container {\n",
              "      display:flex;\n",
              "      gap: 12px;\n",
              "    }\n",
              "\n",
              "    .colab-df-convert {\n",
              "      background-color: #E8F0FE;\n",
              "      border: none;\n",
              "      border-radius: 50%;\n",
              "      cursor: pointer;\n",
              "      display: none;\n",
              "      fill: #1967D2;\n",
              "      height: 32px;\n",
              "      padding: 0 0 0 0;\n",
              "      width: 32px;\n",
              "    }\n",
              "\n",
              "    .colab-df-convert:hover {\n",
              "      background-color: #E2EBFA;\n",
              "      box-shadow: 0px 1px 2px rgba(60, 64, 67, 0.3), 0px 1px 3px 1px rgba(60, 64, 67, 0.15);\n",
              "      fill: #174EA6;\n",
              "    }\n",
              "\n",
              "    .colab-df-buttons div {\n",
              "      margin-bottom: 4px;\n",
              "    }\n",
              "\n",
              "    [theme=dark] .colab-df-convert {\n",
              "      background-color: #3B4455;\n",
              "      fill: #D2E3FC;\n",
              "    }\n",
              "\n",
              "    [theme=dark] .colab-df-convert:hover {\n",
              "      background-color: #434B5C;\n",
              "      box-shadow: 0px 1px 3px 1px rgba(0, 0, 0, 0.15);\n",
              "      filter: drop-shadow(0px 1px 2px rgba(0, 0, 0, 0.3));\n",
              "      fill: #FFFFFF;\n",
              "    }\n",
              "  </style>\n",
              "\n",
              "    <script>\n",
              "      const buttonEl =\n",
              "        document.querySelector('#df-b6d35538-1c2b-401b-b6ca-16085f67e9c1 button.colab-df-convert');\n",
              "      buttonEl.style.display =\n",
              "        google.colab.kernel.accessAllowed ? 'block' : 'none';\n",
              "\n",
              "      async function convertToInteractive(key) {\n",
              "        const element = document.querySelector('#df-b6d35538-1c2b-401b-b6ca-16085f67e9c1');\n",
              "        const dataTable =\n",
              "          await google.colab.kernel.invokeFunction('convertToInteractive',\n",
              "                                                    [key], {});\n",
              "        if (!dataTable) return;\n",
              "\n",
              "        const docLinkHtml = 'Like what you see? Visit the ' +\n",
              "          '<a target=\"_blank\" href=https://colab.research.google.com/notebooks/data_table.ipynb>data table notebook</a>'\n",
              "          + ' to learn more about interactive tables.';\n",
              "        element.innerHTML = '';\n",
              "        dataTable['output_type'] = 'display_data';\n",
              "        await google.colab.output.renderOutput(dataTable, element);\n",
              "        const docLink = document.createElement('div');\n",
              "        docLink.innerHTML = docLinkHtml;\n",
              "        element.appendChild(docLink);\n",
              "      }\n",
              "    </script>\n",
              "  </div>\n",
              "\n",
              "\n",
              "<div id=\"df-7d7225a9-e081-442c-b7fb-a1c12f4536f7\">\n",
              "  <button class=\"colab-df-quickchart\" onclick=\"quickchart('df-7d7225a9-e081-442c-b7fb-a1c12f4536f7')\"\n",
              "            title=\"Suggest charts\"\n",
              "            style=\"display:none;\">\n",
              "\n",
              "<svg xmlns=\"http://www.w3.org/2000/svg\" height=\"24px\"viewBox=\"0 0 24 24\"\n",
              "     width=\"24px\">\n",
              "    <g>\n",
              "        <path d=\"M19 3H5c-1.1 0-2 .9-2 2v14c0 1.1.9 2 2 2h14c1.1 0 2-.9 2-2V5c0-1.1-.9-2-2-2zM9 17H7v-7h2v7zm4 0h-2V7h2v10zm4 0h-2v-4h2v4z\"/>\n",
              "    </g>\n",
              "</svg>\n",
              "  </button>\n",
              "\n",
              "<style>\n",
              "  .colab-df-quickchart {\n",
              "      --bg-color: #E8F0FE;\n",
              "      --fill-color: #1967D2;\n",
              "      --hover-bg-color: #E2EBFA;\n",
              "      --hover-fill-color: #174EA6;\n",
              "      --disabled-fill-color: #AAA;\n",
              "      --disabled-bg-color: #DDD;\n",
              "  }\n",
              "\n",
              "  [theme=dark] .colab-df-quickchart {\n",
              "      --bg-color: #3B4455;\n",
              "      --fill-color: #D2E3FC;\n",
              "      --hover-bg-color: #434B5C;\n",
              "      --hover-fill-color: #FFFFFF;\n",
              "      --disabled-bg-color: #3B4455;\n",
              "      --disabled-fill-color: #666;\n",
              "  }\n",
              "\n",
              "  .colab-df-quickchart {\n",
              "    background-color: var(--bg-color);\n",
              "    border: none;\n",
              "    border-radius: 50%;\n",
              "    cursor: pointer;\n",
              "    display: none;\n",
              "    fill: var(--fill-color);\n",
              "    height: 32px;\n",
              "    padding: 0;\n",
              "    width: 32px;\n",
              "  }\n",
              "\n",
              "  .colab-df-quickchart:hover {\n",
              "    background-color: var(--hover-bg-color);\n",
              "    box-shadow: 0 1px 2px rgba(60, 64, 67, 0.3), 0 1px 3px 1px rgba(60, 64, 67, 0.15);\n",
              "    fill: var(--button-hover-fill-color);\n",
              "  }\n",
              "\n",
              "  .colab-df-quickchart-complete:disabled,\n",
              "  .colab-df-quickchart-complete:disabled:hover {\n",
              "    background-color: var(--disabled-bg-color);\n",
              "    fill: var(--disabled-fill-color);\n",
              "    box-shadow: none;\n",
              "  }\n",
              "\n",
              "  .colab-df-spinner {\n",
              "    border: 2px solid var(--fill-color);\n",
              "    border-color: transparent;\n",
              "    border-bottom-color: var(--fill-color);\n",
              "    animation:\n",
              "      spin 1s steps(1) infinite;\n",
              "  }\n",
              "\n",
              "  @keyframes spin {\n",
              "    0% {\n",
              "      border-color: transparent;\n",
              "      border-bottom-color: var(--fill-color);\n",
              "      border-left-color: var(--fill-color);\n",
              "    }\n",
              "    20% {\n",
              "      border-color: transparent;\n",
              "      border-left-color: var(--fill-color);\n",
              "      border-top-color: var(--fill-color);\n",
              "    }\n",
              "    30% {\n",
              "      border-color: transparent;\n",
              "      border-left-color: var(--fill-color);\n",
              "      border-top-color: var(--fill-color);\n",
              "      border-right-color: var(--fill-color);\n",
              "    }\n",
              "    40% {\n",
              "      border-color: transparent;\n",
              "      border-right-color: var(--fill-color);\n",
              "      border-top-color: var(--fill-color);\n",
              "    }\n",
              "    60% {\n",
              "      border-color: transparent;\n",
              "      border-right-color: var(--fill-color);\n",
              "    }\n",
              "    80% {\n",
              "      border-color: transparent;\n",
              "      border-right-color: var(--fill-color);\n",
              "      border-bottom-color: var(--fill-color);\n",
              "    }\n",
              "    90% {\n",
              "      border-color: transparent;\n",
              "      border-bottom-color: var(--fill-color);\n",
              "    }\n",
              "  }\n",
              "</style>\n",
              "\n",
              "  <script>\n",
              "    async function quickchart(key) {\n",
              "      const quickchartButtonEl =\n",
              "        document.querySelector('#' + key + ' button');\n",
              "      quickchartButtonEl.disabled = true;  // To prevent multiple clicks.\n",
              "      quickchartButtonEl.classList.add('colab-df-spinner');\n",
              "      try {\n",
              "        const charts = await google.colab.kernel.invokeFunction(\n",
              "            'suggestCharts', [key], {});\n",
              "      } catch (error) {\n",
              "        console.error('Error during call to suggestCharts:', error);\n",
              "      }\n",
              "      quickchartButtonEl.classList.remove('colab-df-spinner');\n",
              "      quickchartButtonEl.classList.add('colab-df-quickchart-complete');\n",
              "    }\n",
              "    (() => {\n",
              "      let quickchartButtonEl =\n",
              "        document.querySelector('#df-7d7225a9-e081-442c-b7fb-a1c12f4536f7 button');\n",
              "      quickchartButtonEl.style.display =\n",
              "        google.colab.kernel.accessAllowed ? 'block' : 'none';\n",
              "    })();\n",
              "  </script>\n",
              "</div>\n",
              "\n",
              "    </div>\n",
              "  </div>\n"
            ],
            "text/plain": [
              "   movieId                               title  \\\n",
              "0        1                    Toy Story (1995)   \n",
              "1        2                      Jumanji (1995)   \n",
              "2        3             Grumpier Old Men (1995)   \n",
              "3        4            Waiting to Exhale (1995)   \n",
              "4        5  Father of the Bride Part II (1995)   \n",
              "\n",
              "                                        genres  \n",
              "0  Adventure|Animation|Children|Comedy|Fantasy  \n",
              "1                   Adventure|Children|Fantasy  \n",
              "2                               Comedy|Romance  \n",
              "3                         Comedy|Drama|Romance  \n",
              "4                                       Comedy  "
            ]
          },
          "execution_count": 4,
          "metadata": {},
          "output_type": "execute_result"
        }
      ],
      "source": [
        "df_movies = pd.read_csv(\"/movies.csv\")\n",
        "df_movies.head()"
      ]
    },
    {
      "cell_type": "code",
      "execution_count": 7,
      "metadata": {
        "id": "LJ8vjOdNl44t"
      },
      "outputs": [],
      "source": [
        "# importing relevant libraries\n",
        "import surprise\n",
        "from surprise import Dataset, Reader, KNNBasic\n",
        "from surprise.model_selection import train_test_split\n",
        "from surprise import Dataset\n",
        "from surprise import Reader\n",
        "from surprise.model_selection import train_test_split\n",
        "from surprise.model_selection import cross_validate\n",
        "from surprise.prediction_algorithms import SVD\n",
        "from surprise.prediction_algorithms import KNNWithMeans, KNNBasic, KNNBaseline\n",
        "from surprise.model_selection import GridSearchCV\n",
        "import numpy as np"
      ]
    },
    {
      "cell_type": "code",
      "execution_count": 10,
      "metadata": {
        "colab": {
          "base_uri": "https://localhost:8080/",
          "height": 206
        },
        "id": "B3H8RNFum1vK",
        "outputId": "8855a25b-8df8-40d6-8eb4-a5df87c53734"
      },
      "outputs": [
        {
          "data": {
            "application/vnd.google.colaboratory.intrinsic+json": {
              "summary": "{\n  \"name\": \"df_movies\",\n  \"rows\": 9742,\n  \"fields\": [\n    {\n      \"column\": \"movieId\",\n      \"properties\": {\n        \"dtype\": \"number\",\n        \"std\": 52160,\n        \"min\": 1,\n        \"max\": 193609,\n        \"num_unique_values\": 9742,\n        \"samples\": [\n          45635,\n          1373,\n          7325\n        ],\n        \"semantic_type\": \"\",\n        \"description\": \"\"\n      }\n    },\n    {\n      \"column\": \"title\",\n      \"properties\": {\n        \"dtype\": \"string\",\n        \"num_unique_values\": 9737,\n        \"samples\": [\n          \"Teenage Mutant Ninja Turtles (2014)\",\n          \"America's Sweethearts (2001)\",\n          \"Cast Away (2000)\"\n        ],\n        \"semantic_type\": \"\",\n        \"description\": \"\"\n      }\n    },\n    {\n      \"column\": \"genres\",\n      \"properties\": {\n        \"dtype\": \"category\",\n        \"num_unique_values\": 951,\n        \"samples\": [\n          \"Crime|Mystery|Romance|Thriller\",\n          \"Action|Adventure|Comedy|Western\",\n          \"Crime|Drama|Musical\"\n        ],\n        \"semantic_type\": \"\",\n        \"description\": \"\"\n      }\n    }\n  ]\n}",
              "type": "dataframe",
              "variable_name": "df_movies"
            },
            "text/html": [
              "\n",
              "  <div id=\"df-49727296-c6fe-43e1-8b74-c8a50c44e3cf\" class=\"colab-df-container\">\n",
              "    <div>\n",
              "<style scoped>\n",
              "    .dataframe tbody tr th:only-of-type {\n",
              "        vertical-align: middle;\n",
              "    }\n",
              "\n",
              "    .dataframe tbody tr th {\n",
              "        vertical-align: top;\n",
              "    }\n",
              "\n",
              "    .dataframe thead th {\n",
              "        text-align: right;\n",
              "    }\n",
              "</style>\n",
              "<table border=\"1\" class=\"dataframe\">\n",
              "  <thead>\n",
              "    <tr style=\"text-align: right;\">\n",
              "      <th></th>\n",
              "      <th>movieId</th>\n",
              "      <th>title</th>\n",
              "      <th>genres</th>\n",
              "    </tr>\n",
              "  </thead>\n",
              "  <tbody>\n",
              "    <tr>\n",
              "      <th>0</th>\n",
              "      <td>1</td>\n",
              "      <td>Toy Story (1995)</td>\n",
              "      <td>Adventure|Animation|Children|Comedy|Fantasy</td>\n",
              "    </tr>\n",
              "    <tr>\n",
              "      <th>1</th>\n",
              "      <td>2</td>\n",
              "      <td>Jumanji (1995)</td>\n",
              "      <td>Adventure|Children|Fantasy</td>\n",
              "    </tr>\n",
              "    <tr>\n",
              "      <th>2</th>\n",
              "      <td>3</td>\n",
              "      <td>Grumpier Old Men (1995)</td>\n",
              "      <td>Comedy|Romance</td>\n",
              "    </tr>\n",
              "    <tr>\n",
              "      <th>3</th>\n",
              "      <td>4</td>\n",
              "      <td>Waiting to Exhale (1995)</td>\n",
              "      <td>Comedy|Drama|Romance</td>\n",
              "    </tr>\n",
              "    <tr>\n",
              "      <th>4</th>\n",
              "      <td>5</td>\n",
              "      <td>Father of the Bride Part II (1995)</td>\n",
              "      <td>Comedy</td>\n",
              "    </tr>\n",
              "  </tbody>\n",
              "</table>\n",
              "</div>\n",
              "    <div class=\"colab-df-buttons\">\n",
              "\n",
              "  <div class=\"colab-df-container\">\n",
              "    <button class=\"colab-df-convert\" onclick=\"convertToInteractive('df-49727296-c6fe-43e1-8b74-c8a50c44e3cf')\"\n",
              "            title=\"Convert this dataframe to an interactive table.\"\n",
              "            style=\"display:none;\">\n",
              "\n",
              "  <svg xmlns=\"http://www.w3.org/2000/svg\" height=\"24px\" viewBox=\"0 -960 960 960\">\n",
              "    <path d=\"M120-120v-720h720v720H120Zm60-500h600v-160H180v160Zm220 220h160v-160H400v160Zm0 220h160v-160H400v160ZM180-400h160v-160H180v160Zm440 0h160v-160H620v160ZM180-180h160v-160H180v160Zm440 0h160v-160H620v160Z\"/>\n",
              "  </svg>\n",
              "    </button>\n",
              "\n",
              "  <style>\n",
              "    .colab-df-container {\n",
              "      display:flex;\n",
              "      gap: 12px;\n",
              "    }\n",
              "\n",
              "    .colab-df-convert {\n",
              "      background-color: #E8F0FE;\n",
              "      border: none;\n",
              "      border-radius: 50%;\n",
              "      cursor: pointer;\n",
              "      display: none;\n",
              "      fill: #1967D2;\n",
              "      height: 32px;\n",
              "      padding: 0 0 0 0;\n",
              "      width: 32px;\n",
              "    }\n",
              "\n",
              "    .colab-df-convert:hover {\n",
              "      background-color: #E2EBFA;\n",
              "      box-shadow: 0px 1px 2px rgba(60, 64, 67, 0.3), 0px 1px 3px 1px rgba(60, 64, 67, 0.15);\n",
              "      fill: #174EA6;\n",
              "    }\n",
              "\n",
              "    .colab-df-buttons div {\n",
              "      margin-bottom: 4px;\n",
              "    }\n",
              "\n",
              "    [theme=dark] .colab-df-convert {\n",
              "      background-color: #3B4455;\n",
              "      fill: #D2E3FC;\n",
              "    }\n",
              "\n",
              "    [theme=dark] .colab-df-convert:hover {\n",
              "      background-color: #434B5C;\n",
              "      box-shadow: 0px 1px 3px 1px rgba(0, 0, 0, 0.15);\n",
              "      filter: drop-shadow(0px 1px 2px rgba(0, 0, 0, 0.3));\n",
              "      fill: #FFFFFF;\n",
              "    }\n",
              "  </style>\n",
              "\n",
              "    <script>\n",
              "      const buttonEl =\n",
              "        document.querySelector('#df-49727296-c6fe-43e1-8b74-c8a50c44e3cf button.colab-df-convert');\n",
              "      buttonEl.style.display =\n",
              "        google.colab.kernel.accessAllowed ? 'block' : 'none';\n",
              "\n",
              "      async function convertToInteractive(key) {\n",
              "        const element = document.querySelector('#df-49727296-c6fe-43e1-8b74-c8a50c44e3cf');\n",
              "        const dataTable =\n",
              "          await google.colab.kernel.invokeFunction('convertToInteractive',\n",
              "                                                    [key], {});\n",
              "        if (!dataTable) return;\n",
              "\n",
              "        const docLinkHtml = 'Like what you see? Visit the ' +\n",
              "          '<a target=\"_blank\" href=https://colab.research.google.com/notebooks/data_table.ipynb>data table notebook</a>'\n",
              "          + ' to learn more about interactive tables.';\n",
              "        element.innerHTML = '';\n",
              "        dataTable['output_type'] = 'display_data';\n",
              "        await google.colab.output.renderOutput(dataTable, element);\n",
              "        const docLink = document.createElement('div');\n",
              "        docLink.innerHTML = docLinkHtml;\n",
              "        element.appendChild(docLink);\n",
              "      }\n",
              "    </script>\n",
              "  </div>\n",
              "\n",
              "\n",
              "<div id=\"df-c43488b3-e799-4ce0-a6e2-0260cfe9e7b3\">\n",
              "  <button class=\"colab-df-quickchart\" onclick=\"quickchart('df-c43488b3-e799-4ce0-a6e2-0260cfe9e7b3')\"\n",
              "            title=\"Suggest charts\"\n",
              "            style=\"display:none;\">\n",
              "\n",
              "<svg xmlns=\"http://www.w3.org/2000/svg\" height=\"24px\"viewBox=\"0 0 24 24\"\n",
              "     width=\"24px\">\n",
              "    <g>\n",
              "        <path d=\"M19 3H5c-1.1 0-2 .9-2 2v14c0 1.1.9 2 2 2h14c1.1 0 2-.9 2-2V5c0-1.1-.9-2-2-2zM9 17H7v-7h2v7zm4 0h-2V7h2v10zm4 0h-2v-4h2v4z\"/>\n",
              "    </g>\n",
              "</svg>\n",
              "  </button>\n",
              "\n",
              "<style>\n",
              "  .colab-df-quickchart {\n",
              "      --bg-color: #E8F0FE;\n",
              "      --fill-color: #1967D2;\n",
              "      --hover-bg-color: #E2EBFA;\n",
              "      --hover-fill-color: #174EA6;\n",
              "      --disabled-fill-color: #AAA;\n",
              "      --disabled-bg-color: #DDD;\n",
              "  }\n",
              "\n",
              "  [theme=dark] .colab-df-quickchart {\n",
              "      --bg-color: #3B4455;\n",
              "      --fill-color: #D2E3FC;\n",
              "      --hover-bg-color: #434B5C;\n",
              "      --hover-fill-color: #FFFFFF;\n",
              "      --disabled-bg-color: #3B4455;\n",
              "      --disabled-fill-color: #666;\n",
              "  }\n",
              "\n",
              "  .colab-df-quickchart {\n",
              "    background-color: var(--bg-color);\n",
              "    border: none;\n",
              "    border-radius: 50%;\n",
              "    cursor: pointer;\n",
              "    display: none;\n",
              "    fill: var(--fill-color);\n",
              "    height: 32px;\n",
              "    padding: 0;\n",
              "    width: 32px;\n",
              "  }\n",
              "\n",
              "  .colab-df-quickchart:hover {\n",
              "    background-color: var(--hover-bg-color);\n",
              "    box-shadow: 0 1px 2px rgba(60, 64, 67, 0.3), 0 1px 3px 1px rgba(60, 64, 67, 0.15);\n",
              "    fill: var(--button-hover-fill-color);\n",
              "  }\n",
              "\n",
              "  .colab-df-quickchart-complete:disabled,\n",
              "  .colab-df-quickchart-complete:disabled:hover {\n",
              "    background-color: var(--disabled-bg-color);\n",
              "    fill: var(--disabled-fill-color);\n",
              "    box-shadow: none;\n",
              "  }\n",
              "\n",
              "  .colab-df-spinner {\n",
              "    border: 2px solid var(--fill-color);\n",
              "    border-color: transparent;\n",
              "    border-bottom-color: var(--fill-color);\n",
              "    animation:\n",
              "      spin 1s steps(1) infinite;\n",
              "  }\n",
              "\n",
              "  @keyframes spin {\n",
              "    0% {\n",
              "      border-color: transparent;\n",
              "      border-bottom-color: var(--fill-color);\n",
              "      border-left-color: var(--fill-color);\n",
              "    }\n",
              "    20% {\n",
              "      border-color: transparent;\n",
              "      border-left-color: var(--fill-color);\n",
              "      border-top-color: var(--fill-color);\n",
              "    }\n",
              "    30% {\n",
              "      border-color: transparent;\n",
              "      border-left-color: var(--fill-color);\n",
              "      border-top-color: var(--fill-color);\n",
              "      border-right-color: var(--fill-color);\n",
              "    }\n",
              "    40% {\n",
              "      border-color: transparent;\n",
              "      border-right-color: var(--fill-color);\n",
              "      border-top-color: var(--fill-color);\n",
              "    }\n",
              "    60% {\n",
              "      border-color: transparent;\n",
              "      border-right-color: var(--fill-color);\n",
              "    }\n",
              "    80% {\n",
              "      border-color: transparent;\n",
              "      border-right-color: var(--fill-color);\n",
              "      border-bottom-color: var(--fill-color);\n",
              "    }\n",
              "    90% {\n",
              "      border-color: transparent;\n",
              "      border-bottom-color: var(--fill-color);\n",
              "    }\n",
              "  }\n",
              "</style>\n",
              "\n",
              "  <script>\n",
              "    async function quickchart(key) {\n",
              "      const quickchartButtonEl =\n",
              "        document.querySelector('#' + key + ' button');\n",
              "      quickchartButtonEl.disabled = true;  // To prevent multiple clicks.\n",
              "      quickchartButtonEl.classList.add('colab-df-spinner');\n",
              "      try {\n",
              "        const charts = await google.colab.kernel.invokeFunction(\n",
              "            'suggestCharts', [key], {});\n",
              "      } catch (error) {\n",
              "        console.error('Error during call to suggestCharts:', error);\n",
              "      }\n",
              "      quickchartButtonEl.classList.remove('colab-df-spinner');\n",
              "      quickchartButtonEl.classList.add('colab-df-quickchart-complete');\n",
              "    }\n",
              "    (() => {\n",
              "      let quickchartButtonEl =\n",
              "        document.querySelector('#df-c43488b3-e799-4ce0-a6e2-0260cfe9e7b3 button');\n",
              "      quickchartButtonEl.style.display =\n",
              "        google.colab.kernel.accessAllowed ? 'block' : 'none';\n",
              "    })();\n",
              "  </script>\n",
              "</div>\n",
              "\n",
              "    </div>\n",
              "  </div>\n"
            ],
            "text/plain": [
              "   movieId                               title  \\\n",
              "0        1                    Toy Story (1995)   \n",
              "1        2                      Jumanji (1995)   \n",
              "2        3             Grumpier Old Men (1995)   \n",
              "3        4            Waiting to Exhale (1995)   \n",
              "4        5  Father of the Bride Part II (1995)   \n",
              "\n",
              "                                        genres  \n",
              "0  Adventure|Animation|Children|Comedy|Fantasy  \n",
              "1                   Adventure|Children|Fantasy  \n",
              "2                               Comedy|Romance  \n",
              "3                         Comedy|Drama|Romance  \n",
              "4                                       Comedy  "
            ]
          },
          "execution_count": 10,
          "metadata": {},
          "output_type": "execute_result"
        }
      ],
      "source": [
        "df_movies = pd.read_csv(\"/movies.csv\")\n",
        "df_movies.head()"
      ]
    },
    {
      "cell_type": "code",
      "execution_count": 11,
      "metadata": {
        "colab": {
          "base_uri": "https://localhost:8080/"
        },
        "id": "Xs52ZWhTnKtx",
        "outputId": "9991da50-ae66-406f-966a-525926470e0e"
      },
      "outputs": [
        {
          "name": "stdout",
          "output_type": "stream",
          "text": [
            "<class 'pandas.core.frame.DataFrame'>\n",
            "RangeIndex: 9742 entries, 0 to 9741\n",
            "Data columns (total 3 columns):\n",
            " #   Column   Non-Null Count  Dtype \n",
            "---  ------   --------------  ----- \n",
            " 0   movieId  9742 non-null   int64 \n",
            " 1   title    9742 non-null   object\n",
            " 2   genres   9742 non-null   object\n",
            "dtypes: int64(1), object(2)\n",
            "memory usage: 228.5+ KB\n"
          ]
        }
      ],
      "source": [
        "df_movies.info()"
      ]
    },
    {
      "cell_type": "code",
      "execution_count": 12,
      "metadata": {
        "colab": {
          "base_uri": "https://localhost:8080/"
        },
        "id": "NCLNi3sOnjG_",
        "outputId": "64cf11d6-58b7-4a09-910c-9943e6f34e2b"
      },
      "outputs": [
        {
          "data": {
            "text/plain": [
              "(9742, 3)"
            ]
          },
          "execution_count": 12,
          "metadata": {},
          "output_type": "execute_result"
        }
      ],
      "source": [
        "#check dataset shape\n",
        "df_movies.shape"
      ]
    },
    {
      "cell_type": "code",
      "execution_count": 13,
      "metadata": {
        "colab": {
          "base_uri": "https://localhost:8080/"
        },
        "id": "7CGubCxdnjqP",
        "outputId": "68be36a9-8f4e-4de0-97f7-806c63a0fc45"
      },
      "outputs": [
        {
          "name": "stdout",
          "output_type": "stream",
          "text": [
            "For movieId,9742 unique values present\n",
            "For title,9737 unique values present\n",
            "For genres,951 unique values present\n"
          ]
        }
      ],
      "source": [
        "#check for uniqueness\n",
        "for data_mov in df_movies:\n",
        "    print('For {},{} unique values present'.format(data_mov,df_movies[data_mov].nunique()))"
      ]
    },
    {
      "cell_type": "markdown",
      "metadata": {
        "id": "nlWJRu6rZFiy"
      },
      "source": [
        "Load and explore the ratings dataset"
      ]
    },
    {
      "cell_type": "code",
      "execution_count": 15,
      "metadata": {
        "colab": {
          "base_uri": "https://localhost:8080/",
          "height": 206
        },
        "id": "XN3gGQlRnmJ-",
        "outputId": "6b0e4a6a-a21e-47eb-ec02-f71758dfbc78"
      },
      "outputs": [
        {
          "data": {
            "application/vnd.google.colaboratory.intrinsic+json": {
              "type": "dataframe",
              "variable_name": "df_ratings"
            },
            "text/html": [
              "\n",
              "  <div id=\"df-5f7cc0dc-74c2-4db6-99e0-4027176fc4eb\" class=\"colab-df-container\">\n",
              "    <div>\n",
              "<style scoped>\n",
              "    .dataframe tbody tr th:only-of-type {\n",
              "        vertical-align: middle;\n",
              "    }\n",
              "\n",
              "    .dataframe tbody tr th {\n",
              "        vertical-align: top;\n",
              "    }\n",
              "\n",
              "    .dataframe thead th {\n",
              "        text-align: right;\n",
              "    }\n",
              "</style>\n",
              "<table border=\"1\" class=\"dataframe\">\n",
              "  <thead>\n",
              "    <tr style=\"text-align: right;\">\n",
              "      <th></th>\n",
              "      <th>userId</th>\n",
              "      <th>movieId</th>\n",
              "      <th>rating</th>\n",
              "      <th>timestamp</th>\n",
              "    </tr>\n",
              "  </thead>\n",
              "  <tbody>\n",
              "    <tr>\n",
              "      <th>0</th>\n",
              "      <td>1</td>\n",
              "      <td>1</td>\n",
              "      <td>4.0</td>\n",
              "      <td>964982703</td>\n",
              "    </tr>\n",
              "    <tr>\n",
              "      <th>1</th>\n",
              "      <td>1</td>\n",
              "      <td>3</td>\n",
              "      <td>4.0</td>\n",
              "      <td>964981247</td>\n",
              "    </tr>\n",
              "    <tr>\n",
              "      <th>2</th>\n",
              "      <td>1</td>\n",
              "      <td>6</td>\n",
              "      <td>4.0</td>\n",
              "      <td>964982224</td>\n",
              "    </tr>\n",
              "    <tr>\n",
              "      <th>3</th>\n",
              "      <td>1</td>\n",
              "      <td>47</td>\n",
              "      <td>5.0</td>\n",
              "      <td>964983815</td>\n",
              "    </tr>\n",
              "    <tr>\n",
              "      <th>4</th>\n",
              "      <td>1</td>\n",
              "      <td>50</td>\n",
              "      <td>5.0</td>\n",
              "      <td>964982931</td>\n",
              "    </tr>\n",
              "  </tbody>\n",
              "</table>\n",
              "</div>\n",
              "    <div class=\"colab-df-buttons\">\n",
              "\n",
              "  <div class=\"colab-df-container\">\n",
              "    <button class=\"colab-df-convert\" onclick=\"convertToInteractive('df-5f7cc0dc-74c2-4db6-99e0-4027176fc4eb')\"\n",
              "            title=\"Convert this dataframe to an interactive table.\"\n",
              "            style=\"display:none;\">\n",
              "\n",
              "  <svg xmlns=\"http://www.w3.org/2000/svg\" height=\"24px\" viewBox=\"0 -960 960 960\">\n",
              "    <path d=\"M120-120v-720h720v720H120Zm60-500h600v-160H180v160Zm220 220h160v-160H400v160Zm0 220h160v-160H400v160ZM180-400h160v-160H180v160Zm440 0h160v-160H620v160ZM180-180h160v-160H180v160Zm440 0h160v-160H620v160Z\"/>\n",
              "  </svg>\n",
              "    </button>\n",
              "\n",
              "  <style>\n",
              "    .colab-df-container {\n",
              "      display:flex;\n",
              "      gap: 12px;\n",
              "    }\n",
              "\n",
              "    .colab-df-convert {\n",
              "      background-color: #E8F0FE;\n",
              "      border: none;\n",
              "      border-radius: 50%;\n",
              "      cursor: pointer;\n",
              "      display: none;\n",
              "      fill: #1967D2;\n",
              "      height: 32px;\n",
              "      padding: 0 0 0 0;\n",
              "      width: 32px;\n",
              "    }\n",
              "\n",
              "    .colab-df-convert:hover {\n",
              "      background-color: #E2EBFA;\n",
              "      box-shadow: 0px 1px 2px rgba(60, 64, 67, 0.3), 0px 1px 3px 1px rgba(60, 64, 67, 0.15);\n",
              "      fill: #174EA6;\n",
              "    }\n",
              "\n",
              "    .colab-df-buttons div {\n",
              "      margin-bottom: 4px;\n",
              "    }\n",
              "\n",
              "    [theme=dark] .colab-df-convert {\n",
              "      background-color: #3B4455;\n",
              "      fill: #D2E3FC;\n",
              "    }\n",
              "\n",
              "    [theme=dark] .colab-df-convert:hover {\n",
              "      background-color: #434B5C;\n",
              "      box-shadow: 0px 1px 3px 1px rgba(0, 0, 0, 0.15);\n",
              "      filter: drop-shadow(0px 1px 2px rgba(0, 0, 0, 0.3));\n",
              "      fill: #FFFFFF;\n",
              "    }\n",
              "  </style>\n",
              "\n",
              "    <script>\n",
              "      const buttonEl =\n",
              "        document.querySelector('#df-5f7cc0dc-74c2-4db6-99e0-4027176fc4eb button.colab-df-convert');\n",
              "      buttonEl.style.display =\n",
              "        google.colab.kernel.accessAllowed ? 'block' : 'none';\n",
              "\n",
              "      async function convertToInteractive(key) {\n",
              "        const element = document.querySelector('#df-5f7cc0dc-74c2-4db6-99e0-4027176fc4eb');\n",
              "        const dataTable =\n",
              "          await google.colab.kernel.invokeFunction('convertToInteractive',\n",
              "                                                    [key], {});\n",
              "        if (!dataTable) return;\n",
              "\n",
              "        const docLinkHtml = 'Like what you see? Visit the ' +\n",
              "          '<a target=\"_blank\" href=https://colab.research.google.com/notebooks/data_table.ipynb>data table notebook</a>'\n",
              "          + ' to learn more about interactive tables.';\n",
              "        element.innerHTML = '';\n",
              "        dataTable['output_type'] = 'display_data';\n",
              "        await google.colab.output.renderOutput(dataTable, element);\n",
              "        const docLink = document.createElement('div');\n",
              "        docLink.innerHTML = docLinkHtml;\n",
              "        element.appendChild(docLink);\n",
              "      }\n",
              "    </script>\n",
              "  </div>\n",
              "\n",
              "\n",
              "<div id=\"df-a7dd9436-41ee-42bf-8922-058c8490683d\">\n",
              "  <button class=\"colab-df-quickchart\" onclick=\"quickchart('df-a7dd9436-41ee-42bf-8922-058c8490683d')\"\n",
              "            title=\"Suggest charts\"\n",
              "            style=\"display:none;\">\n",
              "\n",
              "<svg xmlns=\"http://www.w3.org/2000/svg\" height=\"24px\"viewBox=\"0 0 24 24\"\n",
              "     width=\"24px\">\n",
              "    <g>\n",
              "        <path d=\"M19 3H5c-1.1 0-2 .9-2 2v14c0 1.1.9 2 2 2h14c1.1 0 2-.9 2-2V5c0-1.1-.9-2-2-2zM9 17H7v-7h2v7zm4 0h-2V7h2v10zm4 0h-2v-4h2v4z\"/>\n",
              "    </g>\n",
              "</svg>\n",
              "  </button>\n",
              "\n",
              "<style>\n",
              "  .colab-df-quickchart {\n",
              "      --bg-color: #E8F0FE;\n",
              "      --fill-color: #1967D2;\n",
              "      --hover-bg-color: #E2EBFA;\n",
              "      --hover-fill-color: #174EA6;\n",
              "      --disabled-fill-color: #AAA;\n",
              "      --disabled-bg-color: #DDD;\n",
              "  }\n",
              "\n",
              "  [theme=dark] .colab-df-quickchart {\n",
              "      --bg-color: #3B4455;\n",
              "      --fill-color: #D2E3FC;\n",
              "      --hover-bg-color: #434B5C;\n",
              "      --hover-fill-color: #FFFFFF;\n",
              "      --disabled-bg-color: #3B4455;\n",
              "      --disabled-fill-color: #666;\n",
              "  }\n",
              "\n",
              "  .colab-df-quickchart {\n",
              "    background-color: var(--bg-color);\n",
              "    border: none;\n",
              "    border-radius: 50%;\n",
              "    cursor: pointer;\n",
              "    display: none;\n",
              "    fill: var(--fill-color);\n",
              "    height: 32px;\n",
              "    padding: 0;\n",
              "    width: 32px;\n",
              "  }\n",
              "\n",
              "  .colab-df-quickchart:hover {\n",
              "    background-color: var(--hover-bg-color);\n",
              "    box-shadow: 0 1px 2px rgba(60, 64, 67, 0.3), 0 1px 3px 1px rgba(60, 64, 67, 0.15);\n",
              "    fill: var(--button-hover-fill-color);\n",
              "  }\n",
              "\n",
              "  .colab-df-quickchart-complete:disabled,\n",
              "  .colab-df-quickchart-complete:disabled:hover {\n",
              "    background-color: var(--disabled-bg-color);\n",
              "    fill: var(--disabled-fill-color);\n",
              "    box-shadow: none;\n",
              "  }\n",
              "\n",
              "  .colab-df-spinner {\n",
              "    border: 2px solid var(--fill-color);\n",
              "    border-color: transparent;\n",
              "    border-bottom-color: var(--fill-color);\n",
              "    animation:\n",
              "      spin 1s steps(1) infinite;\n",
              "  }\n",
              "\n",
              "  @keyframes spin {\n",
              "    0% {\n",
              "      border-color: transparent;\n",
              "      border-bottom-color: var(--fill-color);\n",
              "      border-left-color: var(--fill-color);\n",
              "    }\n",
              "    20% {\n",
              "      border-color: transparent;\n",
              "      border-left-color: var(--fill-color);\n",
              "      border-top-color: var(--fill-color);\n",
              "    }\n",
              "    30% {\n",
              "      border-color: transparent;\n",
              "      border-left-color: var(--fill-color);\n",
              "      border-top-color: var(--fill-color);\n",
              "      border-right-color: var(--fill-color);\n",
              "    }\n",
              "    40% {\n",
              "      border-color: transparent;\n",
              "      border-right-color: var(--fill-color);\n",
              "      border-top-color: var(--fill-color);\n",
              "    }\n",
              "    60% {\n",
              "      border-color: transparent;\n",
              "      border-right-color: var(--fill-color);\n",
              "    }\n",
              "    80% {\n",
              "      border-color: transparent;\n",
              "      border-right-color: var(--fill-color);\n",
              "      border-bottom-color: var(--fill-color);\n",
              "    }\n",
              "    90% {\n",
              "      border-color: transparent;\n",
              "      border-bottom-color: var(--fill-color);\n",
              "    }\n",
              "  }\n",
              "</style>\n",
              "\n",
              "  <script>\n",
              "    async function quickchart(key) {\n",
              "      const quickchartButtonEl =\n",
              "        document.querySelector('#' + key + ' button');\n",
              "      quickchartButtonEl.disabled = true;  // To prevent multiple clicks.\n",
              "      quickchartButtonEl.classList.add('colab-df-spinner');\n",
              "      try {\n",
              "        const charts = await google.colab.kernel.invokeFunction(\n",
              "            'suggestCharts', [key], {});\n",
              "      } catch (error) {\n",
              "        console.error('Error during call to suggestCharts:', error);\n",
              "      }\n",
              "      quickchartButtonEl.classList.remove('colab-df-spinner');\n",
              "      quickchartButtonEl.classList.add('colab-df-quickchart-complete');\n",
              "    }\n",
              "    (() => {\n",
              "      let quickchartButtonEl =\n",
              "        document.querySelector('#df-a7dd9436-41ee-42bf-8922-058c8490683d button');\n",
              "      quickchartButtonEl.style.display =\n",
              "        google.colab.kernel.accessAllowed ? 'block' : 'none';\n",
              "    })();\n",
              "  </script>\n",
              "</div>\n",
              "\n",
              "    </div>\n",
              "  </div>\n"
            ],
            "text/plain": [
              "   userId  movieId  rating  timestamp\n",
              "0       1        1     4.0  964982703\n",
              "1       1        3     4.0  964981247\n",
              "2       1        6     4.0  964982224\n",
              "3       1       47     5.0  964983815\n",
              "4       1       50     5.0  964982931"
            ]
          },
          "execution_count": 15,
          "metadata": {},
          "output_type": "execute_result"
        }
      ],
      "source": [
        "df_ratings = pd.read_csv(\"/ratings.csv\")\n",
        "df_ratings.head()"
      ]
    },
    {
      "cell_type": "code",
      "execution_count": 16,
      "metadata": {
        "colab": {
          "base_uri": "https://localhost:8080/"
        },
        "id": "bJLnZc55npZG",
        "outputId": "c248336b-8a9a-4ea9-e0d0-ac3949d94dba"
      },
      "outputs": [
        {
          "name": "stdout",
          "output_type": "stream",
          "text": [
            "<class 'pandas.core.frame.DataFrame'>\n",
            "RangeIndex: 100836 entries, 0 to 100835\n",
            "Data columns (total 4 columns):\n",
            " #   Column     Non-Null Count   Dtype  \n",
            "---  ------     --------------   -----  \n",
            " 0   userId     100836 non-null  int64  \n",
            " 1   movieId    100836 non-null  int64  \n",
            " 2   rating     100836 non-null  float64\n",
            " 3   timestamp  100836 non-null  int64  \n",
            "dtypes: float64(1), int64(3)\n",
            "memory usage: 3.1 MB\n"
          ]
        }
      ],
      "source": [
        "df_ratings.info()"
      ]
    },
    {
      "cell_type": "code",
      "execution_count": 18,
      "metadata": {
        "colab": {
          "base_uri": "https://localhost:8080/"
        },
        "id": "kmXWhj7nnyux",
        "outputId": "e9c0c3eb-addc-41f9-d46e-b02c1bef07f7"
      },
      "outputs": [
        {
          "data": {
            "text/plain": [
              "(100836, 4)"
            ]
          },
          "execution_count": 18,
          "metadata": {},
          "output_type": "execute_result"
        }
      ],
      "source": [
        "#check dataset shape\n",
        "df_ratings.shape"
      ]
    },
    {
      "cell_type": "code",
      "execution_count": 19,
      "metadata": {
        "colab": {
          "base_uri": "https://localhost:8080/"
        },
        "id": "dw72oOJ6nuYV",
        "outputId": "dfc5b909-2aa5-4c07-dd7f-64cb901d1ffb"
      },
      "outputs": [
        {
          "name": "stdout",
          "output_type": "stream",
          "text": [
            "For userId,610 unique values present\n",
            "For movieId,9724 unique values present\n",
            "For rating,10 unique values present\n",
            "For timestamp,85043 unique values present\n"
          ]
        }
      ],
      "source": [
        "#check dataset uniqueness\n",
        "for data_rat in df_ratings:\n",
        "    print('For {},{} unique values present'.format(data_rat,df_ratings[data_rat].nunique()))"
      ]
    },
    {
      "cell_type": "code",
      "execution_count": 20,
      "metadata": {
        "colab": {
          "base_uri": "https://localhost:8080/",
          "height": 300
        },
        "id": "x_oZY76mn6Mk",
        "outputId": "54ae2dfe-63bb-40bc-d07e-9e8d3796a552"
      },
      "outputs": [
        {
          "data": {
            "application/vnd.google.colaboratory.intrinsic+json": {
              "summary": "{\n  \"name\": \"df_ratings\",\n  \"rows\": 8,\n  \"fields\": [\n    {\n      \"column\": \"userId\",\n      \"properties\": {\n        \"dtype\": \"number\",\n        \"std\": 35545.40345112833,\n        \"min\": 1.0,\n        \"max\": 100836.0,\n        \"num_unique_values\": 8,\n        \"samples\": [\n          326.12756356856676,\n          325.0,\n          100836.0\n        ],\n        \"semantic_type\": \"\",\n        \"description\": \"\"\n      }\n    },\n    {\n      \"column\": \"movieId\",\n      \"properties\": {\n        \"dtype\": \"number\",\n        \"std\": 68674.51077210998,\n        \"min\": 1.0,\n        \"max\": 193609.0,\n        \"num_unique_values\": 8,\n        \"samples\": [\n          19435.2957177992,\n          2991.0,\n          100836.0\n        ],\n        \"semantic_type\": \"\",\n        \"description\": \"\"\n      }\n    },\n    {\n      \"column\": \"rating\",\n      \"properties\": {\n        \"dtype\": \"number\",\n        \"std\": 35649.872091978,\n        \"min\": 0.5,\n        \"max\": 100836.0,\n        \"num_unique_values\": 8,\n        \"samples\": [\n          3.501556983616962,\n          3.5,\n          100836.0\n        ],\n        \"semantic_type\": \"\",\n        \"description\": \"\"\n      }\n    },\n    {\n      \"column\": \"timestamp\",\n      \"properties\": {\n        \"dtype\": \"number\",\n        \"std\": 555443207.4882222,\n        \"min\": 100836.0,\n        \"max\": 1537799250.0,\n        \"num_unique_values\": 8,\n        \"samples\": [\n          1205946087.3684695,\n          1186086662.0,\n          100836.0\n        ],\n        \"semantic_type\": \"\",\n        \"description\": \"\"\n      }\n    }\n  ]\n}",
              "type": "dataframe"
            },
            "text/html": [
              "\n",
              "  <div id=\"df-8f8f425c-6c10-4114-9faf-aa0fa7cf4313\" class=\"colab-df-container\">\n",
              "    <div>\n",
              "<style scoped>\n",
              "    .dataframe tbody tr th:only-of-type {\n",
              "        vertical-align: middle;\n",
              "    }\n",
              "\n",
              "    .dataframe tbody tr th {\n",
              "        vertical-align: top;\n",
              "    }\n",
              "\n",
              "    .dataframe thead th {\n",
              "        text-align: right;\n",
              "    }\n",
              "</style>\n",
              "<table border=\"1\" class=\"dataframe\">\n",
              "  <thead>\n",
              "    <tr style=\"text-align: right;\">\n",
              "      <th></th>\n",
              "      <th>userId</th>\n",
              "      <th>movieId</th>\n",
              "      <th>rating</th>\n",
              "      <th>timestamp</th>\n",
              "    </tr>\n",
              "  </thead>\n",
              "  <tbody>\n",
              "    <tr>\n",
              "      <th>count</th>\n",
              "      <td>100836.000000</td>\n",
              "      <td>100836.000000</td>\n",
              "      <td>100836.000000</td>\n",
              "      <td>1.008360e+05</td>\n",
              "    </tr>\n",
              "    <tr>\n",
              "      <th>mean</th>\n",
              "      <td>326.127564</td>\n",
              "      <td>19435.295718</td>\n",
              "      <td>3.501557</td>\n",
              "      <td>1.205946e+09</td>\n",
              "    </tr>\n",
              "    <tr>\n",
              "      <th>std</th>\n",
              "      <td>182.618491</td>\n",
              "      <td>35530.987199</td>\n",
              "      <td>1.042529</td>\n",
              "      <td>2.162610e+08</td>\n",
              "    </tr>\n",
              "    <tr>\n",
              "      <th>min</th>\n",
              "      <td>1.000000</td>\n",
              "      <td>1.000000</td>\n",
              "      <td>0.500000</td>\n",
              "      <td>8.281246e+08</td>\n",
              "    </tr>\n",
              "    <tr>\n",
              "      <th>25%</th>\n",
              "      <td>177.000000</td>\n",
              "      <td>1199.000000</td>\n",
              "      <td>3.000000</td>\n",
              "      <td>1.019124e+09</td>\n",
              "    </tr>\n",
              "    <tr>\n",
              "      <th>50%</th>\n",
              "      <td>325.000000</td>\n",
              "      <td>2991.000000</td>\n",
              "      <td>3.500000</td>\n",
              "      <td>1.186087e+09</td>\n",
              "    </tr>\n",
              "    <tr>\n",
              "      <th>75%</th>\n",
              "      <td>477.000000</td>\n",
              "      <td>8122.000000</td>\n",
              "      <td>4.000000</td>\n",
              "      <td>1.435994e+09</td>\n",
              "    </tr>\n",
              "    <tr>\n",
              "      <th>max</th>\n",
              "      <td>610.000000</td>\n",
              "      <td>193609.000000</td>\n",
              "      <td>5.000000</td>\n",
              "      <td>1.537799e+09</td>\n",
              "    </tr>\n",
              "  </tbody>\n",
              "</table>\n",
              "</div>\n",
              "    <div class=\"colab-df-buttons\">\n",
              "\n",
              "  <div class=\"colab-df-container\">\n",
              "    <button class=\"colab-df-convert\" onclick=\"convertToInteractive('df-8f8f425c-6c10-4114-9faf-aa0fa7cf4313')\"\n",
              "            title=\"Convert this dataframe to an interactive table.\"\n",
              "            style=\"display:none;\">\n",
              "\n",
              "  <svg xmlns=\"http://www.w3.org/2000/svg\" height=\"24px\" viewBox=\"0 -960 960 960\">\n",
              "    <path d=\"M120-120v-720h720v720H120Zm60-500h600v-160H180v160Zm220 220h160v-160H400v160Zm0 220h160v-160H400v160ZM180-400h160v-160H180v160Zm440 0h160v-160H620v160ZM180-180h160v-160H180v160Zm440 0h160v-160H620v160Z\"/>\n",
              "  </svg>\n",
              "    </button>\n",
              "\n",
              "  <style>\n",
              "    .colab-df-container {\n",
              "      display:flex;\n",
              "      gap: 12px;\n",
              "    }\n",
              "\n",
              "    .colab-df-convert {\n",
              "      background-color: #E8F0FE;\n",
              "      border: none;\n",
              "      border-radius: 50%;\n",
              "      cursor: pointer;\n",
              "      display: none;\n",
              "      fill: #1967D2;\n",
              "      height: 32px;\n",
              "      padding: 0 0 0 0;\n",
              "      width: 32px;\n",
              "    }\n",
              "\n",
              "    .colab-df-convert:hover {\n",
              "      background-color: #E2EBFA;\n",
              "      box-shadow: 0px 1px 2px rgba(60, 64, 67, 0.3), 0px 1px 3px 1px rgba(60, 64, 67, 0.15);\n",
              "      fill: #174EA6;\n",
              "    }\n",
              "\n",
              "    .colab-df-buttons div {\n",
              "      margin-bottom: 4px;\n",
              "    }\n",
              "\n",
              "    [theme=dark] .colab-df-convert {\n",
              "      background-color: #3B4455;\n",
              "      fill: #D2E3FC;\n",
              "    }\n",
              "\n",
              "    [theme=dark] .colab-df-convert:hover {\n",
              "      background-color: #434B5C;\n",
              "      box-shadow: 0px 1px 3px 1px rgba(0, 0, 0, 0.15);\n",
              "      filter: drop-shadow(0px 1px 2px rgba(0, 0, 0, 0.3));\n",
              "      fill: #FFFFFF;\n",
              "    }\n",
              "  </style>\n",
              "\n",
              "    <script>\n",
              "      const buttonEl =\n",
              "        document.querySelector('#df-8f8f425c-6c10-4114-9faf-aa0fa7cf4313 button.colab-df-convert');\n",
              "      buttonEl.style.display =\n",
              "        google.colab.kernel.accessAllowed ? 'block' : 'none';\n",
              "\n",
              "      async function convertToInteractive(key) {\n",
              "        const element = document.querySelector('#df-8f8f425c-6c10-4114-9faf-aa0fa7cf4313');\n",
              "        const dataTable =\n",
              "          await google.colab.kernel.invokeFunction('convertToInteractive',\n",
              "                                                    [key], {});\n",
              "        if (!dataTable) return;\n",
              "\n",
              "        const docLinkHtml = 'Like what you see? Visit the ' +\n",
              "          '<a target=\"_blank\" href=https://colab.research.google.com/notebooks/data_table.ipynb>data table notebook</a>'\n",
              "          + ' to learn more about interactive tables.';\n",
              "        element.innerHTML = '';\n",
              "        dataTable['output_type'] = 'display_data';\n",
              "        await google.colab.output.renderOutput(dataTable, element);\n",
              "        const docLink = document.createElement('div');\n",
              "        docLink.innerHTML = docLinkHtml;\n",
              "        element.appendChild(docLink);\n",
              "      }\n",
              "    </script>\n",
              "  </div>\n",
              "\n",
              "\n",
              "<div id=\"df-b3518c70-4a68-4002-8b0e-08559f5cb825\">\n",
              "  <button class=\"colab-df-quickchart\" onclick=\"quickchart('df-b3518c70-4a68-4002-8b0e-08559f5cb825')\"\n",
              "            title=\"Suggest charts\"\n",
              "            style=\"display:none;\">\n",
              "\n",
              "<svg xmlns=\"http://www.w3.org/2000/svg\" height=\"24px\"viewBox=\"0 0 24 24\"\n",
              "     width=\"24px\">\n",
              "    <g>\n",
              "        <path d=\"M19 3H5c-1.1 0-2 .9-2 2v14c0 1.1.9 2 2 2h14c1.1 0 2-.9 2-2V5c0-1.1-.9-2-2-2zM9 17H7v-7h2v7zm4 0h-2V7h2v10zm4 0h-2v-4h2v4z\"/>\n",
              "    </g>\n",
              "</svg>\n",
              "  </button>\n",
              "\n",
              "<style>\n",
              "  .colab-df-quickchart {\n",
              "      --bg-color: #E8F0FE;\n",
              "      --fill-color: #1967D2;\n",
              "      --hover-bg-color: #E2EBFA;\n",
              "      --hover-fill-color: #174EA6;\n",
              "      --disabled-fill-color: #AAA;\n",
              "      --disabled-bg-color: #DDD;\n",
              "  }\n",
              "\n",
              "  [theme=dark] .colab-df-quickchart {\n",
              "      --bg-color: #3B4455;\n",
              "      --fill-color: #D2E3FC;\n",
              "      --hover-bg-color: #434B5C;\n",
              "      --hover-fill-color: #FFFFFF;\n",
              "      --disabled-bg-color: #3B4455;\n",
              "      --disabled-fill-color: #666;\n",
              "  }\n",
              "\n",
              "  .colab-df-quickchart {\n",
              "    background-color: var(--bg-color);\n",
              "    border: none;\n",
              "    border-radius: 50%;\n",
              "    cursor: pointer;\n",
              "    display: none;\n",
              "    fill: var(--fill-color);\n",
              "    height: 32px;\n",
              "    padding: 0;\n",
              "    width: 32px;\n",
              "  }\n",
              "\n",
              "  .colab-df-quickchart:hover {\n",
              "    background-color: var(--hover-bg-color);\n",
              "    box-shadow: 0 1px 2px rgba(60, 64, 67, 0.3), 0 1px 3px 1px rgba(60, 64, 67, 0.15);\n",
              "    fill: var(--button-hover-fill-color);\n",
              "  }\n",
              "\n",
              "  .colab-df-quickchart-complete:disabled,\n",
              "  .colab-df-quickchart-complete:disabled:hover {\n",
              "    background-color: var(--disabled-bg-color);\n",
              "    fill: var(--disabled-fill-color);\n",
              "    box-shadow: none;\n",
              "  }\n",
              "\n",
              "  .colab-df-spinner {\n",
              "    border: 2px solid var(--fill-color);\n",
              "    border-color: transparent;\n",
              "    border-bottom-color: var(--fill-color);\n",
              "    animation:\n",
              "      spin 1s steps(1) infinite;\n",
              "  }\n",
              "\n",
              "  @keyframes spin {\n",
              "    0% {\n",
              "      border-color: transparent;\n",
              "      border-bottom-color: var(--fill-color);\n",
              "      border-left-color: var(--fill-color);\n",
              "    }\n",
              "    20% {\n",
              "      border-color: transparent;\n",
              "      border-left-color: var(--fill-color);\n",
              "      border-top-color: var(--fill-color);\n",
              "    }\n",
              "    30% {\n",
              "      border-color: transparent;\n",
              "      border-left-color: var(--fill-color);\n",
              "      border-top-color: var(--fill-color);\n",
              "      border-right-color: var(--fill-color);\n",
              "    }\n",
              "    40% {\n",
              "      border-color: transparent;\n",
              "      border-right-color: var(--fill-color);\n",
              "      border-top-color: var(--fill-color);\n",
              "    }\n",
              "    60% {\n",
              "      border-color: transparent;\n",
              "      border-right-color: var(--fill-color);\n",
              "    }\n",
              "    80% {\n",
              "      border-color: transparent;\n",
              "      border-right-color: var(--fill-color);\n",
              "      border-bottom-color: var(--fill-color);\n",
              "    }\n",
              "    90% {\n",
              "      border-color: transparent;\n",
              "      border-bottom-color: var(--fill-color);\n",
              "    }\n",
              "  }\n",
              "</style>\n",
              "\n",
              "  <script>\n",
              "    async function quickchart(key) {\n",
              "      const quickchartButtonEl =\n",
              "        document.querySelector('#' + key + ' button');\n",
              "      quickchartButtonEl.disabled = true;  // To prevent multiple clicks.\n",
              "      quickchartButtonEl.classList.add('colab-df-spinner');\n",
              "      try {\n",
              "        const charts = await google.colab.kernel.invokeFunction(\n",
              "            'suggestCharts', [key], {});\n",
              "      } catch (error) {\n",
              "        console.error('Error during call to suggestCharts:', error);\n",
              "      }\n",
              "      quickchartButtonEl.classList.remove('colab-df-spinner');\n",
              "      quickchartButtonEl.classList.add('colab-df-quickchart-complete');\n",
              "    }\n",
              "    (() => {\n",
              "      let quickchartButtonEl =\n",
              "        document.querySelector('#df-b3518c70-4a68-4002-8b0e-08559f5cb825 button');\n",
              "      quickchartButtonEl.style.display =\n",
              "        google.colab.kernel.accessAllowed ? 'block' : 'none';\n",
              "    })();\n",
              "  </script>\n",
              "</div>\n",
              "\n",
              "    </div>\n",
              "  </div>\n"
            ],
            "text/plain": [
              "              userId        movieId         rating     timestamp\n",
              "count  100836.000000  100836.000000  100836.000000  1.008360e+05\n",
              "mean      326.127564   19435.295718       3.501557  1.205946e+09\n",
              "std       182.618491   35530.987199       1.042529  2.162610e+08\n",
              "min         1.000000       1.000000       0.500000  8.281246e+08\n",
              "25%       177.000000    1199.000000       3.000000  1.019124e+09\n",
              "50%       325.000000    2991.000000       3.500000  1.186087e+09\n",
              "75%       477.000000    8122.000000       4.000000  1.435994e+09\n",
              "max       610.000000  193609.000000       5.000000  1.537799e+09"
            ]
          },
          "execution_count": 20,
          "metadata": {},
          "output_type": "execute_result"
        }
      ],
      "source": [
        "#summary of ratings.csv\n",
        "df_ratings.describe()"
      ]
    },
    {
      "cell_type": "code",
      "execution_count": 21,
      "metadata": {
        "colab": {
          "base_uri": "https://localhost:8080/"
        },
        "id": "NNLLup2un8SO",
        "outputId": "5a14f3c3-8ac4-4412-91eb-e03a432b0550"
      },
      "outputs": [
        {
          "data": {
            "text/plain": [
              "0.5"
            ]
          },
          "execution_count": 21,
          "metadata": {},
          "output_type": "execute_result"
        }
      ],
      "source": [
        "#minimum rating given to a movie\n",
        "df_ratings['rating'].min()"
      ]
    },
    {
      "cell_type": "code",
      "execution_count": 22,
      "metadata": {
        "colab": {
          "base_uri": "https://localhost:8080/"
        },
        "id": "zoIUAWewn-ov",
        "outputId": "a5a07b96-1a54-43a2-bc30-2b52ae374fb2"
      },
      "outputs": [
        {
          "data": {
            "text/plain": [
              "5.0"
            ]
          },
          "execution_count": 22,
          "metadata": {},
          "output_type": "execute_result"
        }
      ],
      "source": [
        "#maximum rating given to a movie\n",
        "df_ratings['rating'].max()"
      ]
    },
    {
      "cell_type": "markdown",
      "metadata": {
        "id": "liO-2BA1ZLJ5"
      },
      "source": [
        "Load and explore the tags dataset"
      ]
    },
    {
      "cell_type": "code",
      "execution_count": 23,
      "metadata": {
        "colab": {
          "base_uri": "https://localhost:8080/",
          "height": 206
        },
        "id": "iPs9WdapoBfR",
        "outputId": "ddfe3ade-1468-4753-80f2-551793b38e5b"
      },
      "outputs": [
        {
          "data": {
            "application/vnd.google.colaboratory.intrinsic+json": {
              "summary": "{\n  \"name\": \"df_tags\",\n  \"rows\": 3683,\n  \"fields\": [\n    {\n      \"column\": \"userId\",\n      \"properties\": {\n        \"dtype\": \"number\",\n        \"std\": 158,\n        \"min\": 2,\n        \"max\": 610,\n        \"num_unique_values\": 58,\n        \"samples\": [\n          2,\n          62,\n          341\n        ],\n        \"semantic_type\": \"\",\n        \"description\": \"\"\n      }\n    },\n    {\n      \"column\": \"movieId\",\n      \"properties\": {\n        \"dtype\": \"number\",\n        \"std\": 43490,\n        \"min\": 1,\n        \"max\": 193565,\n        \"num_unique_values\": 1572,\n        \"samples\": [\n          6296,\n          2939,\n          6708\n        ],\n        \"semantic_type\": \"\",\n        \"description\": \"\"\n      }\n    },\n    {\n      \"column\": \"tag\",\n      \"properties\": {\n        \"dtype\": \"category\",\n        \"num_unique_values\": 1589,\n        \"samples\": [\n          \"Grace\",\n          \"documentary\",\n          \"homosexuality\"\n        ],\n        \"semantic_type\": \"\",\n        \"description\": \"\"\n      }\n    },\n    {\n      \"column\": \"timestamp\",\n      \"properties\": {\n        \"dtype\": \"number\",\n        \"std\": 172102450,\n        \"min\": 1137179352,\n        \"max\": 1537098603,\n        \"num_unique_values\": 3411,\n        \"samples\": [\n          1498456527,\n          1137192017,\n          1525554215\n        ],\n        \"semantic_type\": \"\",\n        \"description\": \"\"\n      }\n    }\n  ]\n}",
              "type": "dataframe",
              "variable_name": "df_tags"
            },
            "text/html": [
              "\n",
              "  <div id=\"df-4550809d-9764-4220-b66e-3a79c2de4e4a\" class=\"colab-df-container\">\n",
              "    <div>\n",
              "<style scoped>\n",
              "    .dataframe tbody tr th:only-of-type {\n",
              "        vertical-align: middle;\n",
              "    }\n",
              "\n",
              "    .dataframe tbody tr th {\n",
              "        vertical-align: top;\n",
              "    }\n",
              "\n",
              "    .dataframe thead th {\n",
              "        text-align: right;\n",
              "    }\n",
              "</style>\n",
              "<table border=\"1\" class=\"dataframe\">\n",
              "  <thead>\n",
              "    <tr style=\"text-align: right;\">\n",
              "      <th></th>\n",
              "      <th>userId</th>\n",
              "      <th>movieId</th>\n",
              "      <th>tag</th>\n",
              "      <th>timestamp</th>\n",
              "    </tr>\n",
              "  </thead>\n",
              "  <tbody>\n",
              "    <tr>\n",
              "      <th>0</th>\n",
              "      <td>2</td>\n",
              "      <td>60756</td>\n",
              "      <td>funny</td>\n",
              "      <td>1445714994</td>\n",
              "    </tr>\n",
              "    <tr>\n",
              "      <th>1</th>\n",
              "      <td>2</td>\n",
              "      <td>60756</td>\n",
              "      <td>Highly quotable</td>\n",
              "      <td>1445714996</td>\n",
              "    </tr>\n",
              "    <tr>\n",
              "      <th>2</th>\n",
              "      <td>2</td>\n",
              "      <td>60756</td>\n",
              "      <td>will ferrell</td>\n",
              "      <td>1445714992</td>\n",
              "    </tr>\n",
              "    <tr>\n",
              "      <th>3</th>\n",
              "      <td>2</td>\n",
              "      <td>89774</td>\n",
              "      <td>Boxing story</td>\n",
              "      <td>1445715207</td>\n",
              "    </tr>\n",
              "    <tr>\n",
              "      <th>4</th>\n",
              "      <td>2</td>\n",
              "      <td>89774</td>\n",
              "      <td>MMA</td>\n",
              "      <td>1445715200</td>\n",
              "    </tr>\n",
              "  </tbody>\n",
              "</table>\n",
              "</div>\n",
              "    <div class=\"colab-df-buttons\">\n",
              "\n",
              "  <div class=\"colab-df-container\">\n",
              "    <button class=\"colab-df-convert\" onclick=\"convertToInteractive('df-4550809d-9764-4220-b66e-3a79c2de4e4a')\"\n",
              "            title=\"Convert this dataframe to an interactive table.\"\n",
              "            style=\"display:none;\">\n",
              "\n",
              "  <svg xmlns=\"http://www.w3.org/2000/svg\" height=\"24px\" viewBox=\"0 -960 960 960\">\n",
              "    <path d=\"M120-120v-720h720v720H120Zm60-500h600v-160H180v160Zm220 220h160v-160H400v160Zm0 220h160v-160H400v160ZM180-400h160v-160H180v160Zm440 0h160v-160H620v160ZM180-180h160v-160H180v160Zm440 0h160v-160H620v160Z\"/>\n",
              "  </svg>\n",
              "    </button>\n",
              "\n",
              "  <style>\n",
              "    .colab-df-container {\n",
              "      display:flex;\n",
              "      gap: 12px;\n",
              "    }\n",
              "\n",
              "    .colab-df-convert {\n",
              "      background-color: #E8F0FE;\n",
              "      border: none;\n",
              "      border-radius: 50%;\n",
              "      cursor: pointer;\n",
              "      display: none;\n",
              "      fill: #1967D2;\n",
              "      height: 32px;\n",
              "      padding: 0 0 0 0;\n",
              "      width: 32px;\n",
              "    }\n",
              "\n",
              "    .colab-df-convert:hover {\n",
              "      background-color: #E2EBFA;\n",
              "      box-shadow: 0px 1px 2px rgba(60, 64, 67, 0.3), 0px 1px 3px 1px rgba(60, 64, 67, 0.15);\n",
              "      fill: #174EA6;\n",
              "    }\n",
              "\n",
              "    .colab-df-buttons div {\n",
              "      margin-bottom: 4px;\n",
              "    }\n",
              "\n",
              "    [theme=dark] .colab-df-convert {\n",
              "      background-color: #3B4455;\n",
              "      fill: #D2E3FC;\n",
              "    }\n",
              "\n",
              "    [theme=dark] .colab-df-convert:hover {\n",
              "      background-color: #434B5C;\n",
              "      box-shadow: 0px 1px 3px 1px rgba(0, 0, 0, 0.15);\n",
              "      filter: drop-shadow(0px 1px 2px rgba(0, 0, 0, 0.3));\n",
              "      fill: #FFFFFF;\n",
              "    }\n",
              "  </style>\n",
              "\n",
              "    <script>\n",
              "      const buttonEl =\n",
              "        document.querySelector('#df-4550809d-9764-4220-b66e-3a79c2de4e4a button.colab-df-convert');\n",
              "      buttonEl.style.display =\n",
              "        google.colab.kernel.accessAllowed ? 'block' : 'none';\n",
              "\n",
              "      async function convertToInteractive(key) {\n",
              "        const element = document.querySelector('#df-4550809d-9764-4220-b66e-3a79c2de4e4a');\n",
              "        const dataTable =\n",
              "          await google.colab.kernel.invokeFunction('convertToInteractive',\n",
              "                                                    [key], {});\n",
              "        if (!dataTable) return;\n",
              "\n",
              "        const docLinkHtml = 'Like what you see? Visit the ' +\n",
              "          '<a target=\"_blank\" href=https://colab.research.google.com/notebooks/data_table.ipynb>data table notebook</a>'\n",
              "          + ' to learn more about interactive tables.';\n",
              "        element.innerHTML = '';\n",
              "        dataTable['output_type'] = 'display_data';\n",
              "        await google.colab.output.renderOutput(dataTable, element);\n",
              "        const docLink = document.createElement('div');\n",
              "        docLink.innerHTML = docLinkHtml;\n",
              "        element.appendChild(docLink);\n",
              "      }\n",
              "    </script>\n",
              "  </div>\n",
              "\n",
              "\n",
              "<div id=\"df-fb87bf4d-d453-4b20-9efd-159606a15a17\">\n",
              "  <button class=\"colab-df-quickchart\" onclick=\"quickchart('df-fb87bf4d-d453-4b20-9efd-159606a15a17')\"\n",
              "            title=\"Suggest charts\"\n",
              "            style=\"display:none;\">\n",
              "\n",
              "<svg xmlns=\"http://www.w3.org/2000/svg\" height=\"24px\"viewBox=\"0 0 24 24\"\n",
              "     width=\"24px\">\n",
              "    <g>\n",
              "        <path d=\"M19 3H5c-1.1 0-2 .9-2 2v14c0 1.1.9 2 2 2h14c1.1 0 2-.9 2-2V5c0-1.1-.9-2-2-2zM9 17H7v-7h2v7zm4 0h-2V7h2v10zm4 0h-2v-4h2v4z\"/>\n",
              "    </g>\n",
              "</svg>\n",
              "  </button>\n",
              "\n",
              "<style>\n",
              "  .colab-df-quickchart {\n",
              "      --bg-color: #E8F0FE;\n",
              "      --fill-color: #1967D2;\n",
              "      --hover-bg-color: #E2EBFA;\n",
              "      --hover-fill-color: #174EA6;\n",
              "      --disabled-fill-color: #AAA;\n",
              "      --disabled-bg-color: #DDD;\n",
              "  }\n",
              "\n",
              "  [theme=dark] .colab-df-quickchart {\n",
              "      --bg-color: #3B4455;\n",
              "      --fill-color: #D2E3FC;\n",
              "      --hover-bg-color: #434B5C;\n",
              "      --hover-fill-color: #FFFFFF;\n",
              "      --disabled-bg-color: #3B4455;\n",
              "      --disabled-fill-color: #666;\n",
              "  }\n",
              "\n",
              "  .colab-df-quickchart {\n",
              "    background-color: var(--bg-color);\n",
              "    border: none;\n",
              "    border-radius: 50%;\n",
              "    cursor: pointer;\n",
              "    display: none;\n",
              "    fill: var(--fill-color);\n",
              "    height: 32px;\n",
              "    padding: 0;\n",
              "    width: 32px;\n",
              "  }\n",
              "\n",
              "  .colab-df-quickchart:hover {\n",
              "    background-color: var(--hover-bg-color);\n",
              "    box-shadow: 0 1px 2px rgba(60, 64, 67, 0.3), 0 1px 3px 1px rgba(60, 64, 67, 0.15);\n",
              "    fill: var(--button-hover-fill-color);\n",
              "  }\n",
              "\n",
              "  .colab-df-quickchart-complete:disabled,\n",
              "  .colab-df-quickchart-complete:disabled:hover {\n",
              "    background-color: var(--disabled-bg-color);\n",
              "    fill: var(--disabled-fill-color);\n",
              "    box-shadow: none;\n",
              "  }\n",
              "\n",
              "  .colab-df-spinner {\n",
              "    border: 2px solid var(--fill-color);\n",
              "    border-color: transparent;\n",
              "    border-bottom-color: var(--fill-color);\n",
              "    animation:\n",
              "      spin 1s steps(1) infinite;\n",
              "  }\n",
              "\n",
              "  @keyframes spin {\n",
              "    0% {\n",
              "      border-color: transparent;\n",
              "      border-bottom-color: var(--fill-color);\n",
              "      border-left-color: var(--fill-color);\n",
              "    }\n",
              "    20% {\n",
              "      border-color: transparent;\n",
              "      border-left-color: var(--fill-color);\n",
              "      border-top-color: var(--fill-color);\n",
              "    }\n",
              "    30% {\n",
              "      border-color: transparent;\n",
              "      border-left-color: var(--fill-color);\n",
              "      border-top-color: var(--fill-color);\n",
              "      border-right-color: var(--fill-color);\n",
              "    }\n",
              "    40% {\n",
              "      border-color: transparent;\n",
              "      border-right-color: var(--fill-color);\n",
              "      border-top-color: var(--fill-color);\n",
              "    }\n",
              "    60% {\n",
              "      border-color: transparent;\n",
              "      border-right-color: var(--fill-color);\n",
              "    }\n",
              "    80% {\n",
              "      border-color: transparent;\n",
              "      border-right-color: var(--fill-color);\n",
              "      border-bottom-color: var(--fill-color);\n",
              "    }\n",
              "    90% {\n",
              "      border-color: transparent;\n",
              "      border-bottom-color: var(--fill-color);\n",
              "    }\n",
              "  }\n",
              "</style>\n",
              "\n",
              "  <script>\n",
              "    async function quickchart(key) {\n",
              "      const quickchartButtonEl =\n",
              "        document.querySelector('#' + key + ' button');\n",
              "      quickchartButtonEl.disabled = true;  // To prevent multiple clicks.\n",
              "      quickchartButtonEl.classList.add('colab-df-spinner');\n",
              "      try {\n",
              "        const charts = await google.colab.kernel.invokeFunction(\n",
              "            'suggestCharts', [key], {});\n",
              "      } catch (error) {\n",
              "        console.error('Error during call to suggestCharts:', error);\n",
              "      }\n",
              "      quickchartButtonEl.classList.remove('colab-df-spinner');\n",
              "      quickchartButtonEl.classList.add('colab-df-quickchart-complete');\n",
              "    }\n",
              "    (() => {\n",
              "      let quickchartButtonEl =\n",
              "        document.querySelector('#df-fb87bf4d-d453-4b20-9efd-159606a15a17 button');\n",
              "      quickchartButtonEl.style.display =\n",
              "        google.colab.kernel.accessAllowed ? 'block' : 'none';\n",
              "    })();\n",
              "  </script>\n",
              "</div>\n",
              "\n",
              "    </div>\n",
              "  </div>\n"
            ],
            "text/plain": [
              "   userId  movieId              tag   timestamp\n",
              "0       2    60756            funny  1445714994\n",
              "1       2    60756  Highly quotable  1445714996\n",
              "2       2    60756     will ferrell  1445714992\n",
              "3       2    89774     Boxing story  1445715207\n",
              "4       2    89774              MMA  1445715200"
            ]
          },
          "execution_count": 23,
          "metadata": {},
          "output_type": "execute_result"
        }
      ],
      "source": [
        "df_tags = pd.read_csv(\"/tags.csv\")\n",
        "df_tags.head()"
      ]
    },
    {
      "cell_type": "code",
      "execution_count": 24,
      "metadata": {
        "colab": {
          "base_uri": "https://localhost:8080/"
        },
        "id": "bnkIbkzuoENb",
        "outputId": "8e20278b-7dac-4fcd-c3ce-d123bb40fb28"
      },
      "outputs": [
        {
          "name": "stdout",
          "output_type": "stream",
          "text": [
            "<class 'pandas.core.frame.DataFrame'>\n",
            "RangeIndex: 3683 entries, 0 to 3682\n",
            "Data columns (total 4 columns):\n",
            " #   Column     Non-Null Count  Dtype \n",
            "---  ------     --------------  ----- \n",
            " 0   userId     3683 non-null   int64 \n",
            " 1   movieId    3683 non-null   int64 \n",
            " 2   tag        3683 non-null   object\n",
            " 3   timestamp  3683 non-null   int64 \n",
            "dtypes: int64(3), object(1)\n",
            "memory usage: 115.2+ KB\n"
          ]
        }
      ],
      "source": [
        "df_tags.info()"
      ]
    },
    {
      "cell_type": "code",
      "execution_count": 25,
      "metadata": {
        "colab": {
          "base_uri": "https://localhost:8080/"
        },
        "id": "eilzFDvXoGW2",
        "outputId": "32d07f09-2bf3-4296-db39-f9e3fccbd059"
      },
      "outputs": [
        {
          "data": {
            "text/plain": [
              "(3683, 4)"
            ]
          },
          "execution_count": 25,
          "metadata": {},
          "output_type": "execute_result"
        }
      ],
      "source": [
        "#check dataset shape\n",
        "df_tags.shape"
      ]
    },
    {
      "cell_type": "code",
      "execution_count": 26,
      "metadata": {
        "colab": {
          "base_uri": "https://localhost:8080/"
        },
        "id": "v-j8Hum4oIde",
        "outputId": "3dc7c5c9-736b-43c1-8bf9-ff1cbc88558e"
      },
      "outputs": [
        {
          "name": "stdout",
          "output_type": "stream",
          "text": [
            "For userId,58 unique values present\n",
            "For movieId,1572 unique values present\n",
            "For tag,1589 unique values present\n",
            "For timestamp,3411 unique values present\n"
          ]
        }
      ],
      "source": [
        "#check dataset uniqueness\n",
        "for data_tag in df_tags:\n",
        "    print('For {},{} unique values present'.format(data_tag,df_tags[data_tag].nunique()))"
      ]
    },
    {
      "cell_type": "markdown",
      "metadata": {
        "id": "jC9AO_0IZTLx"
      },
      "source": [
        "Load and explore the links dataset"
      ]
    },
    {
      "cell_type": "code",
      "execution_count": 28,
      "metadata": {
        "colab": {
          "base_uri": "https://localhost:8080/",
          "height": 206
        },
        "id": "ijefFxPJoKu2",
        "outputId": "62572a41-be15-47a9-f642-6365fba8f818"
      },
      "outputs": [
        {
          "data": {
            "application/vnd.google.colaboratory.intrinsic+json": {
              "summary": "{\n  \"name\": \"df_links\",\n  \"rows\": 9742,\n  \"fields\": [\n    {\n      \"column\": \"movieId\",\n      \"properties\": {\n        \"dtype\": \"number\",\n        \"std\": 52160,\n        \"min\": 1,\n        \"max\": 193609,\n        \"num_unique_values\": 9742,\n        \"samples\": [\n          45635,\n          1373,\n          7325\n        ],\n        \"semantic_type\": \"\",\n        \"description\": \"\"\n      }\n    },\n    {\n      \"column\": \"imdbId\",\n      \"properties\": {\n        \"dtype\": \"number\",\n        \"std\": 1107227,\n        \"min\": 417,\n        \"max\": 8391976,\n        \"num_unique_values\": 9742,\n        \"samples\": [\n          404802,\n          98382,\n          335438\n        ],\n        \"semantic_type\": \"\",\n        \"description\": \"\"\n      }\n    },\n    {\n      \"column\": \"tmdbId\",\n      \"properties\": {\n        \"dtype\": \"number\",\n        \"std\": 93653.48148734067,\n        \"min\": 2.0,\n        \"max\": 525662.0,\n        \"num_unique_values\": 9733,\n        \"samples\": [\n          18168.0,\n          38357.0,\n          51620.0\n        ],\n        \"semantic_type\": \"\",\n        \"description\": \"\"\n      }\n    }\n  ]\n}",
              "type": "dataframe",
              "variable_name": "df_links"
            },
            "text/html": [
              "\n",
              "  <div id=\"df-85967ea5-e60a-4230-9f2e-6e61a2149bfe\" class=\"colab-df-container\">\n",
              "    <div>\n",
              "<style scoped>\n",
              "    .dataframe tbody tr th:only-of-type {\n",
              "        vertical-align: middle;\n",
              "    }\n",
              "\n",
              "    .dataframe tbody tr th {\n",
              "        vertical-align: top;\n",
              "    }\n",
              "\n",
              "    .dataframe thead th {\n",
              "        text-align: right;\n",
              "    }\n",
              "</style>\n",
              "<table border=\"1\" class=\"dataframe\">\n",
              "  <thead>\n",
              "    <tr style=\"text-align: right;\">\n",
              "      <th></th>\n",
              "      <th>movieId</th>\n",
              "      <th>imdbId</th>\n",
              "      <th>tmdbId</th>\n",
              "    </tr>\n",
              "  </thead>\n",
              "  <tbody>\n",
              "    <tr>\n",
              "      <th>0</th>\n",
              "      <td>1</td>\n",
              "      <td>114709</td>\n",
              "      <td>862.0</td>\n",
              "    </tr>\n",
              "    <tr>\n",
              "      <th>1</th>\n",
              "      <td>2</td>\n",
              "      <td>113497</td>\n",
              "      <td>8844.0</td>\n",
              "    </tr>\n",
              "    <tr>\n",
              "      <th>2</th>\n",
              "      <td>3</td>\n",
              "      <td>113228</td>\n",
              "      <td>15602.0</td>\n",
              "    </tr>\n",
              "    <tr>\n",
              "      <th>3</th>\n",
              "      <td>4</td>\n",
              "      <td>114885</td>\n",
              "      <td>31357.0</td>\n",
              "    </tr>\n",
              "    <tr>\n",
              "      <th>4</th>\n",
              "      <td>5</td>\n",
              "      <td>113041</td>\n",
              "      <td>11862.0</td>\n",
              "    </tr>\n",
              "  </tbody>\n",
              "</table>\n",
              "</div>\n",
              "    <div class=\"colab-df-buttons\">\n",
              "\n",
              "  <div class=\"colab-df-container\">\n",
              "    <button class=\"colab-df-convert\" onclick=\"convertToInteractive('df-85967ea5-e60a-4230-9f2e-6e61a2149bfe')\"\n",
              "            title=\"Convert this dataframe to an interactive table.\"\n",
              "            style=\"display:none;\">\n",
              "\n",
              "  <svg xmlns=\"http://www.w3.org/2000/svg\" height=\"24px\" viewBox=\"0 -960 960 960\">\n",
              "    <path d=\"M120-120v-720h720v720H120Zm60-500h600v-160H180v160Zm220 220h160v-160H400v160Zm0 220h160v-160H400v160ZM180-400h160v-160H180v160Zm440 0h160v-160H620v160ZM180-180h160v-160H180v160Zm440 0h160v-160H620v160Z\"/>\n",
              "  </svg>\n",
              "    </button>\n",
              "\n",
              "  <style>\n",
              "    .colab-df-container {\n",
              "      display:flex;\n",
              "      gap: 12px;\n",
              "    }\n",
              "\n",
              "    .colab-df-convert {\n",
              "      background-color: #E8F0FE;\n",
              "      border: none;\n",
              "      border-radius: 50%;\n",
              "      cursor: pointer;\n",
              "      display: none;\n",
              "      fill: #1967D2;\n",
              "      height: 32px;\n",
              "      padding: 0 0 0 0;\n",
              "      width: 32px;\n",
              "    }\n",
              "\n",
              "    .colab-df-convert:hover {\n",
              "      background-color: #E2EBFA;\n",
              "      box-shadow: 0px 1px 2px rgba(60, 64, 67, 0.3), 0px 1px 3px 1px rgba(60, 64, 67, 0.15);\n",
              "      fill: #174EA6;\n",
              "    }\n",
              "\n",
              "    .colab-df-buttons div {\n",
              "      margin-bottom: 4px;\n",
              "    }\n",
              "\n",
              "    [theme=dark] .colab-df-convert {\n",
              "      background-color: #3B4455;\n",
              "      fill: #D2E3FC;\n",
              "    }\n",
              "\n",
              "    [theme=dark] .colab-df-convert:hover {\n",
              "      background-color: #434B5C;\n",
              "      box-shadow: 0px 1px 3px 1px rgba(0, 0, 0, 0.15);\n",
              "      filter: drop-shadow(0px 1px 2px rgba(0, 0, 0, 0.3));\n",
              "      fill: #FFFFFF;\n",
              "    }\n",
              "  </style>\n",
              "\n",
              "    <script>\n",
              "      const buttonEl =\n",
              "        document.querySelector('#df-85967ea5-e60a-4230-9f2e-6e61a2149bfe button.colab-df-convert');\n",
              "      buttonEl.style.display =\n",
              "        google.colab.kernel.accessAllowed ? 'block' : 'none';\n",
              "\n",
              "      async function convertToInteractive(key) {\n",
              "        const element = document.querySelector('#df-85967ea5-e60a-4230-9f2e-6e61a2149bfe');\n",
              "        const dataTable =\n",
              "          await google.colab.kernel.invokeFunction('convertToInteractive',\n",
              "                                                    [key], {});\n",
              "        if (!dataTable) return;\n",
              "\n",
              "        const docLinkHtml = 'Like what you see? Visit the ' +\n",
              "          '<a target=\"_blank\" href=https://colab.research.google.com/notebooks/data_table.ipynb>data table notebook</a>'\n",
              "          + ' to learn more about interactive tables.';\n",
              "        element.innerHTML = '';\n",
              "        dataTable['output_type'] = 'display_data';\n",
              "        await google.colab.output.renderOutput(dataTable, element);\n",
              "        const docLink = document.createElement('div');\n",
              "        docLink.innerHTML = docLinkHtml;\n",
              "        element.appendChild(docLink);\n",
              "      }\n",
              "    </script>\n",
              "  </div>\n",
              "\n",
              "\n",
              "<div id=\"df-04825478-1b30-4340-93a3-f5871780592d\">\n",
              "  <button class=\"colab-df-quickchart\" onclick=\"quickchart('df-04825478-1b30-4340-93a3-f5871780592d')\"\n",
              "            title=\"Suggest charts\"\n",
              "            style=\"display:none;\">\n",
              "\n",
              "<svg xmlns=\"http://www.w3.org/2000/svg\" height=\"24px\"viewBox=\"0 0 24 24\"\n",
              "     width=\"24px\">\n",
              "    <g>\n",
              "        <path d=\"M19 3H5c-1.1 0-2 .9-2 2v14c0 1.1.9 2 2 2h14c1.1 0 2-.9 2-2V5c0-1.1-.9-2-2-2zM9 17H7v-7h2v7zm4 0h-2V7h2v10zm4 0h-2v-4h2v4z\"/>\n",
              "    </g>\n",
              "</svg>\n",
              "  </button>\n",
              "\n",
              "<style>\n",
              "  .colab-df-quickchart {\n",
              "      --bg-color: #E8F0FE;\n",
              "      --fill-color: #1967D2;\n",
              "      --hover-bg-color: #E2EBFA;\n",
              "      --hover-fill-color: #174EA6;\n",
              "      --disabled-fill-color: #AAA;\n",
              "      --disabled-bg-color: #DDD;\n",
              "  }\n",
              "\n",
              "  [theme=dark] .colab-df-quickchart {\n",
              "      --bg-color: #3B4455;\n",
              "      --fill-color: #D2E3FC;\n",
              "      --hover-bg-color: #434B5C;\n",
              "      --hover-fill-color: #FFFFFF;\n",
              "      --disabled-bg-color: #3B4455;\n",
              "      --disabled-fill-color: #666;\n",
              "  }\n",
              "\n",
              "  .colab-df-quickchart {\n",
              "    background-color: var(--bg-color);\n",
              "    border: none;\n",
              "    border-radius: 50%;\n",
              "    cursor: pointer;\n",
              "    display: none;\n",
              "    fill: var(--fill-color);\n",
              "    height: 32px;\n",
              "    padding: 0;\n",
              "    width: 32px;\n",
              "  }\n",
              "\n",
              "  .colab-df-quickchart:hover {\n",
              "    background-color: var(--hover-bg-color);\n",
              "    box-shadow: 0 1px 2px rgba(60, 64, 67, 0.3), 0 1px 3px 1px rgba(60, 64, 67, 0.15);\n",
              "    fill: var(--button-hover-fill-color);\n",
              "  }\n",
              "\n",
              "  .colab-df-quickchart-complete:disabled,\n",
              "  .colab-df-quickchart-complete:disabled:hover {\n",
              "    background-color: var(--disabled-bg-color);\n",
              "    fill: var(--disabled-fill-color);\n",
              "    box-shadow: none;\n",
              "  }\n",
              "\n",
              "  .colab-df-spinner {\n",
              "    border: 2px solid var(--fill-color);\n",
              "    border-color: transparent;\n",
              "    border-bottom-color: var(--fill-color);\n",
              "    animation:\n",
              "      spin 1s steps(1) infinite;\n",
              "  }\n",
              "\n",
              "  @keyframes spin {\n",
              "    0% {\n",
              "      border-color: transparent;\n",
              "      border-bottom-color: var(--fill-color);\n",
              "      border-left-color: var(--fill-color);\n",
              "    }\n",
              "    20% {\n",
              "      border-color: transparent;\n",
              "      border-left-color: var(--fill-color);\n",
              "      border-top-color: var(--fill-color);\n",
              "    }\n",
              "    30% {\n",
              "      border-color: transparent;\n",
              "      border-left-color: var(--fill-color);\n",
              "      border-top-color: var(--fill-color);\n",
              "      border-right-color: var(--fill-color);\n",
              "    }\n",
              "    40% {\n",
              "      border-color: transparent;\n",
              "      border-right-color: var(--fill-color);\n",
              "      border-top-color: var(--fill-color);\n",
              "    }\n",
              "    60% {\n",
              "      border-color: transparent;\n",
              "      border-right-color: var(--fill-color);\n",
              "    }\n",
              "    80% {\n",
              "      border-color: transparent;\n",
              "      border-right-color: var(--fill-color);\n",
              "      border-bottom-color: var(--fill-color);\n",
              "    }\n",
              "    90% {\n",
              "      border-color: transparent;\n",
              "      border-bottom-color: var(--fill-color);\n",
              "    }\n",
              "  }\n",
              "</style>\n",
              "\n",
              "  <script>\n",
              "    async function quickchart(key) {\n",
              "      const quickchartButtonEl =\n",
              "        document.querySelector('#' + key + ' button');\n",
              "      quickchartButtonEl.disabled = true;  // To prevent multiple clicks.\n",
              "      quickchartButtonEl.classList.add('colab-df-spinner');\n",
              "      try {\n",
              "        const charts = await google.colab.kernel.invokeFunction(\n",
              "            'suggestCharts', [key], {});\n",
              "      } catch (error) {\n",
              "        console.error('Error during call to suggestCharts:', error);\n",
              "      }\n",
              "      quickchartButtonEl.classList.remove('colab-df-spinner');\n",
              "      quickchartButtonEl.classList.add('colab-df-quickchart-complete');\n",
              "    }\n",
              "    (() => {\n",
              "      let quickchartButtonEl =\n",
              "        document.querySelector('#df-04825478-1b30-4340-93a3-f5871780592d button');\n",
              "      quickchartButtonEl.style.display =\n",
              "        google.colab.kernel.accessAllowed ? 'block' : 'none';\n",
              "    })();\n",
              "  </script>\n",
              "</div>\n",
              "\n",
              "    </div>\n",
              "  </div>\n"
            ],
            "text/plain": [
              "   movieId  imdbId   tmdbId\n",
              "0        1  114709    862.0\n",
              "1        2  113497   8844.0\n",
              "2        3  113228  15602.0\n",
              "3        4  114885  31357.0\n",
              "4        5  113041  11862.0"
            ]
          },
          "execution_count": 28,
          "metadata": {},
          "output_type": "execute_result"
        }
      ],
      "source": [
        "df_links = pd.read_csv(\"/links.csv\")\n",
        "df_links.head()"
      ]
    },
    {
      "cell_type": "code",
      "execution_count": 29,
      "metadata": {
        "colab": {
          "base_uri": "https://localhost:8080/"
        },
        "id": "Xd88wFmroNlT",
        "outputId": "31b377ac-bc94-4ac1-d2a3-9df9c72e29fe"
      },
      "outputs": [
        {
          "name": "stdout",
          "output_type": "stream",
          "text": [
            "<class 'pandas.core.frame.DataFrame'>\n",
            "RangeIndex: 9742 entries, 0 to 9741\n",
            "Data columns (total 3 columns):\n",
            " #   Column   Non-Null Count  Dtype  \n",
            "---  ------   --------------  -----  \n",
            " 0   movieId  9742 non-null   int64  \n",
            " 1   imdbId   9742 non-null   int64  \n",
            " 2   tmdbId   9734 non-null   float64\n",
            "dtypes: float64(1), int64(2)\n",
            "memory usage: 228.5 KB\n"
          ]
        }
      ],
      "source": [
        "df_links.info()"
      ]
    },
    {
      "cell_type": "code",
      "execution_count": 30,
      "metadata": {
        "colab": {
          "base_uri": "https://localhost:8080/"
        },
        "id": "69Z8028HoWbL",
        "outputId": "ef28d84d-7800-41e3-9578-db8431418d4a"
      },
      "outputs": [
        {
          "data": {
            "text/plain": [
              "(9742, 3)"
            ]
          },
          "execution_count": 30,
          "metadata": {},
          "output_type": "execute_result"
        }
      ],
      "source": [
        "#check dataset shape\n",
        "df_links.shape"
      ]
    },
    {
      "cell_type": "code",
      "execution_count": 31,
      "metadata": {
        "colab": {
          "base_uri": "https://localhost:8080/"
        },
        "id": "3_TDFTNToYo7",
        "outputId": "2383edd7-bd5d-44d6-eec4-fbe0718f0c2a"
      },
      "outputs": [
        {
          "name": "stdout",
          "output_type": "stream",
          "text": [
            "For movieId,9742 unique values present\n",
            "For imdbId,9742 unique values present\n",
            "For tmdbId,9733 unique values present\n"
          ]
        }
      ],
      "source": [
        "#check dataset links\n",
        "for data_lin in df_links:\n",
        "    print('For {},{} unique values present'.format(data_lin,df_links[data_lin].nunique()))"
      ]
    },
    {
      "cell_type": "markdown",
      "metadata": {
        "id": "rNGdTaYJZZaQ"
      },
      "source": [
        "# 1.3 Choosing Dataset"
      ]
    },
    {
      "cell_type": "markdown",
      "metadata": {
        "id": "4l3I4tmGZZL4"
      },
      "source": [
        "The project aims at building a recommendation system based on movie ratings, with these we will merge df_movies and df_ratings"
      ]
    },
    {
      "cell_type": "code",
      "execution_count": 32,
      "metadata": {
        "colab": {
          "base_uri": "https://localhost:8080/"
        },
        "id": "tKCUJRQgoakG",
        "outputId": "1bea48af-ddc6-43d9-c818-7057625f5645"
      },
      "outputs": [
        {
          "name": "stdout",
          "output_type": "stream",
          "text": [
            "Merged Dataframe Info:\n",
            "<class 'pandas.core.frame.DataFrame'>\n",
            "RangeIndex: 100836 entries, 0 to 100835\n",
            "Data columns (total 6 columns):\n",
            " #   Column     Non-Null Count   Dtype  \n",
            "---  ------     --------------   -----  \n",
            " 0   movieId    100836 non-null  int64  \n",
            " 1   title      100836 non-null  object \n",
            " 2   genres     100836 non-null  object \n",
            " 3   userId     100836 non-null  int64  \n",
            " 4   rating     100836 non-null  float64\n",
            " 5   timestamp  100836 non-null  int64  \n",
            "dtypes: float64(1), int64(3), object(2)\n",
            "memory usage: 4.6+ MB\n"
          ]
        }
      ],
      "source": [
        "# Merge the dataframes\n",
        "df2 = pd.merge(df_movies, df_ratings, on='movieId')\n",
        "\n",
        "# Print the information of the merged dataframe\n",
        "print(\"Merged Dataframe Info:\")\n",
        "df2.info()"
      ]
    },
    {
      "cell_type": "code",
      "execution_count": 33,
      "metadata": {
        "colab": {
          "base_uri": "https://localhost:8080/",
          "height": 380
        },
        "id": "OUVquIfcodPH",
        "outputId": "b3751339-d971-4360-9c18-acc03f0242bd"
      },
      "outputs": [
        {
          "data": {
            "application/vnd.google.colaboratory.intrinsic+json": {
              "type": "dataframe",
              "variable_name": "df2"
            },
            "text/html": [
              "\n",
              "  <div id=\"df-11a41ae1-99fb-4181-97eb-126763d17f0d\" class=\"colab-df-container\">\n",
              "    <div>\n",
              "<style scoped>\n",
              "    .dataframe tbody tr th:only-of-type {\n",
              "        vertical-align: middle;\n",
              "    }\n",
              "\n",
              "    .dataframe tbody tr th {\n",
              "        vertical-align: top;\n",
              "    }\n",
              "\n",
              "    .dataframe thead th {\n",
              "        text-align: right;\n",
              "    }\n",
              "</style>\n",
              "<table border=\"1\" class=\"dataframe\">\n",
              "  <thead>\n",
              "    <tr style=\"text-align: right;\">\n",
              "      <th></th>\n",
              "      <th>movieId</th>\n",
              "      <th>title</th>\n",
              "      <th>genres</th>\n",
              "      <th>userId</th>\n",
              "      <th>rating</th>\n",
              "      <th>timestamp</th>\n",
              "    </tr>\n",
              "  </thead>\n",
              "  <tbody>\n",
              "    <tr>\n",
              "      <th>0</th>\n",
              "      <td>1</td>\n",
              "      <td>Toy Story (1995)</td>\n",
              "      <td>Adventure|Animation|Children|Comedy|Fantasy</td>\n",
              "      <td>1</td>\n",
              "      <td>4.0</td>\n",
              "      <td>964982703</td>\n",
              "    </tr>\n",
              "    <tr>\n",
              "      <th>1</th>\n",
              "      <td>1</td>\n",
              "      <td>Toy Story (1995)</td>\n",
              "      <td>Adventure|Animation|Children|Comedy|Fantasy</td>\n",
              "      <td>5</td>\n",
              "      <td>4.0</td>\n",
              "      <td>847434962</td>\n",
              "    </tr>\n",
              "    <tr>\n",
              "      <th>2</th>\n",
              "      <td>1</td>\n",
              "      <td>Toy Story (1995)</td>\n",
              "      <td>Adventure|Animation|Children|Comedy|Fantasy</td>\n",
              "      <td>7</td>\n",
              "      <td>4.5</td>\n",
              "      <td>1106635946</td>\n",
              "    </tr>\n",
              "    <tr>\n",
              "      <th>3</th>\n",
              "      <td>1</td>\n",
              "      <td>Toy Story (1995)</td>\n",
              "      <td>Adventure|Animation|Children|Comedy|Fantasy</td>\n",
              "      <td>15</td>\n",
              "      <td>2.5</td>\n",
              "      <td>1510577970</td>\n",
              "    </tr>\n",
              "    <tr>\n",
              "      <th>4</th>\n",
              "      <td>1</td>\n",
              "      <td>Toy Story (1995)</td>\n",
              "      <td>Adventure|Animation|Children|Comedy|Fantasy</td>\n",
              "      <td>17</td>\n",
              "      <td>4.5</td>\n",
              "      <td>1305696483</td>\n",
              "    </tr>\n",
              "  </tbody>\n",
              "</table>\n",
              "</div>\n",
              "    <div class=\"colab-df-buttons\">\n",
              "\n",
              "  <div class=\"colab-df-container\">\n",
              "    <button class=\"colab-df-convert\" onclick=\"convertToInteractive('df-11a41ae1-99fb-4181-97eb-126763d17f0d')\"\n",
              "            title=\"Convert this dataframe to an interactive table.\"\n",
              "            style=\"display:none;\">\n",
              "\n",
              "  <svg xmlns=\"http://www.w3.org/2000/svg\" height=\"24px\" viewBox=\"0 -960 960 960\">\n",
              "    <path d=\"M120-120v-720h720v720H120Zm60-500h600v-160H180v160Zm220 220h160v-160H400v160Zm0 220h160v-160H400v160ZM180-400h160v-160H180v160Zm440 0h160v-160H620v160ZM180-180h160v-160H180v160Zm440 0h160v-160H620v160Z\"/>\n",
              "  </svg>\n",
              "    </button>\n",
              "\n",
              "  <style>\n",
              "    .colab-df-container {\n",
              "      display:flex;\n",
              "      gap: 12px;\n",
              "    }\n",
              "\n",
              "    .colab-df-convert {\n",
              "      background-color: #E8F0FE;\n",
              "      border: none;\n",
              "      border-radius: 50%;\n",
              "      cursor: pointer;\n",
              "      display: none;\n",
              "      fill: #1967D2;\n",
              "      height: 32px;\n",
              "      padding: 0 0 0 0;\n",
              "      width: 32px;\n",
              "    }\n",
              "\n",
              "    .colab-df-convert:hover {\n",
              "      background-color: #E2EBFA;\n",
              "      box-shadow: 0px 1px 2px rgba(60, 64, 67, 0.3), 0px 1px 3px 1px rgba(60, 64, 67, 0.15);\n",
              "      fill: #174EA6;\n",
              "    }\n",
              "\n",
              "    .colab-df-buttons div {\n",
              "      margin-bottom: 4px;\n",
              "    }\n",
              "\n",
              "    [theme=dark] .colab-df-convert {\n",
              "      background-color: #3B4455;\n",
              "      fill: #D2E3FC;\n",
              "    }\n",
              "\n",
              "    [theme=dark] .colab-df-convert:hover {\n",
              "      background-color: #434B5C;\n",
              "      box-shadow: 0px 1px 3px 1px rgba(0, 0, 0, 0.15);\n",
              "      filter: drop-shadow(0px 1px 2px rgba(0, 0, 0, 0.3));\n",
              "      fill: #FFFFFF;\n",
              "    }\n",
              "  </style>\n",
              "\n",
              "    <script>\n",
              "      const buttonEl =\n",
              "        document.querySelector('#df-11a41ae1-99fb-4181-97eb-126763d17f0d button.colab-df-convert');\n",
              "      buttonEl.style.display =\n",
              "        google.colab.kernel.accessAllowed ? 'block' : 'none';\n",
              "\n",
              "      async function convertToInteractive(key) {\n",
              "        const element = document.querySelector('#df-11a41ae1-99fb-4181-97eb-126763d17f0d');\n",
              "        const dataTable =\n",
              "          await google.colab.kernel.invokeFunction('convertToInteractive',\n",
              "                                                    [key], {});\n",
              "        if (!dataTable) return;\n",
              "\n",
              "        const docLinkHtml = 'Like what you see? Visit the ' +\n",
              "          '<a target=\"_blank\" href=https://colab.research.google.com/notebooks/data_table.ipynb>data table notebook</a>'\n",
              "          + ' to learn more about interactive tables.';\n",
              "        element.innerHTML = '';\n",
              "        dataTable['output_type'] = 'display_data';\n",
              "        await google.colab.output.renderOutput(dataTable, element);\n",
              "        const docLink = document.createElement('div');\n",
              "        docLink.innerHTML = docLinkHtml;\n",
              "        element.appendChild(docLink);\n",
              "      }\n",
              "    </script>\n",
              "  </div>\n",
              "\n",
              "\n",
              "<div id=\"df-696d4845-2d2c-47d0-8bcf-cb5054cd9573\">\n",
              "  <button class=\"colab-df-quickchart\" onclick=\"quickchart('df-696d4845-2d2c-47d0-8bcf-cb5054cd9573')\"\n",
              "            title=\"Suggest charts\"\n",
              "            style=\"display:none;\">\n",
              "\n",
              "<svg xmlns=\"http://www.w3.org/2000/svg\" height=\"24px\"viewBox=\"0 0 24 24\"\n",
              "     width=\"24px\">\n",
              "    <g>\n",
              "        <path d=\"M19 3H5c-1.1 0-2 .9-2 2v14c0 1.1.9 2 2 2h14c1.1 0 2-.9 2-2V5c0-1.1-.9-2-2-2zM9 17H7v-7h2v7zm4 0h-2V7h2v10zm4 0h-2v-4h2v4z\"/>\n",
              "    </g>\n",
              "</svg>\n",
              "  </button>\n",
              "\n",
              "<style>\n",
              "  .colab-df-quickchart {\n",
              "      --bg-color: #E8F0FE;\n",
              "      --fill-color: #1967D2;\n",
              "      --hover-bg-color: #E2EBFA;\n",
              "      --hover-fill-color: #174EA6;\n",
              "      --disabled-fill-color: #AAA;\n",
              "      --disabled-bg-color: #DDD;\n",
              "  }\n",
              "\n",
              "  [theme=dark] .colab-df-quickchart {\n",
              "      --bg-color: #3B4455;\n",
              "      --fill-color: #D2E3FC;\n",
              "      --hover-bg-color: #434B5C;\n",
              "      --hover-fill-color: #FFFFFF;\n",
              "      --disabled-bg-color: #3B4455;\n",
              "      --disabled-fill-color: #666;\n",
              "  }\n",
              "\n",
              "  .colab-df-quickchart {\n",
              "    background-color: var(--bg-color);\n",
              "    border: none;\n",
              "    border-radius: 50%;\n",
              "    cursor: pointer;\n",
              "    display: none;\n",
              "    fill: var(--fill-color);\n",
              "    height: 32px;\n",
              "    padding: 0;\n",
              "    width: 32px;\n",
              "  }\n",
              "\n",
              "  .colab-df-quickchart:hover {\n",
              "    background-color: var(--hover-bg-color);\n",
              "    box-shadow: 0 1px 2px rgba(60, 64, 67, 0.3), 0 1px 3px 1px rgba(60, 64, 67, 0.15);\n",
              "    fill: var(--button-hover-fill-color);\n",
              "  }\n",
              "\n",
              "  .colab-df-quickchart-complete:disabled,\n",
              "  .colab-df-quickchart-complete:disabled:hover {\n",
              "    background-color: var(--disabled-bg-color);\n",
              "    fill: var(--disabled-fill-color);\n",
              "    box-shadow: none;\n",
              "  }\n",
              "\n",
              "  .colab-df-spinner {\n",
              "    border: 2px solid var(--fill-color);\n",
              "    border-color: transparent;\n",
              "    border-bottom-color: var(--fill-color);\n",
              "    animation:\n",
              "      spin 1s steps(1) infinite;\n",
              "  }\n",
              "\n",
              "  @keyframes spin {\n",
              "    0% {\n",
              "      border-color: transparent;\n",
              "      border-bottom-color: var(--fill-color);\n",
              "      border-left-color: var(--fill-color);\n",
              "    }\n",
              "    20% {\n",
              "      border-color: transparent;\n",
              "      border-left-color: var(--fill-color);\n",
              "      border-top-color: var(--fill-color);\n",
              "    }\n",
              "    30% {\n",
              "      border-color: transparent;\n",
              "      border-left-color: var(--fill-color);\n",
              "      border-top-color: var(--fill-color);\n",
              "      border-right-color: var(--fill-color);\n",
              "    }\n",
              "    40% {\n",
              "      border-color: transparent;\n",
              "      border-right-color: var(--fill-color);\n",
              "      border-top-color: var(--fill-color);\n",
              "    }\n",
              "    60% {\n",
              "      border-color: transparent;\n",
              "      border-right-color: var(--fill-color);\n",
              "    }\n",
              "    80% {\n",
              "      border-color: transparent;\n",
              "      border-right-color: var(--fill-color);\n",
              "      border-bottom-color: var(--fill-color);\n",
              "    }\n",
              "    90% {\n",
              "      border-color: transparent;\n",
              "      border-bottom-color: var(--fill-color);\n",
              "    }\n",
              "  }\n",
              "</style>\n",
              "\n",
              "  <script>\n",
              "    async function quickchart(key) {\n",
              "      const quickchartButtonEl =\n",
              "        document.querySelector('#' + key + ' button');\n",
              "      quickchartButtonEl.disabled = true;  // To prevent multiple clicks.\n",
              "      quickchartButtonEl.classList.add('colab-df-spinner');\n",
              "      try {\n",
              "        const charts = await google.colab.kernel.invokeFunction(\n",
              "            'suggestCharts', [key], {});\n",
              "      } catch (error) {\n",
              "        console.error('Error during call to suggestCharts:', error);\n",
              "      }\n",
              "      quickchartButtonEl.classList.remove('colab-df-spinner');\n",
              "      quickchartButtonEl.classList.add('colab-df-quickchart-complete');\n",
              "    }\n",
              "    (() => {\n",
              "      let quickchartButtonEl =\n",
              "        document.querySelector('#df-696d4845-2d2c-47d0-8bcf-cb5054cd9573 button');\n",
              "      quickchartButtonEl.style.display =\n",
              "        google.colab.kernel.accessAllowed ? 'block' : 'none';\n",
              "    })();\n",
              "  </script>\n",
              "</div>\n",
              "\n",
              "    </div>\n",
              "  </div>\n"
            ],
            "text/plain": [
              "   movieId             title                                       genres  \\\n",
              "0        1  Toy Story (1995)  Adventure|Animation|Children|Comedy|Fantasy   \n",
              "1        1  Toy Story (1995)  Adventure|Animation|Children|Comedy|Fantasy   \n",
              "2        1  Toy Story (1995)  Adventure|Animation|Children|Comedy|Fantasy   \n",
              "3        1  Toy Story (1995)  Adventure|Animation|Children|Comedy|Fantasy   \n",
              "4        1  Toy Story (1995)  Adventure|Animation|Children|Comedy|Fantasy   \n",
              "\n",
              "   userId  rating   timestamp  \n",
              "0       1     4.0   964982703  \n",
              "1       5     4.0   847434962  \n",
              "2       7     4.5  1106635946  \n",
              "3      15     2.5  1510577970  \n",
              "4      17     4.5  1305696483  "
            ]
          },
          "execution_count": 33,
          "metadata": {},
          "output_type": "execute_result"
        }
      ],
      "source": [
        "#Review merged dataframe\n",
        "df2.head()"
      ]
    },
    {
      "cell_type": "code",
      "execution_count": 34,
      "metadata": {
        "colab": {
          "base_uri": "https://localhost:8080/"
        },
        "id": "_1T7YkS_ofuR",
        "outputId": "69cf0da8-3c8f-4521-ec08-503b0dd5e21c"
      },
      "outputs": [
        {
          "data": {
            "text/plain": [
              "movieId      0\n",
              "title        0\n",
              "genres       0\n",
              "userId       0\n",
              "rating       0\n",
              "timestamp    0\n",
              "dtype: int64"
            ]
          },
          "execution_count": 34,
          "metadata": {},
          "output_type": "execute_result"
        }
      ],
      "source": [
        "# Check for missing values in the MovieLens dataset\n",
        "df2.isnull().sum()"
      ]
    },
    {
      "cell_type": "markdown",
      "metadata": {
        "id": "LReYRoHeZjJJ"
      },
      "source": [
        "# 2. DATA ANALYSIS"
      ]
    },
    {
      "cell_type": "markdown",
      "metadata": {
        "id": "cdM1K9_FZi_g"
      },
      "source": [
        "Analysis movie preference over the years.\n",
        "\n",
        "To understand userid movie preference produced over the years, we will start by extracting the year from the title."
      ]
    },
    {
      "cell_type": "code",
      "execution_count": 35,
      "metadata": {
        "colab": {
          "base_uri": "https://localhost:8080/",
          "height": 400
        },
        "id": "yMWHY4CSoiAE",
        "outputId": "f17b5cad-7ea6-48a8-eee6-2f6875bf1add"
      },
      "outputs": [
        {
          "data": {
            "application/vnd.google.colaboratory.intrinsic+json": {
              "type": "dataframe",
              "variable_name": "df2"
            },
            "text/html": [
              "\n",
              "  <div id=\"df-84c7a59e-d702-4aa3-9811-47223e0099c4\" class=\"colab-df-container\">\n",
              "    <div>\n",
              "<style scoped>\n",
              "    .dataframe tbody tr th:only-of-type {\n",
              "        vertical-align: middle;\n",
              "    }\n",
              "\n",
              "    .dataframe tbody tr th {\n",
              "        vertical-align: top;\n",
              "    }\n",
              "\n",
              "    .dataframe thead th {\n",
              "        text-align: right;\n",
              "    }\n",
              "</style>\n",
              "<table border=\"1\" class=\"dataframe\">\n",
              "  <thead>\n",
              "    <tr style=\"text-align: right;\">\n",
              "      <th></th>\n",
              "      <th>movieId</th>\n",
              "      <th>title</th>\n",
              "      <th>genres</th>\n",
              "      <th>userId</th>\n",
              "      <th>rating</th>\n",
              "      <th>timestamp</th>\n",
              "      <th>year</th>\n",
              "    </tr>\n",
              "  </thead>\n",
              "  <tbody>\n",
              "    <tr>\n",
              "      <th>0</th>\n",
              "      <td>1</td>\n",
              "      <td>Toy Story (1995)</td>\n",
              "      <td>Adventure|Animation|Children|Comedy|Fantasy</td>\n",
              "      <td>1</td>\n",
              "      <td>4.0</td>\n",
              "      <td>964982703</td>\n",
              "      <td>1995</td>\n",
              "    </tr>\n",
              "    <tr>\n",
              "      <th>1</th>\n",
              "      <td>1</td>\n",
              "      <td>Toy Story (1995)</td>\n",
              "      <td>Adventure|Animation|Children|Comedy|Fantasy</td>\n",
              "      <td>5</td>\n",
              "      <td>4.0</td>\n",
              "      <td>847434962</td>\n",
              "      <td>1995</td>\n",
              "    </tr>\n",
              "    <tr>\n",
              "      <th>2</th>\n",
              "      <td>1</td>\n",
              "      <td>Toy Story (1995)</td>\n",
              "      <td>Adventure|Animation|Children|Comedy|Fantasy</td>\n",
              "      <td>7</td>\n",
              "      <td>4.5</td>\n",
              "      <td>1106635946</td>\n",
              "      <td>1995</td>\n",
              "    </tr>\n",
              "    <tr>\n",
              "      <th>3</th>\n",
              "      <td>1</td>\n",
              "      <td>Toy Story (1995)</td>\n",
              "      <td>Adventure|Animation|Children|Comedy|Fantasy</td>\n",
              "      <td>15</td>\n",
              "      <td>2.5</td>\n",
              "      <td>1510577970</td>\n",
              "      <td>1995</td>\n",
              "    </tr>\n",
              "    <tr>\n",
              "      <th>4</th>\n",
              "      <td>1</td>\n",
              "      <td>Toy Story (1995)</td>\n",
              "      <td>Adventure|Animation|Children|Comedy|Fantasy</td>\n",
              "      <td>17</td>\n",
              "      <td>4.5</td>\n",
              "      <td>1305696483</td>\n",
              "      <td>1995</td>\n",
              "    </tr>\n",
              "  </tbody>\n",
              "</table>\n",
              "</div>\n",
              "    <div class=\"colab-df-buttons\">\n",
              "\n",
              "  <div class=\"colab-df-container\">\n",
              "    <button class=\"colab-df-convert\" onclick=\"convertToInteractive('df-84c7a59e-d702-4aa3-9811-47223e0099c4')\"\n",
              "            title=\"Convert this dataframe to an interactive table.\"\n",
              "            style=\"display:none;\">\n",
              "\n",
              "  <svg xmlns=\"http://www.w3.org/2000/svg\" height=\"24px\" viewBox=\"0 -960 960 960\">\n",
              "    <path d=\"M120-120v-720h720v720H120Zm60-500h600v-160H180v160Zm220 220h160v-160H400v160Zm0 220h160v-160H400v160ZM180-400h160v-160H180v160Zm440 0h160v-160H620v160ZM180-180h160v-160H180v160Zm440 0h160v-160H620v160Z\"/>\n",
              "  </svg>\n",
              "    </button>\n",
              "\n",
              "  <style>\n",
              "    .colab-df-container {\n",
              "      display:flex;\n",
              "      gap: 12px;\n",
              "    }\n",
              "\n",
              "    .colab-df-convert {\n",
              "      background-color: #E8F0FE;\n",
              "      border: none;\n",
              "      border-radius: 50%;\n",
              "      cursor: pointer;\n",
              "      display: none;\n",
              "      fill: #1967D2;\n",
              "      height: 32px;\n",
              "      padding: 0 0 0 0;\n",
              "      width: 32px;\n",
              "    }\n",
              "\n",
              "    .colab-df-convert:hover {\n",
              "      background-color: #E2EBFA;\n",
              "      box-shadow: 0px 1px 2px rgba(60, 64, 67, 0.3), 0px 1px 3px 1px rgba(60, 64, 67, 0.15);\n",
              "      fill: #174EA6;\n",
              "    }\n",
              "\n",
              "    .colab-df-buttons div {\n",
              "      margin-bottom: 4px;\n",
              "    }\n",
              "\n",
              "    [theme=dark] .colab-df-convert {\n",
              "      background-color: #3B4455;\n",
              "      fill: #D2E3FC;\n",
              "    }\n",
              "\n",
              "    [theme=dark] .colab-df-convert:hover {\n",
              "      background-color: #434B5C;\n",
              "      box-shadow: 0px 1px 3px 1px rgba(0, 0, 0, 0.15);\n",
              "      filter: drop-shadow(0px 1px 2px rgba(0, 0, 0, 0.3));\n",
              "      fill: #FFFFFF;\n",
              "    }\n",
              "  </style>\n",
              "\n",
              "    <script>\n",
              "      const buttonEl =\n",
              "        document.querySelector('#df-84c7a59e-d702-4aa3-9811-47223e0099c4 button.colab-df-convert');\n",
              "      buttonEl.style.display =\n",
              "        google.colab.kernel.accessAllowed ? 'block' : 'none';\n",
              "\n",
              "      async function convertToInteractive(key) {\n",
              "        const element = document.querySelector('#df-84c7a59e-d702-4aa3-9811-47223e0099c4');\n",
              "        const dataTable =\n",
              "          await google.colab.kernel.invokeFunction('convertToInteractive',\n",
              "                                                    [key], {});\n",
              "        if (!dataTable) return;\n",
              "\n",
              "        const docLinkHtml = 'Like what you see? Visit the ' +\n",
              "          '<a target=\"_blank\" href=https://colab.research.google.com/notebooks/data_table.ipynb>data table notebook</a>'\n",
              "          + ' to learn more about interactive tables.';\n",
              "        element.innerHTML = '';\n",
              "        dataTable['output_type'] = 'display_data';\n",
              "        await google.colab.output.renderOutput(dataTable, element);\n",
              "        const docLink = document.createElement('div');\n",
              "        docLink.innerHTML = docLinkHtml;\n",
              "        element.appendChild(docLink);\n",
              "      }\n",
              "    </script>\n",
              "  </div>\n",
              "\n",
              "\n",
              "<div id=\"df-52452bbc-68ae-4d32-a21a-eb9746a5fda7\">\n",
              "  <button class=\"colab-df-quickchart\" onclick=\"quickchart('df-52452bbc-68ae-4d32-a21a-eb9746a5fda7')\"\n",
              "            title=\"Suggest charts\"\n",
              "            style=\"display:none;\">\n",
              "\n",
              "<svg xmlns=\"http://www.w3.org/2000/svg\" height=\"24px\"viewBox=\"0 0 24 24\"\n",
              "     width=\"24px\">\n",
              "    <g>\n",
              "        <path d=\"M19 3H5c-1.1 0-2 .9-2 2v14c0 1.1.9 2 2 2h14c1.1 0 2-.9 2-2V5c0-1.1-.9-2-2-2zM9 17H7v-7h2v7zm4 0h-2V7h2v10zm4 0h-2v-4h2v4z\"/>\n",
              "    </g>\n",
              "</svg>\n",
              "  </button>\n",
              "\n",
              "<style>\n",
              "  .colab-df-quickchart {\n",
              "      --bg-color: #E8F0FE;\n",
              "      --fill-color: #1967D2;\n",
              "      --hover-bg-color: #E2EBFA;\n",
              "      --hover-fill-color: #174EA6;\n",
              "      --disabled-fill-color: #AAA;\n",
              "      --disabled-bg-color: #DDD;\n",
              "  }\n",
              "\n",
              "  [theme=dark] .colab-df-quickchart {\n",
              "      --bg-color: #3B4455;\n",
              "      --fill-color: #D2E3FC;\n",
              "      --hover-bg-color: #434B5C;\n",
              "      --hover-fill-color: #FFFFFF;\n",
              "      --disabled-bg-color: #3B4455;\n",
              "      --disabled-fill-color: #666;\n",
              "  }\n",
              "\n",
              "  .colab-df-quickchart {\n",
              "    background-color: var(--bg-color);\n",
              "    border: none;\n",
              "    border-radius: 50%;\n",
              "    cursor: pointer;\n",
              "    display: none;\n",
              "    fill: var(--fill-color);\n",
              "    height: 32px;\n",
              "    padding: 0;\n",
              "    width: 32px;\n",
              "  }\n",
              "\n",
              "  .colab-df-quickchart:hover {\n",
              "    background-color: var(--hover-bg-color);\n",
              "    box-shadow: 0 1px 2px rgba(60, 64, 67, 0.3), 0 1px 3px 1px rgba(60, 64, 67, 0.15);\n",
              "    fill: var(--button-hover-fill-color);\n",
              "  }\n",
              "\n",
              "  .colab-df-quickchart-complete:disabled,\n",
              "  .colab-df-quickchart-complete:disabled:hover {\n",
              "    background-color: var(--disabled-bg-color);\n",
              "    fill: var(--disabled-fill-color);\n",
              "    box-shadow: none;\n",
              "  }\n",
              "\n",
              "  .colab-df-spinner {\n",
              "    border: 2px solid var(--fill-color);\n",
              "    border-color: transparent;\n",
              "    border-bottom-color: var(--fill-color);\n",
              "    animation:\n",
              "      spin 1s steps(1) infinite;\n",
              "  }\n",
              "\n",
              "  @keyframes spin {\n",
              "    0% {\n",
              "      border-color: transparent;\n",
              "      border-bottom-color: var(--fill-color);\n",
              "      border-left-color: var(--fill-color);\n",
              "    }\n",
              "    20% {\n",
              "      border-color: transparent;\n",
              "      border-left-color: var(--fill-color);\n",
              "      border-top-color: var(--fill-color);\n",
              "    }\n",
              "    30% {\n",
              "      border-color: transparent;\n",
              "      border-left-color: var(--fill-color);\n",
              "      border-top-color: var(--fill-color);\n",
              "      border-right-color: var(--fill-color);\n",
              "    }\n",
              "    40% {\n",
              "      border-color: transparent;\n",
              "      border-right-color: var(--fill-color);\n",
              "      border-top-color: var(--fill-color);\n",
              "    }\n",
              "    60% {\n",
              "      border-color: transparent;\n",
              "      border-right-color: var(--fill-color);\n",
              "    }\n",
              "    80% {\n",
              "      border-color: transparent;\n",
              "      border-right-color: var(--fill-color);\n",
              "      border-bottom-color: var(--fill-color);\n",
              "    }\n",
              "    90% {\n",
              "      border-color: transparent;\n",
              "      border-bottom-color: var(--fill-color);\n",
              "    }\n",
              "  }\n",
              "</style>\n",
              "\n",
              "  <script>\n",
              "    async function quickchart(key) {\n",
              "      const quickchartButtonEl =\n",
              "        document.querySelector('#' + key + ' button');\n",
              "      quickchartButtonEl.disabled = true;  // To prevent multiple clicks.\n",
              "      quickchartButtonEl.classList.add('colab-df-spinner');\n",
              "      try {\n",
              "        const charts = await google.colab.kernel.invokeFunction(\n",
              "            'suggestCharts', [key], {});\n",
              "      } catch (error) {\n",
              "        console.error('Error during call to suggestCharts:', error);\n",
              "      }\n",
              "      quickchartButtonEl.classList.remove('colab-df-spinner');\n",
              "      quickchartButtonEl.classList.add('colab-df-quickchart-complete');\n",
              "    }\n",
              "    (() => {\n",
              "      let quickchartButtonEl =\n",
              "        document.querySelector('#df-52452bbc-68ae-4d32-a21a-eb9746a5fda7 button');\n",
              "      quickchartButtonEl.style.display =\n",
              "        google.colab.kernel.accessAllowed ? 'block' : 'none';\n",
              "    })();\n",
              "  </script>\n",
              "</div>\n",
              "\n",
              "    </div>\n",
              "  </div>\n"
            ],
            "text/plain": [
              "   movieId             title                                       genres  \\\n",
              "0        1  Toy Story (1995)  Adventure|Animation|Children|Comedy|Fantasy   \n",
              "1        1  Toy Story (1995)  Adventure|Animation|Children|Comedy|Fantasy   \n",
              "2        1  Toy Story (1995)  Adventure|Animation|Children|Comedy|Fantasy   \n",
              "3        1  Toy Story (1995)  Adventure|Animation|Children|Comedy|Fantasy   \n",
              "4        1  Toy Story (1995)  Adventure|Animation|Children|Comedy|Fantasy   \n",
              "\n",
              "   userId  rating   timestamp  year  \n",
              "0       1     4.0   964982703  1995  \n",
              "1       5     4.0   847434962  1995  \n",
              "2       7     4.5  1106635946  1995  \n",
              "3      15     2.5  1510577970  1995  \n",
              "4      17     4.5  1305696483  1995  "
            ]
          },
          "execution_count": 35,
          "metadata": {},
          "output_type": "execute_result"
        }
      ],
      "source": [
        "# Extract the year from 'title' column\n",
        "df2['year'] = df2['title'].str.extract(r'\\((\\d{4})\\)')\n",
        "df2['title'] = df2['title'].str.replace(r'\\s*\\(\\d{4}\\)', '')\n",
        "\n",
        "# Print the updated DataFrame\n",
        "df2.head()"
      ]
    },
    {
      "cell_type": "markdown",
      "metadata": {
        "id": "5WBHfKlrZrpD"
      },
      "source": [
        "For general understanding, we will analyse the top 10 most produced genres over the years"
      ]
    },
    {
      "cell_type": "code",
      "execution_count": 36,
      "metadata": {
        "colab": {
          "base_uri": "https://localhost:8080/",
          "height": 474
        },
        "id": "VBmgtk43okcF",
        "outputId": "d7cc18e9-4328-46c9-daf6-7682de1cfcee"
      },
      "outputs": [
        {
          "data": {
            "image/png": "[encoded data removed]",
            "text/plain": [
              "<Figure size 1000x600 with 1 Axes>"
            ]
          },
          "metadata": {},
          "output_type": "display_data"
        }
      ],
      "source": [
        "# Group by year and genre, and count the number of movies\n",
        "genre_counts = df2.groupby(['year', 'genres']).size().unstack()\n",
        "\n",
        "# Get the top ten most produced genres\n",
        "top_genres = genre_counts.sum().nlargest(10).index\n",
        "\n",
        "# Filter the genre counts for the top ten genres\n",
        "top_genre_counts = genre_counts[top_genres]\n",
        "\n",
        "# Plot the top ten most produced genres over the years\n",
        "top_genre_counts.plot(kind='line', figsize=(10, 6))\n",
        "plt.xlabel('Year')\n",
        "plt.ylabel('Number of Movies')\n",
        "plt.title('Top Ten Most Produced Genres Over the Years')\n",
        "plt.legend(title='Genres')\n",
        "plt.show()"
      ]
    },
    {
      "cell_type": "markdown",
      "metadata": {
        "id": "jDKK4BDUZvWB"
      },
      "source": [
        "Analyse the top 10 most rated movie genres over the years"
      ]
    },
    {
      "cell_type": "code",
      "execution_count": 37,
      "metadata": {
        "colab": {
          "base_uri": "https://localhost:8080/",
          "height": 605
        },
        "id": "AzZGpU0sonVF",
        "outputId": "38587c4c-e9bf-4ffa-c16e-5ee380992b2d"
      },
      "outputs": [
        {
          "data": {
            "image/png": "[encoded data removed]",
            "text/plain": [
              "<Figure size 1000x600 with 1 Axes>"
            ]
          },
          "metadata": {},
          "output_type": "display_data"
        }
      ],
      "source": [
        "# Calculate the total number of ratings for each genre\n",
        "genre_ratings = df2.groupby('genres')['rating'].count()\n",
        "\n",
        "# Get the top 10 most rated genres\n",
        "top_rated_genres = genre_ratings.nlargest(10)\n",
        "\n",
        "# Plot the top 10 most rated genres\n",
        "plt.figure(figsize=(10, 6))\n",
        "top_rated_genres.plot(kind='bar')\n",
        "plt.xlabel('Genres')\n",
        "plt.ylabel('Number of Ratings')\n",
        "plt.title('Top 10 Most Rated Genres')\n",
        "plt.show()"
      ]
    },
    {
      "cell_type": "markdown",
      "metadata": {
        "id": "sNs7vu5FZzgP"
      },
      "source": [
        "Analyse the number of titles rated by each userid"
      ]
    },
    {
      "cell_type": "code",
      "execution_count": 38,
      "metadata": {
        "colab": {
          "base_uri": "https://localhost:8080/"
        },
        "id": "F7glotPvoqwZ",
        "outputId": "c56f79dc-a11e-469f-d567-cbe760849513"
      },
      "outputs": [
        {
          "name": "stdout",
          "output_type": "stream",
          "text": [
            "userId\n",
            "1       232\n",
            "2        29\n",
            "3        39\n",
            "4       216\n",
            "5        44\n",
            "       ... \n",
            "606    1115\n",
            "607     187\n",
            "608     831\n",
            "609      37\n",
            "610    1302\n",
            "Name: title, Length: 610, dtype: int64\n"
          ]
        }
      ],
      "source": [
        "# Count the number of rated titles for each user ID\n",
        "titles_per_user = df2.groupby('userId')['title'].nunique()\n",
        "\n",
        "# Print the number of rated titles for each user ID\n",
        "print(titles_per_user)"
      ]
    },
    {
      "cell_type": "markdown",
      "metadata": {
        "id": "Xh74Vfj4Z23p"
      },
      "source": [
        "View top 10 users who rated the most titles"
      ]
    },
    {
      "cell_type": "code",
      "execution_count": 39,
      "metadata": {
        "colab": {
          "base_uri": "https://localhost:8080/",
          "height": 480
        },
        "id": "0Wzl-JgSovDl",
        "outputId": "6fe33f9d-096b-4908-c2f2-31a4e86a7bc2"
      },
      "outputs": [
        {
          "data": {
            "image/png": "[encoded data removed]",
            "text/plain": [
              "<Figure size 1000x600 with 1 Axes>"
            ]
          },
          "metadata": {},
          "output_type": "display_data"
        }
      ],
      "source": [
        "# Count the number of rated titles for each user ID\n",
        "titles_per_user = df2.groupby('userId')['title'].nunique()\n",
        "\n",
        "# Get the top 10 users who rated the most titles\n",
        "top_users = titles_per_user.nlargest(10)\n",
        "\n",
        "# Plot the user IDs who rated the most titles\n",
        "plt.figure(figsize=(10, 6))\n",
        "top_users.plot(kind='bar')\n",
        "plt.xlabel('User ID')\n",
        "plt.ylabel('Number of Rated Titles')\n",
        "plt.title('Top 10 Users Who Rated the Most Titles')\n",
        "plt.show()"
      ]
    },
    {
      "cell_type": "markdown",
      "metadata": {
        "id": "-KaQmbfcZ6uI"
      },
      "source": [
        "# 3. COLLABORATIVE FILTERING RECOMMENDATION SYSTEM"
      ]
    },
    {
      "cell_type": "markdown",
      "metadata": {
        "id": "rXTTJ6hFZ-v0"
      },
      "source": [
        "Import libary packages required for building a recommendation system"
      ]
    },
    {
      "cell_type": "code",
      "execution_count": 40,
      "metadata": {
        "id": "r9EMPAxBoxac"
      },
      "outputs": [],
      "source": [
        "# importing relevant libraries\n",
        "import surprise\n",
        "from surprise import Dataset, Reader, KNNBasic\n",
        "from surprise.model_selection import train_test_split\n",
        "from surprise import Dataset\n",
        "from surprise import Reader\n",
        "from surprise.model_selection import train_test_split\n",
        "from surprise.model_selection import cross_validate\n",
        "from surprise.prediction_algorithms import SVD\n",
        "from surprise.prediction_algorithms import KNNWithMeans, KNNBasic, KNNBaseline\n",
        "from surprise.model_selection import GridSearchCV\n",
        "import numpy as np"
      ]
    },
    {
      "cell_type": "code",
      "execution_count": 41,
      "metadata": {
        "id": "NMY1QaLro1jL"
      },
      "outputs": [],
      "source": [
        "# Convert the DataFrame into a Surprise Dataset\n",
        "reader = Reader(rating_scale=(0.5, 5.0))\n",
        "data = Dataset.load_from_df(df2[['userId', 'movieId', 'rating']], reader)\n",
        "\n",
        "# Split the data into training and testing sets\n",
        "trainset, testset = train_test_split(data, test_size=0.2)"
      ]
    },
    {
      "cell_type": "code",
      "execution_count": 42,
      "metadata": {
        "colab": {
          "base_uri": "https://localhost:8080/"
        },
        "id": "w4ivVDNKo6aF",
        "outputId": "6cbd8e4d-5cc1-4acd-d8cd-c0b538778c48"
      },
      "outputs": [
        {
          "name": "stdout",
          "output_type": "stream",
          "text": [
            "Number of users:  610 \n",
            "\n",
            "Number of items:  9724\n"
          ]
        }
      ],
      "source": [
        "dataset = data.build_full_trainset()\n",
        "print('Number of users: ', dataset.n_users, '\\n')\n",
        "print('Number of items: ', dataset.n_items)"
      ]
    },
    {
      "cell_type": "markdown",
      "metadata": {
        "id": "7y7teKjZaGQ2"
      },
      "source": [
        "Hypertunning Dataset to get the best parameters"
      ]
    },
    {
      "cell_type": "code",
      "execution_count": 43,
      "metadata": {
        "id": "cNpTyyxpo-sm"
      },
      "outputs": [],
      "source": [
        "## Perform a gridsearch with SVD\n",
        "params = {'n_factors': [20, 50, 100],\n",
        "         'reg_all': [0.02, 0.05, 0.1]}\n",
        "g_s_svd = GridSearchCV(SVD,param_grid=params,n_jobs=-1)\n",
        "g_s_svd.fit(data)"
      ]
    },
    {
      "cell_type": "code",
      "execution_count": 44,
      "metadata": {
        "colab": {
          "base_uri": "https://localhost:8080/"
        },
        "id": "zB0hK0v2pBWK",
        "outputId": "c22d7c38-5b3e-481b-9e09-4157d35d08b7"
      },
      "outputs": [
        {
          "name": "stdout",
          "output_type": "stream",
          "text": [
            "{'rmse': 0.8689084044206234, 'mae': 0.6676642618974565}\n",
            "{'rmse': {'n_factors': 20, 'reg_all': 0.02}, 'mae': {'n_factors': 20, 'reg_all': 0.02}}\n"
          ]
        }
      ],
      "source": [
        "print(g_s_svd.best_score)\n",
        "print(g_s_svd.best_params)"
      ]
    },
    {
      "cell_type": "markdown",
      "metadata": {
        "id": "H9AkxxU6aKlx"
      },
      "source": [
        "The result shows the best scores achieved by the SVD algorithm is RMSE OF 0.8693804004379402 and MAE of 0.6684190070988877. From the grid search we also observe that the best parameter combination for both RMSE and MAE is 'n_factors': 100, 'reg_all': 0.05"
      ]
    },
    {
      "cell_type": "code",
      "execution_count": 45,
      "metadata": {
        "id": "7HMzpduWpS2B"
      },
      "outputs": [],
      "source": [
        "# cross validating with KNNBasic\n",
        "knn_basic = KNNBasic(sim_options={'name':'pearson', 'user_based':True})\n",
        "cv_knn_basic = cross_validate(knn_basic, data, n_jobs=-1)"
      ]
    },
    {
      "cell_type": "code",
      "execution_count": 46,
      "metadata": {
        "colab": {
          "base_uri": "https://localhost:8080/"
        },
        "id": "OwDRiEKupU5z",
        "outputId": "5ce6a629-169c-4741-a46f-aa8f761af4dd"
      },
      "outputs": [
        {
          "name": "stdout",
          "output_type": "stream",
          "text": [
            "('test_rmse', array([0.96339957, 0.96655921, 0.99135634, 0.97478368, 0.97640492]))\n",
            "('test_mae', array([0.74446465, 0.74664573, 0.76284812, 0.7524714 , 0.75620478]))\n",
            "('fit_time', (1.1774835586547852, 1.3943769931793213, 0.6393659114837646, 0.6150145530700684, 0.20840859413146973))\n",
            "('test_time', (2.990314245223999, 2.488309383392334, 2.7890357971191406, 2.6668288707733154, 1.040494441986084))\n",
            "-----------------------\n",
            "0.9745007433021978\n"
          ]
        }
      ],
      "source": [
        "# print out the average RMSE score for the test set\n",
        "for i in cv_knn_basic.items():\n",
        "    print(i)\n",
        "print('-----------------------')\n",
        "print(np.mean(cv_knn_basic['test_rmse']))"
      ]
    },
    {
      "cell_type": "markdown",
      "metadata": {
        "id": "ht0aEte_aPob"
      },
      "source": [
        "The results test_rmse shows RMSE for each fold of the cross-validation, test_mae shows the MAE for each fold of the cross-validation, the fit_time shows the time taken to fit(train) the algorithm on each fold of the cross-validation and lastly test_time shows time taken to test(predict) the algorithm on each fold of the cross validation.\n",
        "0.9730103781790413 shows the average RMSE score across all the cross-validation."
      ]
    },
    {
      "cell_type": "code",
      "execution_count": 47,
      "metadata": {
        "colab": {
          "base_uri": "https://localhost:8080/"
        },
        "id": "kxe139t_palx",
        "outputId": "bb51e52b-e72f-45f9-9227-f985b96446f7"
      },
      "outputs": [
        {
          "name": "stdout",
          "output_type": "stream",
          "text": [
            "Estimating biases using als...\n",
            "Computing the pearson similarity matrix...\n",
            "Done computing similarity matrix.\n",
            "Estimating biases using als...\n",
            "Computing the pearson similarity matrix...\n",
            "Done computing similarity matrix.\n",
            "Estimating biases using als...\n",
            "Computing the pearson similarity matrix...\n",
            "Done computing similarity matrix.\n",
            "Estimating biases using als...\n",
            "Computing the pearson similarity matrix...\n",
            "Done computing similarity matrix.\n",
            "Estimating biases using als...\n",
            "Computing the pearson similarity matrix...\n",
            "Done computing similarity matrix.\n"
          ]
        }
      ],
      "source": [
        "# cross validating with KNNBaseline\n",
        "knn_baseline = KNNBaseline(sim_options={'name':'pearson', 'user_based':True})\n",
        "cv_knn_baseline = cross_validate(knn_baseline,data)"
      ]
    },
    {
      "cell_type": "code",
      "execution_count": 48,
      "metadata": {
        "colab": {
          "base_uri": "https://localhost:8080/"
        },
        "id": "00P-BWXQpdQ_",
        "outputId": "243df6e0-f76b-45fd-e17a-9ef4e7b730da"
      },
      "outputs": [
        {
          "name": "stdout",
          "output_type": "stream",
          "text": [
            "('test_rmse', array([0.88310339, 0.88418044, 0.87145506, 0.868085  , 0.87903105]))\n",
            "('test_mae', array([0.67384631, 0.67606718, 0.6672884 , 0.66165762, 0.66980142]))\n",
            "('fit_time', (1.3389708995819092, 0.8254594802856445, 0.6564302444458008, 0.649843692779541, 0.6536314487457275))\n",
            "('test_time', (5.806411027908325, 1.6559383869171143, 1.6089622974395752, 1.7412354946136475, 1.673581600189209))\n"
          ]
        },
        {
          "data": {
            "text/plain": [
              "0.8771709881373813"
            ]
          },
          "execution_count": 48,
          "metadata": {},
          "output_type": "execute_result"
        }
      ],
      "source": [
        "# print out the average score for the test set\n",
        "for i in cv_knn_baseline.items():\n",
        "    print(i)\n",
        "\n",
        "np.mean(cv_knn_baseline['test_rmse'])"
      ]
    },
    {
      "cell_type": "markdown",
      "metadata": {
        "id": "Zwwpb5y0pzn1"
      },
      "source": [
        "The results test_rmse shows RMSE for each fold of the cross-validation, test_mae shows the MAE for each fold of the cross-validation, the fit_time shows the time taken to fit(train) the algorithm on each fold of the cross-validation and lastly test_time shows time taken to test(predict) the algorithm on each fold of the cross validation.\n",
        "0.8774070745386995 shows the average RMSE score across all the cross-validation."
      ]
    },
    {
      "cell_type": "markdown",
      "metadata": {
        "id": "1oZBIItIp4N9"
      },
      "source": [
        "Comparing the RMSE values between KNNBasic and KNNBaseline:\n",
        "\n",
        "1. The KNNBaseline algorithm has a lower RMSE of 0.8774070745386995, which suggests that it has better prediction accuracy compared to KNNBasic.\n",
        "2. The KNNBasic algorithm has a higher RMSE of 0.9730103781790413, indicating a slightly higher prediction error.\n",
        "\n",
        "Based on the RMSE values provided, KNNBaseline appears to outperform KNNBasic in terms of prediction accuracy and recommendation quality."
      ]
    },
    {
      "cell_type": "markdown",
      "metadata": {
        "id": "kqoakVGwp8s1"
      },
      "source": [
        "## 3.1 MAKING PREDICTIONS"
      ]
    },
    {
      "cell_type": "markdown",
      "metadata": {
        "id": "id8FpN8CqBMA"
      },
      "source": [
        "Use the best parameters observed during the grid search to make predictions"
      ]
    },
    {
      "cell_type": "code",
      "execution_count": 49,
      "metadata": {
        "colab": {
          "base_uri": "https://localhost:8080/"
        },
        "id": "L_TFAHfEptgj",
        "outputId": "94c03188-04a1-41ef-b8cf-b5cac4e60762"
      },
      "outputs": [
        {
          "data": {
            "text/plain": [
              "<surprise.prediction_algorithms.matrix_factorization.SVD at 0x7a2171b9e050>"
            ]
          },
          "execution_count": 49,
          "metadata": {},
          "output_type": "execute_result"
        }
      ],
      "source": [
        "#instantiate SVD using best params and fit the dataset\n",
        "svd = SVD(n_factors= 50, reg_all=0.05)\n",
        "svd.fit(dataset)"
      ]
    },
    {
      "cell_type": "markdown",
      "metadata": {
        "id": "Wj3iMut2adUR"
      },
      "source": [
        "Let's make a simple prediction"
      ]
    },
    {
      "cell_type": "code",
      "execution_count": 50,
      "metadata": {
        "colab": {
          "base_uri": "https://localhost:8080/"
        },
        "id": "eOeS2RnnqDvR",
        "outputId": "7eb10125-8727-4ca6-88a8-2953bf36038d"
      },
      "outputs": [
        {
          "data": {
            "text/plain": [
              "Prediction(uid=2, iid=4, r_ui=None, est=3.017034738176316, details={'was_impossible': False})"
            ]
          },
          "execution_count": 50,
          "metadata": {},
          "output_type": "execute_result"
        }
      ],
      "source": [
        "svd.predict(2, 4)"
      ]
    },
    {
      "cell_type": "markdown",
      "metadata": {
        "id": "UPRoe1NDamix"
      },
      "source": [
        "The SVD model predicts that user 2 would give a rating of approximately 3.08 for movieID 4. This shows that the model is working"
      ]
    },
    {
      "cell_type": "markdown",
      "metadata": {
        "id": "uN1heTdNamRO"
      },
      "source": [
        "## 3.2 MAKING RECOMMENDATIONS"
      ]
    },
    {
      "cell_type": "markdown",
      "metadata": {
        "id": "JGnFuHrdal8s"
      },
      "source": [
        "Create a function that provides an interactive way for a user to rate movies by randomly selecting movies from the dataframe and collecting their ratings."
      ]
    },
    {
      "cell_type": "code",
      "execution_count": 51,
      "metadata": {
        "id": "lbfdv0trqHK9"
      },
      "outputs": [],
      "source": [
        "def movie_rater(data,num, genre=None):\n",
        "    userID = 1000\n",
        "    rating_list = []\n",
        "    while num > 0:\n",
        "        if genre:\n",
        "            movie = data[data['genres'].str.contains(genre)].sample(1)\n",
        "        else:\n",
        "            movie = data.sample(1)\n",
        "        print(movie)\n",
        "        rating = input('How do you rate this movie on a scale of 1-5, press n if you have not seen :\\n')\n",
        "        if rating == 'n':\n",
        "            continue\n",
        "        else:\n",
        "            rating_one_movie = {'userId':userID,'movieId':movie['movieId'].values[0],'rating':rating}\n",
        "            rating_list.append(rating_one_movie)\n",
        "            num -= 1\n",
        "    return rating_list"
      ]
    },
    {
      "cell_type": "code",
      "execution_count": 52,
      "metadata": {
        "colab": {
          "base_uri": "https://localhost:8080/"
        },
        "id": "WWcYP91fqPSL",
        "outputId": "e3462a36-22cd-4dc8-ae1f-c9d989d8d971"
      },
      "outputs": [
        {
          "name": "stdout",
          "output_type": "stream",
          "text": [
            "       movieId                title  genres  userId  rating   timestamp  year\n",
            "54149     3421  Animal House (1978)  Comedy     325     3.0  1039397698  1978\n",
            "How do you rate this movie on a scale of 1-5, press n if you have not seen :\n",
            "3\n",
            "       movieId                    title        genres  userId  rating  \\\n",
            "74496     7323  Good bye, Lenin! (2003)  Comedy|Drama      74     5.0   \n",
            "\n",
            "        timestamp  year  \n",
            "74496  1207500985  2003  \n",
            "How do you rate this movie on a scale of 1-5, press n if you have not seen :\n",
            "4\n",
            "       movieId                  title                             genres  \\\n",
            "36003     1848  Borrowers, The (1997)  Adventure|Children|Comedy|Fantasy   \n",
            "\n",
            "       userId  rating   timestamp  year  \n",
            "36003     527     4.0  1033175938  1997  \n",
            "How do you rate this movie on a scale of 1-5, press n if you have not seen :\n",
            "5\n",
            "       movieId                                     title  genres  userId  \\\n",
            "71926     6702  Dickie Roberts: Former Child Star (2003)  Comedy     307   \n",
            "\n",
            "       rating   timestamp  year  \n",
            "71926     2.5  1186259325  2003  \n",
            "How do you rate this movie on a scale of 1-5, press n if you have not seen :\n",
            "2\n"
          ]
        }
      ],
      "source": [
        "## try out the new function here!\n",
        "user_rating = movie_rater(df2, 4, 'Comedy')"
      ]
    },
    {
      "cell_type": "markdown",
      "metadata": {
        "id": "u1Xygk7CqyZ4"
      },
      "source": [
        "From the above, the function movie_rater has enabled us collect ratings for differ comedy movies from userid 4"
      ]
    },
    {
      "cell_type": "code",
      "execution_count": 54,
      "metadata": {
        "colab": {
          "base_uri": "https://localhost:8080/"
        },
        "id": "ZnmfHIHAqP_T",
        "outputId": "f6c0d232-8318-4272-f83a-ddeaa42ab4c5"
      },
      "outputs": [
        {
          "data": {
            "text/plain": [
              "[{'userId': 1000, 'movieId': 3421, 'rating': '3'},\n",
              " {'userId': 1000, 'movieId': 7323, 'rating': '4'},\n",
              " {'userId': 1000, 'movieId': 1848, 'rating': '5'},\n",
              " {'userId': 1000, 'movieId': 6702, 'rating': '2'}]"
            ]
          },
          "execution_count": 54,
          "metadata": {},
          "output_type": "execute_result"
        }
      ],
      "source": [
        "user_rating"
      ]
    },
    {
      "cell_type": "markdown",
      "metadata": {
        "id": "L9iso-k9q3ZN"
      },
      "source": [
        "# 3.2.1. MAKING PREDICTIONS WITH THE NEW RATINGS"
      ]
    },
    {
      "cell_type": "markdown",
      "metadata": {
        "id": "RsuKe5tRq8JS"
      },
      "source": [
        "Based on the ratings collected using the movie_rater function, we will recommend new movies to the users"
      ]
    },
    {
      "cell_type": "code",
      "execution_count": 58,
      "metadata": {
        "id": "c-4BjN3msSM_"
      },
      "outputs": [],
      "source": [
        "import pandas as pd\n",
        "\n",
        "# Sample new ratings data\n",
        "new_ratings_data = {\n",
        "    'userId': [1, 2, 3],\n",
        "    'movieId': [10, 20, 30],\n",
        "    'rating': [4, 5, 3]\n",
        "}\n",
        "new_ratings_df = pd.DataFrame(new_ratings_data)\n"
      ]
    },
    {
      "cell_type": "code",
      "execution_count": 59,
      "metadata": {
        "id": "0lY7nZWxq1D1"
      },
      "outputs": [],
      "source": [
        "# Concatenate the new ratings with the original ratings DataFrame\n",
        "merged_ratings_df = pd.concat([df2, new_ratings_df], ignore_index=True)\n",
        "\n",
        "# Load the merged ratings DataFrame into a Surprise Dataset\n",
        "reader = Reader(rating_scale=(1, 5))  # Modify the rating scale if necessary\n",
        "new_data = Dataset.load_from_df(merged_ratings_df[['userId', 'movieId', 'rating']], reader)\n",
        "\n",
        "# We will proceed with building the recommendation model using the merged dataset and perform any desired operations\n",
        "# such as training, testing, and making recommendations"
      ]
    },
    {
      "cell_type": "code",
      "execution_count": 61,
      "metadata": {
        "colab": {
          "base_uri": "https://localhost:8080/"
        },
        "id": "7XAzJdW7q6ku",
        "outputId": "9a41e2f4-e68d-41ed-a847-20a62c27b65e"
      },
      "outputs": [
        {
          "data": {
            "text/plain": [
              "<surprise.prediction_algorithms.matrix_factorization.SVD at 0x7a2171e83cd0>"
            ]
          },
          "execution_count": 61,
          "metadata": {},
          "output_type": "execute_result"
        }
      ],
      "source": [
        "# train a model using the new combined DataFrame\n",
        "svd_ = SVD(n_factors= 50, reg_all=0.05)\n",
        "svd_.fit(new_data.build_full_trainset())"
      ]
    },
    {
      "cell_type": "code",
      "execution_count": 62,
      "metadata": {
        "id": "zMgKl2oLsW35"
      },
      "outputs": [],
      "source": [
        "# make predictions for the user\n",
        "# you'll probably want to create a list of tuples in the format (movie_id, predicted_score)\n",
        "list_of_movies = []\n",
        "for m_id in df2['movieId'].unique():\n",
        "    list_of_movies.append( (m_id,svd_.predict(1000,m_id)[3]))"
      ]
    },
    {
      "cell_type": "code",
      "execution_count": 63,
      "metadata": {
        "id": "y7mLoBAIsofy"
      },
      "outputs": [],
      "source": [
        "# order the predictions from highest to lowest rated\n",
        "ranked_movies = sorted(list_of_movies, key=lambda x:x[1], reverse=True)"
      ]
    },
    {
      "cell_type": "markdown",
      "metadata": {
        "id": "_rCzXmtnsuFA"
      },
      "source": [
        "Create a function that takes a list of user ratings, matches the movie IDs with their titles from a DataFrame, and prints the top n recommended movies based on the ratings."
      ]
    },
    {
      "cell_type": "code",
      "execution_count": 64,
      "metadata": {
        "colab": {
          "base_uri": "https://localhost:8080/"
        },
        "id": "pNFLPZuTsrFi",
        "outputId": "f2e94634-cb6d-4573-8041-2756402a3d63"
      },
      "outputs": [
        {
          "name": "stdout",
          "output_type": "stream",
          "text": [
            "Recommendation #  1 :  277    Shawshank Redemption, The (1994)\n",
            "Name: title, dtype: object \n",
            "\n",
            "Recommendation #  2 :  906    Lawrence of Arabia (1962)\n",
            "Name: title, dtype: object \n",
            "\n",
            "Recommendation #  3 :  602    Dr. Strangelove or: How I Learned to Stop Worr...\n",
            "Name: title, dtype: object \n",
            "\n",
            "Recommendation #  4 :  841    Streetcar Named Desire, A (1951)\n",
            "Name: title, dtype: object \n",
            "\n",
            "Recommendation #  5 :  680    Philadelphia Story, The (1940)\n",
            "Name: title, dtype: object \n",
            "\n"
          ]
        }
      ],
      "source": [
        "# return the top n recommendations using the\n",
        "def recommended_movies(user_ratings,movie_title_df,n):\n",
        "        for idx, rec in enumerate(user_ratings):\n",
        "            title = movie_title_df.loc[movie_title_df['movieId'] == int(rec[0])]['title']\n",
        "            print('Recommendation # ', idx+1, ': ', title, '\\n')\n",
        "            n-= 1\n",
        "            if n == 0:\n",
        "                break\n",
        "\n",
        "recommended_movies(ranked_movies,df_movies,5)"
      ]
    },
    {
      "cell_type": "markdown",
      "metadata": {
        "id": "3chr8kQzsxuC"
      },
      "source": [
        "## TESTING THE RECOMMENDATION SYSTEM"
      ]
    },
    {
      "cell_type": "markdown",
      "metadata": {
        "id": "0p1Yq27hs0Ln"
      },
      "source": [
        "Let's chain all of the steps together into one function that asks users for ratings for a certain number of movies, then all of the above steps are performed to return the top  𝑛 recommendations.\n",
        "The recommender system will only return items that come from a specified genre"
      ]
    },
    {
      "cell_type": "markdown",
      "metadata": {
        "id": "OOk5mefbs6ec"
      },
      "source": [
        "The function asks users for ratings for a certain number of movies, and then performs all the necessary steps, and returns the top recommendations from a specified genre:"
      ]
    },
    {
      "cell_type": "code",
      "execution_count": 65,
      "metadata": {
        "id": "swb_ActGstPA"
      },
      "outputs": [],
      "source": [
        "import pandas as pd\n",
        "from surprise import Dataset, Reader, KNNBasic\n",
        "\n",
        "def genre_based_recommender(df, genre, num_movies, num_recommendations):\n",
        "    # Filter movies by the specified genre\n",
        "    genre_movies = df[df['genres'].str.contains(genre, case=False)]\n",
        "\n",
        "    # Select a subset of movies for the user to rate\n",
        "    movies_to_rate = genre_movies.sample(num_movies)\n",
        "\n",
        "    # Ask the user to provide ratings for the selected movies\n",
        "    user_ratings = []\n",
        "    for _, movie in movies_to_rate.iterrows():\n",
        "        print(f\"Rate the movie '{movie['title']}' (ID: {movie['movieId']}) on a scale of 1 to 5:\")\n",
        "        rating = float(input())\n",
        "        user_ratings.append((1, movie['movieId'], rating))\n",
        "\n",
        "    # Create a DataFrame to store the user's ratings\n",
        "    user_ratings_df = pd.DataFrame(user_ratings, columns=['userId', 'movieId', 'rating'])\n",
        "\n",
        "    # Concatenate the user's ratings with the original ratings DataFrame\n",
        "    merged_ratings_df = pd.concat([df, user_ratings_df], ignore_index=True)\n",
        "\n",
        "    # Load the merged ratings DataFrame into a Surprise Dataset\n",
        "    reader = Reader(rating_scale=(1, 5))\n",
        "    data = Dataset.load_from_df(merged_ratings_df[['userId', 'movieId', 'rating']], reader)\n",
        "\n",
        "    # Build the collaborative filtering model\n",
        "    sim_options = {'name': 'cosine', 'user_based': True}\n",
        "    model = KNNBasic(sim_options=sim_options)\n",
        "    trainset = data.build_full_trainset()\n",
        "    model.fit(trainset)\n",
        "\n",
        "    # Make recommendations for the user\n",
        "    user_id = 1  # Assuming a single user for simplicity\n",
        "    movies_not_rated = df[~df['movieId'].isin(user_ratings_df['movieId'])]\n",
        "    testset = [(user_id, movie_id, 0) for movie_id in movies_not_rated['movieId']]\n",
        "    predictions = model.test(testset)\n",
        "    top_recommendations = sorted(predictions, key=lambda x: x.est, reverse=True)[:num_recommendations]\n",
        "    recommended_movie_ids = [int(prediction.iid) for prediction in top_recommendations]\n",
        "    recommended_movies = df[df['movieId'].isin(recommended_movie_ids)]['title'].tolist()\n",
        "\n",
        "    return recommended_movies"
      ]
    },
    {
      "cell_type": "markdown",
      "metadata": {
        "id": "xdablQY8tCXd"
      },
      "source": [
        "To use the function, you can call it with the original DataFrame, the desired genre, the number of movies for the user to rate, and the number of recommendations to return:"
      ]
    },
    {
      "cell_type": "code",
      "execution_count": 66,
      "metadata": {
        "colab": {
          "base_uri": "https://localhost:8080/"
        },
        "id": "4SAMxtxUs-Q7",
        "outputId": "a685d694-9e2e-438e-9af2-ff9b34d47850"
      },
      "outputs": [
        {
          "name": "stdout",
          "output_type": "stream",
          "text": [
            "Rate the movie 'Fear and Loathing in Las Vegas (1998)' (ID: 1884) on a scale of 1 to 5:\n",
            "4\n",
            "Rate the movie 'Liar Liar (1997)' (ID: 1485) on a scale of 1 to 5:\n",
            "5\n",
            "Rate the movie 'Problem Child 2 (1991)' (ID: 2799) on a scale of 1 to 5:\n",
            "4\n",
            "Rate the movie 'Bull Durham (1988)' (ID: 3361) on a scale of 1 to 5:\n",
            "2\n",
            "Rate the movie 'Snatch (2000)' (ID: 4011) on a scale of 1 to 5:\n",
            "2\n",
            "Computing the cosine similarity matrix...\n",
            "Done computing similarity matrix.\n",
            "Top 10 recommendations for the user in the 'Comedy' genre:\n",
            "Lamerica (1994)\n",
            "Lamerica (1994)\n",
            "Heidi Fleiss: Hollywood Madam (1995)\n",
            "Heidi Fleiss: Hollywood Madam (1995)\n",
            "Awfully Big Adventure, An (1995)\n",
            "Live Nude Girls (1995)\n",
            "In the Realm of the Senses (Ai no corrida) (1976)\n",
            "What Happened Was... (1994)\n",
            "Thin Line Between Love and Hate, A (1996)\n",
            "Denise Calls Up (1995)\n"
          ]
        }
      ],
      "source": [
        "genre = 'Comedy'  # Specify the desired genre\n",
        "num_movies = 5  # Number of movies for the user to rate\n",
        "num_recommendations = 10  # Number of recommendations to return\n",
        "\n",
        "recommendations = genre_based_recommender(df2, genre, num_movies, num_recommendations)\n",
        "print(f\"Top {num_recommendations} recommendations for the user in the '{genre}' genre:\")\n",
        "for movie in recommendations:\n",
        "    print(movie)"
      ]
    },
    {
      "cell_type": "markdown",
      "metadata": {
        "id": "-aern31ctNgg"
      },
      "source": [
        "# 4. TRY OTHER TECHNIQUES TO IMPROVE RMSE AND MAE"
      ]
    },
    {
      "cell_type": "markdown",
      "metadata": {
        "id": "8z4uSpibtQC7"
      },
      "source": [
        "## STRATEGY 1: ENSEMBLE METHOD"
      ]
    },
    {
      "cell_type": "markdown",
      "metadata": {
        "id": "TVmo3TfWtSib"
      },
      "source": [
        "For the ensemble method, we will create and evaluate two individual recommendation models: SVD and KNNBasic. We then perform cross-validation on each model to obtain the average RMSE and MAE scores. Then, we combine the predictions of the two models using a simple averaging ensemble method. Finally, we calculate the RMSE and MAE for the ensemble predictions and compare them with the individual model performances."
      ]
    },
    {
      "cell_type": "code",
      "execution_count": 67,
      "metadata": {
        "colab": {
          "base_uri": "https://localhost:8080/"
        },
        "id": "PumHsyw4tFE7",
        "outputId": "2d111373-6d02-41ca-c96d-487484c3668f"
      },
      "outputs": [
        {
          "name": "stdout",
          "output_type": "stream",
          "text": [
            "Computing the msd similarity matrix...\n",
            "Done computing similarity matrix.\n",
            "Computing the msd similarity matrix...\n",
            "Done computing similarity matrix.\n",
            "Computing the msd similarity matrix...\n",
            "Done computing similarity matrix.\n",
            "Computing the msd similarity matrix...\n",
            "Done computing similarity matrix.\n",
            "Computing the msd similarity matrix...\n",
            "Done computing similarity matrix.\n",
            "Computing the msd similarity matrix...\n",
            "Done computing similarity matrix.\n",
            "SVD - RMSE: 0.8733212103530862\n",
            "SVD - MAE: 0.6713612644249839\n",
            "KNN - RMSE: 0.9461152699964693\n",
            "KNN - MAE: 0.7253969655467539\n",
            "RMSE: 0.8764\n",
            "MAE:  0.6758\n",
            "Ensemble - RMSE: 0.8764328021277953\n",
            "Ensemble - MAE: 0.6758248182690358\n"
          ]
        }
      ],
      "source": [
        "from surprise import SVD, KNNBasic\n",
        "from surprise import Dataset, Reader\n",
        "from surprise.model_selection import cross_validate, train_test_split\n",
        "from surprise import accuracy\n",
        "from statistics import mean\n",
        "from surprise.prediction_algorithms.predictions import Prediction\n",
        "\n",
        "# Load the dataset\n",
        "reader = Reader(rating_scale=(1, 5))\n",
        "data = Dataset.load_from_df(df2[['userId', 'movieId', 'rating']], reader)\n",
        "\n",
        "# Split the data into training and test sets\n",
        "trainset, testset = train_test_split(data, test_size=0.2)\n",
        "\n",
        "# Initialize the individual recommendation models\n",
        "svd = SVD()\n",
        "knn = KNNBasic()\n",
        "\n",
        "# Train the individual models\n",
        "svd.fit(trainset)\n",
        "knn.fit(trainset)\n",
        "\n",
        "# Make predictions using the individual models\n",
        "svd_preds = svd.test(testset)\n",
        "knn_preds = knn.test(testset)\n",
        "\n",
        "# Cross-validate the individual models\n",
        "svd_scores = cross_validate(svd, data, measures=['RMSE', 'MAE'], cv=5)\n",
        "knn_scores = cross_validate(knn, data, measures=['RMSE', 'MAE'], cv=5)\n",
        "\n",
        "# Extract the average RMSE and MAE scores from cross-validation results\n",
        "svd_rmse = mean(svd_scores['test_rmse'])\n",
        "svd_mae = mean(svd_scores['test_mae'])\n",
        "knn_rmse = mean(knn_scores['test_rmse'])\n",
        "knn_mae = mean(knn_scores['test_mae'])\n",
        "\n",
        "# Print the individual model performance\n",
        "print(\"SVD - RMSE:\", svd_rmse)\n",
        "print(\"SVD - MAE:\", svd_mae)\n",
        "print(\"KNN - RMSE:\", knn_rmse)\n",
        "print(\"KNN - MAE:\", knn_mae)\n",
        "\n",
        "# Perform ensemble by averaging the predictions of the two models\n",
        "def ensemble_predictions(predictions1, predictions2):\n",
        "    # Combine the predictions of two models\n",
        "    ensemble_preds = []\n",
        "    for pred1, pred2 in zip(predictions1, predictions2):\n",
        "        r_ui = float(pred1.r_ui)\n",
        "        est = float(pred1.est + pred2.est) / 2\n",
        "        ensemble_preds.append(Prediction(pred1.uid, pred1.iid, r_ui, est, pred1.details))\n",
        "    return ensemble_preds\n",
        "\n",
        "# Perform ensemble prediction\n",
        "ensemble_preds = ensemble_predictions(svd_preds, knn_preds)\n",
        "\n",
        "# Calculate RMSE and MAE for the ensemble predictions\n",
        "ensemble_rmse = accuracy.rmse(ensemble_preds)\n",
        "ensemble_mae = accuracy.mae(ensemble_preds)\n",
        "\n",
        "# Print the ensemble model performance\n",
        "print(\"Ensemble - RMSE:\", ensemble_rmse)\n",
        "print(\"Ensemble - MAE:\", ensemble_mae)"
      ]
    },
    {
      "cell_type": "markdown",
      "metadata": {
        "id": "6VOfhEuwbA4b"
      },
      "source": [
        "From the previous collaborative filtering model built using SVD, we got 'rmse': 0.8693804004379402, 'mae': 0.6684190070988877 looking at the result of the ensemble method, RMSE: 0.8860305908074744 and MAE: 0.6800762378176585 meaning an RMSE increase of 0.01665019"
      ]
    },
    {
      "cell_type": "markdown",
      "metadata": {
        "id": "trX7G9QOtrC8"
      },
      "source": [
        "## STRATEGY 2: MATRIX FACTORIZATION"
      ]
    },
    {
      "cell_type": "markdown",
      "metadata": {
        "id": "K-aEOP6Ctqr-"
      },
      "source": [
        "We define the SVD algorithm with ALS-based Matrix Factorization. We then set the biased parameter to False to help us perform pure ALS."
      ]
    },
    {
      "cell_type": "code",
      "execution_count": 68,
      "metadata": {
        "colab": {
          "base_uri": "https://localhost:8080/"
        },
        "id": "m-Xm0VWgtVCg",
        "outputId": "7de14692-73f3-4fa2-fe3d-6d63cf6ec4d4"
      },
      "outputs": [
        {
          "name": "stdout",
          "output_type": "stream",
          "text": [
            "Evaluating RMSE, MAE of algorithm SVD on 5 split(s).\n",
            "\n",
            "                  Fold 1  Fold 2  Fold 3  Fold 4  Fold 5  Mean    Std     \n",
            "RMSE (testset)    0.9792  0.9682  0.9826  0.9797  0.9717  0.9763  0.0054  \n",
            "MAE (testset)     0.7572  0.7479  0.7558  0.7530  0.7475  0.7523  0.0040  \n",
            "Fit time          3.11    1.76    1.79    1.82    1.90    2.08    0.52    \n",
            "Test time         0.13    0.12    0.37    0.12    0.11    0.17    0.10    \n",
            "Average RMSE: 0.9763\n",
            "Average MAE: 0.7523\n"
          ]
        }
      ],
      "source": [
        "from surprise import Dataset, Reader\n",
        "from surprise import accuracy\n",
        "from surprise import SVD\n",
        "from surprise.model_selection import cross_validate\n",
        "\n",
        "# Load the dataset\n",
        "reader = Reader(rating_scale=(1, 5))\n",
        "data = Dataset.load_from_df(df2[['userId', 'movieId', 'rating']], reader)\n",
        "\n",
        "# Define the ALS-based Matrix Factorization model\n",
        "als = SVD(biased=False, n_epochs=20, reg_all=0.02)\n",
        "\n",
        "# Perform cross-validation\n",
        "cv_results = cross_validate(als, data, measures=['RMSE', 'MAE'], cv=5, verbose=True)\n",
        "\n",
        "# Print the average RMSE and MAE scores\n",
        "print(\"Average RMSE:\", round(cv_results['test_rmse'].mean(), 4))\n",
        "print(\"Average MAE:\", round(cv_results['test_mae'].mean(), 4))"
      ]
    },
    {
      "cell_type": "markdown",
      "metadata": {
        "id": "IDt_8mdEuAdj"
      },
      "source": [
        "From the previous model built, we got 'rmse': 0.8693804004379402, 'mae': 0.6684190070988877 looking at the result of the matrix factorization using ALS method we get Average RMSE: 0.9778 and Average MAE: 0.7535 meaning an RMSE increase of 0.1084196"
      ]
    },
    {
      "cell_type": "markdown",
      "metadata": {
        "id": "JJQ3yiWLuAOn"
      },
      "source": [
        "Let's see if Non-Negative Matrix Factorization gives a better RMSE and MAE"
      ]
    },
    {
      "cell_type": "code",
      "execution_count": 69,
      "metadata": {
        "colab": {
          "base_uri": "https://localhost:8080/"
        },
        "id": "2FiXqZcFt1p1",
        "outputId": "aad7e1db-4808-4f00-f194-864f40b1231c"
      },
      "outputs": [
        {
          "name": "stdout",
          "output_type": "stream",
          "text": [
            "RMSE: 1.7433\n",
            "Matrix Factorization RMSE: 1.7432537779449815\n"
          ]
        }
      ],
      "source": [
        "from surprise import Dataset\n",
        "from surprise import Reader\n",
        "from surprise import NMF\n",
        "from surprise import accuracy\n",
        "from surprise.model_selection import train_test_split\n",
        "\n",
        "reader = Reader(line_format='user item rating timestamp', sep=',', skip_lines=1)\n",
        "\n",
        "# Load the dataset into a pandas DataFrame\n",
        "data = Dataset.load_from_df(df2[['userId', 'movieId', 'rating']], reader)\n",
        "\n",
        "# Split the dataset into train and test sets\n",
        "trainset, testset = train_test_split(data, test_size=0.2)\n",
        "\n",
        "# Create an instance of the NMF algorithm with ALS\n",
        "mf_model = NMF(n_factors=50, n_epochs=10, biased=False)\n",
        "\n",
        "# Train the matrix factorization model on the trainset\n",
        "mf_model.fit(trainset)\n",
        "\n",
        "# Make predictions on the testset\n",
        "mf_predictions = mf_model.test(testset)\n",
        "\n",
        "# Calculate RMSE for matrix factorization\n",
        "mf_rmse = accuracy.rmse(mf_predictions)\n",
        "\n",
        "print(f\"Matrix Factorization RMSE: {mf_rmse}\")"
      ]
    },
    {
      "cell_type": "markdown",
      "metadata": {
        "id": "9cZKv9S4uPAp"
      },
      "source": [
        "NMF gives the highest RMSE which means predicted ratings or recommendations deviate significantly from the actual ratings provided by users."
      ]
    },
    {
      "cell_type": "markdown",
      "metadata": {
        "id": "hf0U06etuRDt"
      },
      "source": [
        "## STRATEGY 3: COLLABORATIVE FILTERING USING BASELINEONLY"
      ]
    },
    {
      "cell_type": "markdown",
      "metadata": {
        "id": "WpJM1CF4uQwy"
      },
      "source": [
        "As there's always a trade-off between computational complexity, flexibility, and performance when working with SVD and Baselineonly. We will experiment with Baselineonly to see if we get an improved RMSE and MAE"
      ]
    },
    {
      "cell_type": "code",
      "execution_count": 70,
      "metadata": {
        "colab": {
          "base_uri": "https://localhost:8080/"
        },
        "id": "rboVlw_9uFlb",
        "outputId": "96a27b1e-fe36-4aaf-96c9-6712d2c94d2c"
      },
      "outputs": [
        {
          "name": "stdout",
          "output_type": "stream",
          "text": [
            "Estimating biases using als...\n",
            "RMSE: 0.8753\n",
            "RMSE: 0.8752636058323143\n"
          ]
        }
      ],
      "source": [
        "import pandas as pd\n",
        "from surprise import BaselineOnly\n",
        "from surprise import Dataset\n",
        "from surprise import Reader\n",
        "from surprise.model_selection import train_test_split\n",
        "from surprise import accuracy\n",
        "\n",
        "# Define the Reader object for Surprise\n",
        "reader = Reader(rating_scale=(0.5, 5))\n",
        "\n",
        "# Load the dataset into Surprise\n",
        "data = Dataset.load_from_df(df2[['userId', 'movieId', 'rating']], reader)\n",
        "\n",
        "# Split the dataset into train and test sets\n",
        "trainset, testset = train_test_split(data, test_size=0.2)\n",
        "\n",
        "# Create an instance of the BaselineOnly algorithm with ALS\n",
        "algo = BaselineOnly(bsl_options={'method': 'als', 'n_epochs': 5, 'reg_u': 12, 'reg_i': 5})\n",
        "\n",
        "# Train the algorithm on the training set\n",
        "algo.fit(trainset)\n",
        "\n",
        "# Make predictions on the test set\n",
        "predictions = algo.test(testset)\n",
        "\n",
        "# Evaluate the predictions using RMSE\n",
        "rmse = accuracy.rmse(predictions)\n",
        "\n",
        "print(f\"RMSE: {rmse}\")"
      ]
    },
    {
      "cell_type": "markdown",
      "metadata": {
        "id": "lbjVRb1NuYyq"
      },
      "source": [
        "From the previous collaborative filtering model built using SVD, we got 'rmse': 0.8693804004379402, 'mae': 0.6684190070988877. The Baseline model gives RMSE: 0.8744 which an increase of RMSE with 0.0050196 which is not a significant difference"
      ]
    },
    {
      "cell_type": "markdown",
      "metadata": {
        "id": "Od9m3MSxuYZz"
      },
      "source": [
        "## STRATEGY 3: HYBRID SYSTEM USING COLLABORATIVE FILTERING AND CONTENT BASED FILTERING"
      ]
    },
    {
      "cell_type": "code",
      "execution_count": 71,
      "metadata": {
        "colab": {
          "base_uri": "https://localhost:8080/"
        },
        "id": "flQND6YUuW1p",
        "outputId": "209baf2a-6835-440e-adc2-a17c1ce68054"
      },
      "outputs": [
        {
          "name": "stdout",
          "output_type": "stream",
          "text": [
            "Computing the msd similarity matrix...\n",
            "Done computing similarity matrix.\n",
            "RMSE: 0.9424\n",
            "Collaborative Filtering RMSE: 0.9423914182875464\n",
            "Content Features:\n",
            "        movieId                                       genres\n",
            "0             1  Adventure|Animation|Children|Comedy|Fantasy\n",
            "215           2                   Adventure|Children|Fantasy\n",
            "325           3                               Comedy|Romance\n",
            "377           4                         Comedy|Drama|Romance\n",
            "384           5                                       Comedy\n",
            "...         ...                                          ...\n",
            "100831   193581              Action|Animation|Comedy|Fantasy\n",
            "100832   193583                     Animation|Comedy|Fantasy\n",
            "100833   193585                                        Drama\n",
            "100834   193587                             Action|Animation\n",
            "100835   193609                                       Comedy\n",
            "\n",
            "[9724 rows x 2 columns]\n"
          ]
        }
      ],
      "source": [
        "import pandas as pd\n",
        "from surprise import Dataset\n",
        "from surprise import Reader\n",
        "from surprise import KNNBasic\n",
        "from surprise import accuracy\n",
        "from surprise.model_selection import train_test_split\n",
        "\n",
        "# Define the Reader object for Surprise\n",
        "reader = Reader(rating_scale=(0.5, 5))\n",
        "\n",
        "# Load the dataset into a pandas DataFrame\n",
        "data = Dataset.load_from_df(df2[['userId', 'movieId', 'rating']], reader)\n",
        "\n",
        "# Split the dataset into train and test sets\n",
        "trainset, testset = train_test_split(data, test_size=0.2)\n",
        "\n",
        "# Perform collaborative filtering\n",
        "# Create an instance of the KNNBasic algorithm\n",
        "cf_model = KNNBasic()\n",
        "\n",
        "# Train the collaborative filtering model on the trainset\n",
        "cf_model.fit(trainset)\n",
        "\n",
        "# Make predictions on the testset\n",
        "cf_predictions = cf_model.test(testset)\n",
        "\n",
        "# Calculate RMSE for collaborative filtering\n",
        "cf_rmse = accuracy.rmse(cf_predictions)\n",
        "\n",
        "print(f\"Collaborative Filtering RMSE: {cf_rmse}\")\n",
        "\n",
        "# Extract relevant features for content-based filtering (e.g., genres)\n",
        "content_features = df2[['movieId', 'genres']].drop_duplicates()\n",
        "\n",
        "# Print the content-based features\n",
        "print(\"Content Features:\")\n",
        "print(content_features)"
      ]
    },
    {
      "cell_type": "markdown",
      "metadata": {
        "id": "VvI7-_Fquk4w"
      },
      "source": [
        "From the previous collaborative filtering model built using SVD, we got 'rmse': 0.8693804004379402, 'mae': 0.6684190070988877. The Hybrid strategy gives RMSE: 0.9433 which an increase of RMSE with 0.0739196"
      ]
    },
    {
      "cell_type": "code",
      "execution_count": 74,
      "metadata": {
        "colab": {
          "base_uri": "https://localhost:8080/"
        },
        "id": "DKed-cc3ugOX",
        "outputId": "d737c021-c61e-4fc4-c06e-55dfce2971b0"
      },
      "outputs": [
        {
          "name": "stderr",
          "output_type": "stream",
          "text": [
            "[Parallel(n_jobs=-1)]: Using backend LokyBackend with 2 concurrent workers.\n",
            "[Parallel(n_jobs=-1)]: Done  37 tasks      | elapsed:   36.8s\n",
            "[Parallel(n_jobs=-1)]: Done 158 tasks      | elapsed:  3.6min\n",
            "[Parallel(n_jobs=-1)]: Done 361 tasks      | elapsed: 10.7min\n"
          ]
        },
        {
          "name": "stdout",
          "output_type": "stream",
          "text": [
            "Best parameters for SVD: {'n_factors': 100, 'n_epochs': 40, 'lr_all': 0.01, 'reg_all': 0.1}\n"
          ]
        },
        {
          "name": "stderr",
          "output_type": "stream",
          "text": [
            "[Parallel(n_jobs=-1)]: Done 405 out of 405 | elapsed: 13.1min finished\n"
          ]
        }
      ],
      "source": [
        "# Import standard packages\n",
        "import pandas as pd\n",
        "import numpy as np\n",
        "import matplotlib.pyplot as plt\n",
        "import seaborn as sns\n",
        "from scipy import stats\n",
        "%matplotlib inline\n",
        "import seaborn as sns\n",
        "\n",
        "import warnings\n",
        "warnings.simplefilter(action='ignore', category=FutureWarning) # setting ignore as a parameter and further adding category\n",
        "\n",
        "from surprise import Dataset, Reader, SVD, KNNBasic\n",
        "from surprise.model_selection import GridSearchCV, train_test_split\n",
        "from surprise import accuracy\n",
        "from surprise.model_selection import cross_validate\n",
        "\n",
        "# Load the MovieLens dataset (adjust path if necessary)\n",
        "data = Dataset.load_builtin('ml-100k')\n",
        "trainset, testset = train_test_split(data, test_size=0.2)\n",
        "\n",
        "# Define the parameter grid for SVD\n",
        "param_grid_svd = {\n",
        "    'n_factors': [50, 100, 150],\n",
        "    'n_epochs': [20, 30, 40],\n",
        "    'lr_all': [0.002, 0.005, 0.01],\n",
        "    'reg_all': [0.02, 0.1, 0.2]\n",
        "}\n",
        "\n",
        "# Perform grid search with cross-validation for SVD\n",
        "grid_search_svd = GridSearchCV(SVD, param_grid_svd, measures=['rmse', 'mae'], cv=5, n_jobs=-1, joblib_verbose=2)\n",
        "grid_search_svd.fit(data)\n",
        "\n",
        "# Extract the best parameters and model\n",
        "best_params_svd = grid_search_svd.best_params['rmse']\n",
        "best_svd = grid_search_svd.best_estimator['rmse']\n",
        "\n",
        "print(f\"Best parameters for SVD: {best_params_svd}\")\n"
      ]
    },
    {
      "cell_type": "markdown",
      "metadata": {
        "id": "pguO-OZV-hPM"
      },
      "source": [
        "### STEP 4 HYPERPARAMETER TUNING FOR KNNBASIC\n",
        "Tune hyperparameters for the KNNBasic algorithm to improve collaborative filtering performance."
      ]
    },
    {
      "cell_type": "code",
      "execution_count": 78,
      "metadata": {
        "colab": {
          "base_uri": "https://localhost:8080/"
        },
        "collapsed": true,
        "id": "TIxTfk_bwRNF",
        "outputId": "86e6a83c-80e3-4a90-c736-95e1a68a7972"
      },
      "outputs": [
        {
          "name": "stdout",
          "output_type": "stream",
          "text": [
            "Best RMSE: 0.9173294290359397\n",
            "Best Parameters: {'k': 30, 'min_k': 2, 'sim_options': {'name': 'msd', 'user_based': False}}\n",
            "Computing the msd similarity matrix...\n",
            "Done computing similarity matrix.\n",
            "RMSE: 0.9108\n"
          ]
        },
        {
          "data": {
            "text/plain": [
              "0.9108268216433811"
            ]
          },
          "execution_count": 78,
          "metadata": {},
          "output_type": "execute_result"
        }
      ],
      "source": [
        "import pandas as pd\n",
        "from surprise import Dataset, Reader, KNNBasic, accuracy\n",
        "from surprise.model_selection import train_test_split, GridSearchCV\n",
        "\n",
        "\n",
        "# Define the Reader object for Surprise\n",
        "reader = Reader(rating_scale=(0.5, 5))\n",
        "\n",
        "# Load the dataset into the Surprise Dataset format\n",
        "data = Dataset.load_from_df(df2[['userId', 'movieId', 'rating']], reader)\n",
        "\n",
        "# Split the dataset into train and test sets\n",
        "trainset, testset = train_test_split(data, test_size=0.2)\n",
        "\n",
        "# Define the parameter grid for GridSearchCV\n",
        "param_grid = {\n",
        "    'k': [20, 30],  # Smaller range for quick testing\n",
        "    'min_k': [1, 2],\n",
        "    'sim_options': {\n",
        "        'name': ['msd', 'cosine'],\n",
        "        'user_based': [True, False]\n",
        "    }\n",
        "}\n",
        "\n",
        "# Perform GridSearchCV to find the best parameters\n",
        "gs = GridSearchCV(KNNBasic, param_grid, measures=['rmse', 'mae'], cv=3, n_jobs=-1)\n",
        "gs.fit(data)\n",
        "\n",
        "# Print the best score and best parameters\n",
        "print(\"Best RMSE:\", gs.best_score['rmse'])\n",
        "print(\"Best Parameters:\", gs.best_params['rmse'])\n",
        "\n",
        "# Use the best parameters to train the model\n",
        "best_knn = gs.best_estimator['rmse']\n",
        "best_knn.fit(trainset)\n",
        "\n",
        "# Make predictions and calculate RMSE\n",
        "predictions = best_knn.test(testset)\n",
        "accuracy.rmse(predictions)\n"
      ]
    },
    {
      "cell_type": "markdown",
      "metadata": {
        "id": "D_I111bcEGRu"
      },
      "source": [
        "The output indicates that the tuning process successfully identified the optimal parameters for the KNNBasic algorithm using a grid search. The best RMSE achieved during the grid search was 0.9173 with the parameters: `k`=30, `min_k`=2, and `sim_options` specifying Mean Squared Difference (MSD) similarity and item-based filtering (`user_based`=False). When evaluated on the test set, the tuned model achieved an RMSE of 0.9108, suggesting that the model generalizes well to new, unseen data. The lower RMSE on the test set compared to the training set's best RMSE indicates that the parameter tuning effectively improved the model's accuracy in predicting movie ratings."
      ]
    },
    {
      "cell_type": "markdown",
      "metadata": {
        "id": "O6BdsWzkEces"
      },
      "source": [
        "## TUNING KNN WITH ZSCORE"
      ]
    },
    {
      "cell_type": "code",
      "execution_count": 79,
      "metadata": {
        "colab": {
          "base_uri": "https://localhost:8080/"
        },
        "id": "4fErq7ixuoIv",
        "outputId": "a2dc456a-7be5-4eef-8e0b-d2004b9b2b54"
      },
      "outputs": [
        {
          "name": "stdout",
          "output_type": "stream",
          "text": [
            "Computing the cosine similarity matrix...\n",
            "Done computing similarity matrix.\n",
            "Computing the cosine similarity matrix...\n",
            "Done computing similarity matrix.\n",
            "Computing the cosine similarity matrix...\n",
            "Done computing similarity matrix.\n",
            "Computing the cosine similarity matrix...\n",
            "Done computing similarity matrix.\n",
            "Computing the cosine similarity matrix...\n",
            "Done computing similarity matrix.\n",
            "Computing the cosine similarity matrix...\n",
            "Done computing similarity matrix.\n",
            "Computing the pearson similarity matrix...\n",
            "Done computing similarity matrix.\n",
            "Computing the pearson similarity matrix...\n",
            "Done computing similarity matrix.\n",
            "Computing the pearson similarity matrix...\n",
            "Done computing similarity matrix.\n",
            "Computing the pearson similarity matrix...\n",
            "Done computing similarity matrix.\n",
            "Computing the pearson similarity matrix...\n",
            "Done computing similarity matrix.\n",
            "Computing the pearson similarity matrix...\n",
            "Done computing similarity matrix.\n",
            "Computing the cosine similarity matrix...\n",
            "Done computing similarity matrix.\n",
            "Computing the cosine similarity matrix...\n",
            "Done computing similarity matrix.\n",
            "Computing the cosine similarity matrix...\n",
            "Done computing similarity matrix.\n",
            "Computing the cosine similarity matrix...\n",
            "Done computing similarity matrix.\n",
            "Computing the cosine similarity matrix...\n",
            "Done computing similarity matrix.\n",
            "Computing the cosine similarity matrix...\n",
            "Done computing similarity matrix.\n",
            "Computing the pearson similarity matrix...\n",
            "Done computing similarity matrix.\n",
            "Computing the pearson similarity matrix...\n",
            "Done computing similarity matrix.\n",
            "Computing the pearson similarity matrix...\n",
            "Done computing similarity matrix.\n",
            "Computing the pearson similarity matrix...\n",
            "Done computing similarity matrix.\n",
            "Computing the pearson similarity matrix...\n",
            "Done computing similarity matrix.\n",
            "Computing the pearson similarity matrix...\n",
            "Done computing similarity matrix.\n",
            "Computing the cosine similarity matrix...\n",
            "Done computing similarity matrix.\n",
            "Computing the cosine similarity matrix...\n",
            "Done computing similarity matrix.\n",
            "Computing the cosine similarity matrix...\n",
            "Done computing similarity matrix.\n",
            "Computing the cosine similarity matrix...\n",
            "Done computing similarity matrix.\n",
            "Computing the cosine similarity matrix...\n",
            "Done computing similarity matrix.\n",
            "Computing the cosine similarity matrix...\n",
            "Done computing similarity matrix.\n",
            "Computing the pearson similarity matrix...\n",
            "Done computing similarity matrix.\n",
            "Computing the pearson similarity matrix...\n",
            "Done computing similarity matrix.\n",
            "Computing the pearson similarity matrix...\n",
            "Done computing similarity matrix.\n",
            "Computing the pearson similarity matrix...\n",
            "Done computing similarity matrix.\n",
            "Computing the pearson similarity matrix...\n",
            "Done computing similarity matrix.\n",
            "Computing the pearson similarity matrix...\n",
            "Done computing similarity matrix.\n",
            "Best RMSE: 0.905518499995211\n",
            "Best Parameters: {'k': 40, 'sim_options': {'name': 'pearson', 'user_based': True}}\n",
            "Computing the pearson similarity matrix...\n",
            "Done computing similarity matrix.\n",
            "RMSE: 0.8949\n",
            "Test Set RMSE: 0.8949160540487698\n"
          ]
        }
      ],
      "source": [
        "import pandas as pd\n",
        "from surprise import Dataset, Reader\n",
        "from surprise import KNNWithZScore\n",
        "from surprise import accuracy\n",
        "from surprise.model_selection import GridSearchCV, train_test_split\n",
        "\n",
        "# Load dataset\n",
        "reader = Reader(rating_scale=(0.5, 5))\n",
        "data = Dataset.load_from_df(df2[['userId', 'movieId', 'rating']], reader)\n",
        "trainset, testset = train_test_split(data, test_size=0.2)\n",
        "\n",
        "# Define parameter grid for KNNWithZScore\n",
        "param_grid = {\n",
        "    'k': [20, 30, 40],\n",
        "    'sim_options': {\n",
        "        'name': ['cosine', 'pearson'],\n",
        "        'user_based': [True, False]\n",
        "    }\n",
        "}\n",
        "\n",
        "# Perform grid search\n",
        "gs = GridSearchCV(KNNWithZScore, param_grid, measures=['rmse'], cv=3)\n",
        "gs.fit(data)\n",
        "\n",
        "# Best parameters and RMSE\n",
        "print(f\"Best RMSE: {gs.best_score['rmse']}\")\n",
        "print(f\"Best Parameters: {gs.best_params['rmse']}\")\n",
        "\n",
        "# Evaluate on test set\n",
        "model = gs.best_estimator['rmse']\n",
        "model.fit(trainset)\n",
        "predictions = model.test(testset)\n",
        "rmse = accuracy.rmse(predictions)\n",
        "print(f\"Test Set RMSE: {rmse}\")\n"
      ]
    },
    {
      "cell_type": "markdown",
      "metadata": {
        "id": "2vS7OYcMIe9d"
      },
      "source": [
        "The new tuning configuration for the MovieLens 100k dataset shows improved performance over the previous setup. Specifically, the best RMSE achieved with the new parameters is 0.9055, compared to the earlier best RMSE of 0.9173. This represents a significant improvement in the model's accuracy. Additionally, the test set RMSE has decreased to 0.8949 from 0.9108, indicating better generalization on unseen data. The new model uses a similarity measure based on Pearson correlation and a higher value of k (40), combined with user-based filtering, which contrasts with the previous configuration that employed the MSD similarity measure and a lower k value of 30. These adjustments have effectively enhanced the model's performance, making it a more accurate and robust recommendation system."
      ]
    },
    {
      "cell_type": "markdown",
      "metadata": {
        "id": "6Kv_JvaZIsX0"
      },
      "source": [
        "## SVDPP WITH LIMITED PARAMETERS"
      ]
    },
    {
      "cell_type": "code",
      "execution_count": 83,
      "metadata": {
        "colab": {
          "base_uri": "https://localhost:8080/"
        },
        "id": "KHxGgD_OEkSQ",
        "outputId": "8ee38647-d6b4-4dd0-a9e8-5ecd1062a2d9"
      },
      "outputs": [
        {
          "name": "stdout",
          "output_type": "stream",
          "text": [
            "Best RMSE: 0.8860825985868113\n",
            "Best Parameters: {'n_factors': 5, 'n_epochs': 10, 'lr_all': 0.005, 'reg_all': 0.2}\n"
          ]
        }
      ],
      "source": [
        "from surprise import Dataset, Reader, SVDpp\n",
        "from surprise.model_selection import GridSearchCV\n",
        "\n",
        "# Load dataset\n",
        "reader = Reader(rating_scale=(1, 5))\n",
        "data = Dataset.load_from_df(df2[['userId', 'movieId', 'rating']], reader)\n",
        "\n",
        "# Define parameter grid for SVDpp\n",
        "param_grid = {\n",
        "    'n_factors': [5],\n",
        "    'n_epochs': [10],\n",
        "    'lr_all': [0.005],\n",
        "    'reg_all': [0.2]\n",
        "}\n",
        "\n",
        "# Perform Grid Search\n",
        "grid_search = GridSearchCV(SVDpp, param_grid, measures=['rmse'], cv=3)\n",
        "grid_search.fit(data)\n",
        "\n",
        "# Print results\n",
        "print(f\"Best RMSE: {grid_search.best_score['rmse']}\")\n",
        "print(f\"Best Parameters: {grid_search.best_params['rmse']}\")\n"
      ]
    },
    {
      "cell_type": "markdown",
      "metadata": {
        "id": "zViacCowVMRF"
      },
      "source": [
        "In this recent tuning iteration, the best RMSE achieved was **0.8861** with parameters: `n_factors=5`, `n_epochs=10`, `lr_all=0.005`, and `reg_all=0.2`. This improvement is notable compared to the previous best RMSE of **0.8949** with parameters: `k=40` and `sim_options={'name': 'pearson', 'user_based': True}`. The new parameters for the matrix factorization model have reduced the RMSE, indicating a better fit for the MovieLens 100k data. This suggests that fine-tuning factors like learning rates and regularization, combined with fewer factors and epochs, can lead to a more accurate recommendation system."
      ]
    },
    {
      "cell_type": "markdown",
      "metadata": {
        "id": "gfDzokYJVcoD"
      },
      "source": [
        "## KNN BASIC WITH DIFFERENT SIMILARITY MEASURES"
      ]
    },
    {
      "cell_type": "code",
      "execution_count": 84,
      "metadata": {
        "colab": {
          "base_uri": "https://localhost:8080/"
        },
        "id": "nNhI7OqAIw_n",
        "outputId": "d3bfa1ce-15a0-44dd-a3d7-ca246d52e969"
      },
      "outputs": [
        {
          "name": "stdout",
          "output_type": "stream",
          "text": [
            "Computing the pearson similarity matrix...\n",
            "Done computing similarity matrix.\n",
            "Computing the pearson similarity matrix...\n",
            "Done computing similarity matrix.\n",
            "Computing the pearson similarity matrix...\n",
            "Done computing similarity matrix.\n",
            "Best RMSE: 1.0282146834565762\n",
            "Best Parameters: {'k': 5, 'min_k': 1, 'sim_options': {'name': 'pearson', 'user_based': True}}\n"
          ]
        }
      ],
      "source": [
        "from surprise import Dataset, Reader, KNNBasic\n",
        "from surprise.model_selection import GridSearchCV\n",
        "\n",
        "# Load dataset\n",
        "reader = Reader(rating_scale=(1, 5))\n",
        "data = Dataset.load_from_df(df2[['userId', 'movieId', 'rating']], reader)\n",
        "\n",
        "# Define parameter grid for KNNBasic\n",
        "param_grid = {\n",
        "    'k': [5],\n",
        "    'min_k': [1],\n",
        "    'sim_options': {\n",
        "        'name': ['pearson'],\n",
        "        'user_based': [True]\n",
        "    }\n",
        "}\n",
        "\n",
        "# Perform Grid Search\n",
        "grid_search = GridSearchCV(KNNBasic, param_grid, measures=['rmse'], cv=3)\n",
        "grid_search.fit(data)\n",
        "\n",
        "# Print results\n",
        "print(f\"Best RMSE: {grid_search.best_score['rmse']}\")\n",
        "print(f\"Best Parameters: {grid_search.best_params['rmse']}\")\n"
      ]
    },
    {
      "cell_type": "markdown",
      "metadata": {
        "id": "phaEDuDcVutB"
      },
      "source": [
        "In this recent tuning iteration, the best RMSE achieved was **1.0282** with parameters: `k=5`, `min_k=1`, and `sim_options={'name': 'pearson', 'user_based': True}`. This result contrasts with the previous best RMSE of **0.8861**, achieved with matrix factorization parameters: `n_factors=5`, `n_epochs=10`, `lr_all=0.005`, and `reg_all=0.2`. The higher RMSE in the latest iteration indicates that the parameter settings for collaborative filtering with Pearson similarity are less effective compared to the matrix factorization approach, which provided a more accurate recommendation model. This suggests that matrix factorization with the tuned parameters is better suited for this dataset."
      ]
    },
    {
      "cell_type": "markdown",
      "metadata": {
        "id": "5XiSO9o-VxR8"
      },
      "source": [
        "## SVD WITH LIMITED N_FACTORS AND N_EPOCHS"
      ]
    },
    {
      "cell_type": "code",
      "execution_count": 85,
      "metadata": {
        "colab": {
          "base_uri": "https://localhost:8080/"
        },
        "id": "BdNdVJYgVX0x",
        "outputId": "2f56512d-3fee-4302-f757-cf9eca7e179d"
      },
      "outputs": [
        {
          "name": "stdout",
          "output_type": "stream",
          "text": [
            "Best RMSE: 0.8863661489940081\n",
            "Best Parameters: {'n_factors': 5, 'n_epochs': 10, 'lr_all': 0.005, 'reg_all': 0.2}\n"
          ]
        }
      ],
      "source": [
        "from surprise import Dataset, Reader, SVD\n",
        "from surprise.model_selection import GridSearchCV\n",
        "\n",
        "# Load dataset\n",
        "reader = Reader(rating_scale=(1, 5))\n",
        "data = Dataset.load_from_df(df2[['userId', 'movieId', 'rating']], reader)\n",
        "\n",
        "# Define parameter grid for SVD\n",
        "param_grid = {\n",
        "    'n_factors': [5, 10],\n",
        "    'n_epochs': [10],\n",
        "    'lr_all': [0.005],\n",
        "    'reg_all': [0.2]\n",
        "}\n",
        "\n",
        "# Perform Grid Search\n",
        "grid_search = GridSearchCV(SVD, param_grid, measures=['rmse'], cv=3)\n",
        "grid_search.fit(data)\n",
        "\n",
        "# Print results\n",
        "print(f\"Best RMSE: {grid_search.best_score['rmse']}\")\n",
        "print(f\"Best Parameters: {grid_search.best_params['rmse']}\")\n"
      ]
    },
    {
      "cell_type": "markdown",
      "metadata": {
        "id": "aoidf2VqWT4Q"
      },
      "source": [
        "In this recent model tuning iteration using GridSearchCV with the SVD algorithm, the best RMSE achieved was **0.8861** with parameters: `n_factors=5`, `n_epochs=10`, `lr_all=0.005`, and `reg_all=0.2`. This is an improvement over the previous collaborative filtering result which had an RMSE of **1.0282** using Pearson similarity with parameters `k=5`, `min_k=1`, and `sim_options={'name': 'pearson', 'user_based': True}`. The lower RMSE from the SVD model indicates a better fit to the data compared to the Pearson similarity-based collaborative filtering approach, which suggests that SVD with the tuned parameters provides more accurate recommendations for this dataset."
      ]
    },
    {
      "cell_type": "markdown",
      "metadata": {
        "id": "NqR3tdjkW5lp"
      },
      "source": [
        "## KNNWITHZSCORE WITH LIMITED PARAMETERS"
      ]
    },
    {
      "cell_type": "code",
      "execution_count": 86,
      "metadata": {
        "colab": {
          "base_uri": "https://localhost:8080/"
        },
        "id": "3WGKkIfCV7Rh",
        "outputId": "5486ff75-68f5-41f0-f0c9-377ea3f3deb8"
      },
      "outputs": [
        {
          "name": "stdout",
          "output_type": "stream",
          "text": [
            "Computing the cosine similarity matrix...\n",
            "Done computing similarity matrix.\n",
            "Computing the cosine similarity matrix...\n",
            "Done computing similarity matrix.\n",
            "Computing the cosine similarity matrix...\n",
            "Done computing similarity matrix.\n",
            "Computing the cosine similarity matrix...\n",
            "Done computing similarity matrix.\n",
            "Computing the cosine similarity matrix...\n",
            "Done computing similarity matrix.\n",
            "Computing the cosine similarity matrix...\n",
            "Done computing similarity matrix.\n",
            "Best RMSE: 0.9192488475137921\n",
            "Best Parameters: {'k': 10, 'sim_options': {'name': 'cosine', 'user_based': True}}\n"
          ]
        }
      ],
      "source": [
        "from surprise import Dataset, Reader, KNNWithZScore\n",
        "from surprise.model_selection import GridSearchCV\n",
        "\n",
        "# Load dataset\n",
        "reader = Reader(rating_scale=(1, 5))\n",
        "data = Dataset.load_from_df(df2[['userId', 'movieId', 'rating']], reader)\n",
        "\n",
        "# Define parameter grid for KNNWithZScore\n",
        "param_grid = {\n",
        "    'k': [5, 10],\n",
        "    'sim_options': {\n",
        "        'name': ['cosine'],\n",
        "        'user_based': [True]\n",
        "    }\n",
        "}\n",
        "\n",
        "# Perform Grid Search\n",
        "grid_search = GridSearchCV(KNNWithZScore, param_grid, measures=['rmse'], cv=3)\n",
        "grid_search.fit(data)\n",
        "\n",
        "# Print results\n",
        "print(f\"Best RMSE: {grid_search.best_score['rmse']}\")\n",
        "print(f\"Best Parameters: {grid_search.best_params['rmse']}\")\n"
      ]
    },
    {
      "cell_type": "markdown",
      "metadata": {
        "id": "itOAq5tfXkI2"
      },
      "source": [
        "The Best RMSE of 0.919 is slightly higher than some of the previously achieved RMSE values, such as 0.886 and 0.894, which indicates that this configuration, while using cosine similarity, did not perform as well as the best-performing models. The choice of k as 10 and the use of cosine similarity with a user-based approach might have contributed to this outcome.\n",
        "\n",
        "In general, cosine similarity can be beneficial for certain types of datasets or user-item interactions, but in this case, it seems that alternative similarity measures or parameter settings might offer better accuracy. It’s important to continue experimenting with different similarity measures and hyperparameters to further refine the model and potentially achieve lower RMSE values."
      ]
    },
    {
      "cell_type": "markdown",
      "metadata": {
        "id": "4Q3RP2yDZGvK"
      },
      "source": [
        "## NMF WITH DIFFERENT NUMBER OF FACTORS"
      ]
    },
    {
      "cell_type": "code",
      "execution_count": 87,
      "metadata": {
        "colab": {
          "base_uri": "https://localhost:8080/"
        },
        "id": "okKTVW0UXlK-",
        "outputId": "1372fbf8-892f-4f80-edc3-60fd737bd7b3"
      },
      "outputs": [
        {
          "name": "stdout",
          "output_type": "stream",
          "text": [
            "RMSE: 1.1661\n",
            "MAE:  0.9805\n",
            "n_factors: 5, RMSE: 1.1661475618743367, MAE: 0.9805123379795314\n",
            "RMSE: 0.9626\n",
            "MAE:  0.7653\n",
            "n_factors: 10, RMSE: 0.962564337546048, MAE: 0.7653089233812973\n"
          ]
        }
      ],
      "source": [
        "from surprise import Dataset, Reader, NMF\n",
        "from surprise.model_selection import train_test_split\n",
        "from surprise import accuracy\n",
        "\n",
        "# Load dataset\n",
        "reader = Reader(rating_scale=(1, 5))\n",
        "data = Dataset.load_from_df(df2[['userId', 'movieId', 'rating']], reader)\n",
        "trainset, testset = train_test_split(data, test_size=0.2)\n",
        "\n",
        "# Define and train NMF models with different number of factors\n",
        "for n_factors in [5, 10]:\n",
        "    model = NMF(n_factors=n_factors, n_epochs=20, reg_pu=0.1, reg_qi=0.1)\n",
        "    model.fit(trainset)\n",
        "    predictions = model.test(testset)\n",
        "\n",
        "    rmse = accuracy.rmse(predictions, verbose=True)\n",
        "    mae = accuracy.mae(predictions, verbose=True)\n",
        "\n",
        "    print(f\"n_factors: {n_factors}, RMSE: {rmse}, MAE: {mae}\")\n"
      ]
    },
    {
      "cell_type": "markdown",
      "metadata": {
        "id": "0-00HR4uZmEN"
      },
      "source": [
        "The recent tuning of the Non-negative Matrix Factorization (NMF) model with different numbers of factors provides valuable insights into the model's performance. With `n_factors` set to 5, the model yielded an RMSE of 1.1661 and an MAE of 0.9805. This relatively high error suggests that the model's accuracy is less satisfactory with fewer latent factors. Conversely, increasing the `n_factors` to 10 significantly improved the model's performance, resulting in a lower RMSE of 0.9626 and a reduced MAE of 0.7653. These improvements indicate that a higher number of factors enhances the model's ability to capture the underlying patterns in the data, thereby producing more accurate predictions. This comparative analysis underscores the importance of tuning hyperparameters to achieve optimal model performance in recommendation systems."
      ]
    },
    {
      "cell_type": "markdown",
      "metadata": {
        "id": "rdSFvf4saVgS"
      },
      "source": [
        "## KNNBASIC WITH DIFFERENT USER-BASED OPTIONS"
      ]
    },
    {
      "cell_type": "code",
      "execution_count": 88,
      "metadata": {
        "colab": {
          "base_uri": "https://localhost:8080/"
        },
        "id": "LCpg76VrZnEP",
        "outputId": "5a4a586b-b797-47fc-fa2b-889bf9905cca"
      },
      "outputs": [
        {
          "name": "stdout",
          "output_type": "stream",
          "text": [
            "Computing the cosine similarity matrix...\n",
            "Done computing similarity matrix.\n",
            "RMSE: 0.9752\n",
            "MAE:  0.7517\n",
            "User-based: True, RMSE: 0.9751626618905047, MAE: 0.7516751296275215\n",
            "Computing the cosine similarity matrix...\n",
            "Done computing similarity matrix.\n",
            "RMSE: 0.9792\n",
            "MAE:  0.7620\n",
            "User-based: False, RMSE: 0.9792481304201012, MAE: 0.761957057798657\n"
          ]
        }
      ],
      "source": [
        "from surprise import Dataset, Reader, KNNBasic\n",
        "from surprise.model_selection import train_test_split\n",
        "from surprise import accuracy\n",
        "\n",
        "# Load dataset\n",
        "reader = Reader(rating_scale=(1, 5))\n",
        "data = Dataset.load_from_df(df2[['userId', 'movieId', 'rating']], reader)\n",
        "trainset, testset = train_test_split(data, test_size=0.2)\n",
        "\n",
        "# Define and train KNNBasic models with different user-based options\n",
        "for user_based in [True, False]:\n",
        "    sim_options = {\n",
        "        'name': 'cosine',\n",
        "        'user_based': user_based\n",
        "    }\n",
        "    model = KNNBasic(sim_options=sim_options)\n",
        "    model.fit(trainset)\n",
        "    predictions = model.test(testset)\n",
        "\n",
        "    rmse = accuracy.rmse(predictions, verbose=True)\n",
        "    mae = accuracy.mae(predictions, verbose=True)\n",
        "\n",
        "    print(f\"User-based: {user_based}, RMSE: {rmse}, MAE: {mae}\")\n"
      ]
    },
    {
      "cell_type": "markdown",
      "metadata": {
        "id": "zYneQC-vbnQu"
      },
      "source": [
        "The recent tuning efforts using the cosine similarity matrix for user-based and item-based collaborative filtering models present notable comparisons with previous models. The user-based model yielded an RMSE of 0.9752 and an MAE of 0.7517, indicating a relatively accurate prediction performance. In contrast, the item-based model exhibited a slightly higher RMSE of 0.9792 and an MAE of 0.7620, suggesting marginally less accurate predictions. Comparing these results to the NMF model's performance, where the best results with `n_factors` set to 10 were an RMSE of 0.9626 and an MAE of 0.7653, we observe that the NMF model with 10 factors slightly outperforms both the user-based and item-based collaborative filtering models in terms of RMSE but shows a slightly higher MAE than the user-based model. This indicates that while the NMF model can better minimize the overall prediction error (RMSE), the user-based collaborative filtering model achieves lower average absolute error (MAE), making it slightly better at predicting the exact rating values. These comparisons highlight the importance of choosing the right algorithm and tuning parameters to balance different aspects of prediction accuracy in recommendation systems."
      ]
    },
    {
      "cell_type": "markdown",
      "metadata": {
        "id": "QsMYF1HScEcI"
      },
      "source": [
        "## KNNBASIC WITH DIFFERENT SIMILARITY MEASURES"
      ]
    },
    {
      "cell_type": "code",
      "execution_count": 89,
      "metadata": {
        "colab": {
          "base_uri": "https://localhost:8080/"
        },
        "id": "99BabateaZNA",
        "outputId": "1c8a1d42-e8a7-4b08-aae2-e4ad82bb5179"
      },
      "outputs": [
        {
          "name": "stdout",
          "output_type": "stream",
          "text": [
            "Computing the cosine similarity matrix...\n",
            "Done computing similarity matrix.\n",
            "RMSE: 0.9710\n",
            "MAE:  0.7490\n",
            "Similarity: cosine, RMSE: 0.9710103732673853, MAE: 0.7490395602876467\n",
            "Computing the msd similarity matrix...\n",
            "Done computing similarity matrix.\n",
            "RMSE: 0.9454\n",
            "MAE:  0.7256\n",
            "Similarity: msd, RMSE: 0.9454068337274208, MAE: 0.725615349291556\n",
            "Computing the pearson similarity matrix...\n",
            "Done computing similarity matrix.\n",
            "RMSE: 0.9672\n",
            "MAE:  0.7480\n",
            "Similarity: pearson, RMSE: 0.9671563241330272, MAE: 0.7480202384418501\n"
          ]
        }
      ],
      "source": [
        "from surprise import Dataset, Reader, KNNBasic\n",
        "from surprise.model_selection import train_test_split\n",
        "from surprise import accuracy\n",
        "\n",
        "# Load dataset\n",
        "reader = Reader(rating_scale=(1, 5))\n",
        "data = Dataset.load_from_df(df2[['userId', 'movieId', 'rating']], reader)\n",
        "trainset, testset = train_test_split(data, test_size=0.2)\n",
        "\n",
        "# Define and train KNNBasic models with different similarity measures\n",
        "for sim_name in ['cosine', 'msd', 'pearson']:\n",
        "    sim_options = {\n",
        "        'name': sim_name,\n",
        "        'user_based': True  # Try user-based or item-based\n",
        "    }\n",
        "    model = KNNBasic(sim_options=sim_options)\n",
        "    model.fit(trainset)\n",
        "    predictions = model.test(testset)\n",
        "\n",
        "    rmse = accuracy.rmse(predictions, verbose=True)\n",
        "    mae = accuracy.mae(predictions, verbose=True)\n",
        "\n",
        "    print(f\"Similarity: {sim_name}, RMSE: {rmse}, MAE: {mae}\")\n"
      ]
    },
    {
      "cell_type": "markdown",
      "metadata": {
        "id": "LyCVRJcvc3QW"
      },
      "source": [
        "The recent results using different similarity measures—cosine, MSD (Mean Squared Difference), and Pearson—highlight the impact of similarity metrics on the performance of collaborative filtering models. The model using cosine similarity achieved an RMSE of 0.9710 and an MAE of 0.7490, demonstrating reasonably accurate predictions. The model employing the MSD similarity metric performed better, with an RMSE of 0.9454 and an MAE of 0.7256, indicating the lowest prediction errors among the three, suggesting that the MSD similarity measure may better capture user-item interactions in this dataset. The Pearson similarity-based model showed an RMSE of 0.9672 and an MAE of 0.7480, slightly outperforming the cosine similarity model but not the MSD model.\n",
        "\n",
        "Comparing these results to previous tuning efforts, particularly the user-based cosine similarity model with an RMSE of 0.9752 and an MAE of 0.7517, the current cosine similarity model shows a slight improvement. Furthermore, the MSD similarity model exhibits the best performance across all metrics, emphasizing its efficacy in this context. The Pearson similarity model, while better than cosine, still lags behind the MSD measure. These comparisons underscore the significance of experimenting with different similarity measures to optimize the accuracy of recommendation systems."
      ]
    },
    {
      "cell_type": "markdown",
      "metadata": {
        "id": "MISaDAEdUNAX"
      },
      "source": [
        "## Evaluation"
      ]
    },
    {
      "cell_type": "markdown",
      "metadata": {
        "id": "FEU-Z16uWdaw"
      },
      "source": [
        "### Evaluation of Models for MovieLens Recommendation System\n",
        "\n",
        "In our exploration of building a recommendation system for the MovieLens dataset, we employed various collaborative filtering techniques and fine-tuned the models to improve their accuracy. Below is an evaluation of the different models based on their RMSE (Root Mean Squared Error) and MAE (Mean Absolute Error) metrics.\n",
        "\n",
        "#### 1. Initial Collaborative Filtering Model\n",
        "\n",
        "The initial model utilized the KNNBasic algorithm with the MSD (Mean Squared Difference) similarity measure. The model achieved an RMSE of 0.9424. This baseline provided a starting point for further tuning and optimization.\n",
        "\n",
        "#### 2. Fine-Tuning Using Grid Search with SVD\n",
        "\n",
        "We applied Grid Search on the SVD (Singular Value Decomposition) algorithm to find the best parameters. The best RMSE achieved through this approach was 0.8861 with the parameters:\n",
        "- n_factors: 5\n",
        "- n_epochs: 10\n",
        "- lr_all: 0.005\n",
        "- reg_all: 0.2\n",
        "\n",
        "This result demonstrated a significant improvement over the initial model, highlighting the importance of parameter tuning in enhancing model performance.\n",
        "\n",
        "#### 3. Alternative Similarity Measures\n",
        "\n",
        "We experimented with different similarity measures—cosine, MSD, and Pearson—to understand their impact on model performance. The evaluation metrics for these models were as follows:\n",
        "\n",
        "- **Cosine Similarity (User-based: True)**:\n",
        "  - RMSE: 0.9752\n",
        "  - MAE: 0.7517\n",
        "\n",
        "- **Cosine Similarity (User-based: False)**:\n",
        "  - RMSE: 0.9792\n",
        "  - MAE: 0.7620\n",
        "\n",
        "- **MSD Similarity**:\n",
        "  - RMSE: 0.9454\n",
        "  - MAE: 0.7256\n",
        "\n",
        "- **Pearson Similarity**:\n",
        "  - RMSE: 0.9672\n",
        "  - MAE: 0.7480\n",
        "\n",
        "Among these, the MSD similarity model exhibited the lowest RMSE and MAE, indicating its superior performance in capturing user-item interactions compared to cosine and Pearson similarity measures.\n",
        "\n",
        "#### 4. Hybrid System Evaluation\n",
        "\n",
        "To combine the strengths of collaborative filtering and content-based filtering, we implemented a hybrid system. The collaborative filtering component used the best parameters identified earlier, while the content-based filtering component incorporated additional movie features such as genres.\n",
        "\n",
        "The hybrid model's evaluation showed an RMSE of 0.9433, which was comparable to the MSD similarity model but did not significantly outperform it. This suggests that while hybrid models can offer additional contextual recommendations, the gain in prediction accuracy may be limited without further tuning and integration of more diverse features.\n",
        "\n",
        "#### Summary\n",
        "\n",
        "The evaluation of different models and tuning strategies has underscored the importance of fine-tuning and experimenting with various similarity measures. The SVD model with fine-tuned parameters (RMSE: 0.8861) and the MSD similarity model (RMSE: 0.9454) emerged as top performers. These models achieved lower prediction errors compared to initial attempts, indicating a more refined recommendation system.\n",
        "\n",
        "Further exploration could involve more advanced hybrid techniques, incorporating deeper content-based features and employing more sophisticated machine learning algorithms to enhance recommendation accuracy. The continuous tuning and evaluation process is crucial for developing a robust recommendation system that meets the desired performance metrics for practical applications."
      ]
    },
    {
      "cell_type": "markdown",
      "metadata": {
        "id": "VMHO67GKVr_b"
      },
      "source": [
        "# 5. CONCLUSION"
      ]
    },
    {
      "cell_type": "markdown",
      "metadata": {
        "id": "Op962O6yVrRS"
      },
      "source": [
        "## Data Analysis:\n",
        "\n",
        "Top 10 most produced genres were the top 10 most rated genres\n",
        "\n",
        "## Recommendation System\n",
        "\n",
        "SVD and BaselineOnly had the lowest RMSE values indicating better prediction accuracy compared to the other models. The Ensemble model performs slightly worse than SVD in terms of RMSE but is still considered to have good accuracy. The ALS-based Matrix Factorization model and MF algorithm with ALS have higher RMSE values, suggesting lower accuracy. The Hybrid strategy also shows a higher RMSE value compared to SVD, indicating comparatively lower accuracy.### Conclusion\n",
        "\n",
        "In developing a movie recommendation system using the MovieLens dataset, we explored various collaborative filtering and hybrid strategies to determine the most effective approach. Our primary objective was to create a model that offers accurate, diverse, and personalized recommendations to users. Here are the key findings and insights from our analysis:\n",
        "\n",
        "#### Collaborative Filtering Models\n",
        "\n",
        "1. **SVD (Singular Value Decomposition):**\n",
        "   - The SVD model achieved the lowest RMSE and relatively low MAE values, indicating it performs well in predicting user ratings accurately. This model’s ability to capture latent factors in the user-item interaction matrix makes it a robust choice for collaborative filtering.\n",
        "   - **Performance Metrics:**\n",
        "     - Best RMSE: 0.886\n",
        "     - MAE: 0.980\n",
        "\n",
        "2. **KNN-Based Models:**\n",
        "   - Both user-based and item-based KNN models showed competitive performance, with slight variations based on the similarity metrics (cosine, MSD, Pearson).\n",
        "   - **Performance Metrics:**\n",
        "     - Cosine Similarity: RMSE: 0.971, MAE: 0.749\n",
        "     - MSD Similarity: RMSE: 0.945, MAE: 0.726\n",
        "     - Pearson Similarity: RMSE: 0.967, MAE: 0.748\n",
        "\n",
        "3. **BaselineOnly Model:**\n",
        "   - This model provided consistent results, leveraging baseline estimates for user and item biases. Its performance was comparable to SVD, making it another viable option for collaborative filtering.\n",
        "   - **Performance Metrics:** Similar RMSE and MAE values to SVD.\n",
        "\n",
        "#### Hybrid Models\n",
        "\n",
        "4. **Hybrid Model (Collaborative + Content-Based Filtering):**\n",
        "   - The hybrid approach combines collaborative filtering with content-based filtering to leverage both user-item interactions and item attributes. While the initial RMSE was higher than SVD, further tuning and incorporating additional content features could enhance its performance.\n",
        "   - **Performance Metrics:**\n",
        "     - Initial RMSE: 0.943\n",
        "     - MAE: Higher than collaborative models but offers potential for improvement.\n",
        "\n",
        "\n",
        "#### Conclusion\n",
        "\n",
        "Through our exploration, we identified that the SVD model and the BaselineOnly model, with fine-tuning, emerged as the most effective collaborative filtering strategies. These models offer a balance between accuracy and computational efficiency. The hybrid approach, while initially showing higher RMSE, holds potential for improvement and can provide diverse recommendations by leveraging both collaborative and content-based filtering.\n",
        "\n",
        "Future work should focus on further fine-tuning these models, incorporating additional features, and evaluating real-world metrics such as user satisfaction and engagement. By continuously refining these models, we can develop a recommendation system that not only predicts user preferences accurately but also enhances user experience through personalized and diverse recommendations."
      ]
    },
    {
      "cell_type": "markdown",
      "metadata": {
        "id": "657eUYYGV7SA"
      },
      "source": [
        "# 6. RECOMMENDATION"
      ]
    },
    {
      "cell_type": "markdown",
      "metadata": {
        "id": "CsR389qeV7lo"
      },
      "source": [
        "1. As SVD and BaselineOnly model had the lowest RMSE and relatively low MAE values, meaning they are both a good option for the collaborative filtering recommendation system, we recommend comparing these two models based on other metrics, such as coverage and diversity, to make a final decision.\n",
        "2. The ensemble model also performs well with a slightly higher RMSE compared to SVD. As this model allows for diversity and variety in recommendations, we recommend applying the ensemble model and seeing how it performs on the recommendation system.\n",
        "3. The Hybrid strategy that combines collaborative filtering and content-based filtering is a good alternative option although it has a higher RMSE compared to SVD, we recommend further investigation and fine-tunning this strategy to improve its performance.\n",
        "Utilize Additional Features:\n",
        "\n",
        "4. Enhance the content-based filtering part of the hybrid model by incorporating more features like movie metadata (e.g., director, cast, and release year). This can improve the performance of the hybrid strategy.\n",
        "User-based vs. Item-based:\n",
        "\n",
        "5. Compare the performance of user-based and item-based collaborative filtering models. Although the user-based model may have performed slightly better, the item-based model could be beneficial in scenarios with sparse data.\n",
        "Regularization Tuning:\n",
        "\n",
        "6. Experiment with different regularization parameters (reg_all) to prevent overfitting. Regularization can help improve the model’s generalizability and overall performance on unseen data.\n",
        "Use of Implicit Feedback:\n",
        "\n",
        "7. Consider incorporating implicit feedback (e.g., watch duration, clicks) along with explicit ratings. Implicit feedback can provide additional insights into user preferences and enhance recommendation accuracy."
      ]
    },
    {
      "cell_type": "markdown",
      "metadata": {
        "id": "08CYzm87X1B9"
      },
      "source": [
        "**Notebook compiled by Jerry Narkiso and Mourine Kitili**"
      ]
    }
  ],
  "metadata": {
    "colab": {
      "provenance": []
    },
    "kernelspec": {
      "display_name": "Python 3",
      "name": "python3"
    },
    "language_info": {
      "name": "python"
    }
  },
  "nbformat": 4,
  "nbformat_minor": 0
}
